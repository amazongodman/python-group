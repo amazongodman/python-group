{
  "nbformat": 4,
  "nbformat_minor": 0,
  "metadata": {
    "colab": {
      "name": "Untitled0.ipynb",
      "provenance": []
    },
    "kernelspec": {
      "name": "python3",
      "display_name": "Python 3"
    }
  },
  "cells": [
    {
      "cell_type": "code",
      "metadata": {
        "id": "dgB11cpb-1AV"
      },
      "source": [
        "https://www.kaggle.com/synnfusion/softmax-on-mnist-from-scratch"
      ],
      "execution_count": null,
      "outputs": []
    },
    {
      "cell_type": "code",
      "metadata": {
        "id": "utr7WmU6-1xD"
      },
      "source": [
        "%matplotlib inline\r\n",
        "import matplotlib.pyplot as plt\r\n",
        "import numpy as np\r\n",
        "from sklearn.metrics import confusion_matrix"
      ],
      "execution_count": 1,
      "outputs": []
    },
    {
      "cell_type": "code",
      "metadata": {
        "colab": {
          "base_uri": "https://localhost:8080/",
          "height": 35
        },
        "id": "ja8c7h4i-12I",
        "outputId": "b4d84804-6a08-4eba-9aa9-50a7579636ff"
      },
      "source": [
        "import tensorflow as tf\r\n",
        "tf.__version__"
      ],
      "execution_count": 2,
      "outputs": [
        {
          "output_type": "execute_result",
          "data": {
            "application/vnd.google.colaboratory.intrinsic+json": {
              "type": "string"
            },
            "text/plain": [
              "'2.3.0'"
            ]
          },
          "metadata": {
            "tags": []
          },
          "execution_count": 2
        }
      ]
    },
    {
      "cell_type": "code",
      "metadata": {
        "id": "YFSZHSDq_U4t"
      },
      "source": [
        "from tensorflow.keras.datasets import mnist\r\n",
        "\r\n",
        "(x_train, y_train), (x_test, y_test) = mnist.load_data()"
      ],
      "execution_count": 3,
      "outputs": []
    },
    {
      "cell_type": "code",
      "metadata": {
        "id": "cyt0CDYY_uK8"
      },
      "source": [
        "from sklearn.model_selection import train_test_split"
      ],
      "execution_count": 4,
      "outputs": []
    },
    {
      "cell_type": "code",
      "metadata": {
        "id": "7sLUr8og_uIn"
      },
      "source": [
        "X_train, X_valid = train_test_split(x_train, test_size=0.085, shuffle=False)\r\n",
        "Y_train, Y_valid = train_test_split(y_train, test_size=0.085, shuffle=False)\r\n"
      ],
      "execution_count": 5,
      "outputs": []
    },
    {
      "cell_type": "code",
      "metadata": {
        "colab": {
          "base_uri": "https://localhost:8080/"
        },
        "id": "X9VtLfUP_UzR",
        "outputId": "d76f6307-7e69-4113-d454-8b61996748d6"
      },
      "source": [
        "X_train.shape"
      ],
      "execution_count": 6,
      "outputs": [
        {
          "output_type": "execute_result",
          "data": {
            "text/plain": [
              "(54900, 28, 28)"
            ]
          },
          "metadata": {
            "tags": []
          },
          "execution_count": 6
        }
      ]
    },
    {
      "cell_type": "code",
      "metadata": {
        "colab": {
          "base_uri": "https://localhost:8080/"
        },
        "id": "DOm8SpGAAhkW",
        "outputId": "33af4d8d-689a-4830-96e4-8a64e434e2a5"
      },
      "source": [
        "X_valid.shape"
      ],
      "execution_count": 7,
      "outputs": [
        {
          "output_type": "execute_result",
          "data": {
            "text/plain": [
              "(5100, 28, 28)"
            ]
          },
          "metadata": {
            "tags": []
          },
          "execution_count": 7
        }
      ]
    },
    {
      "cell_type": "code",
      "metadata": {
        "id": "hwV3hD4cAheY"
      },
      "source": [
        ""
      ],
      "execution_count": 7,
      "outputs": []
    },
    {
      "cell_type": "code",
      "metadata": {
        "colab": {
          "base_uri": "https://localhost:8080/"
        },
        "id": "DeGsRkH8-16z",
        "outputId": "cd39c708-f426-4bd1-d1a9-305a1187401d"
      },
      "source": [
        "Y_valid"
      ],
      "execution_count": 8,
      "outputs": [
        {
          "output_type": "execute_result",
          "data": {
            "text/plain": [
              "array([0, 1, 5, ..., 5, 6, 8], dtype=uint8)"
            ]
          },
          "metadata": {
            "tags": []
          },
          "execution_count": 8
        }
      ]
    },
    {
      "cell_type": "code",
      "metadata": {
        "colab": {
          "base_uri": "https://localhost:8080/",
          "height": 282
        },
        "id": "deON7Bpf-18_",
        "outputId": "6cf74b44-2289-453a-ecaa-065cb18d28a4"
      },
      "source": [
        "plt.imshow(X_valid[0])"
      ],
      "execution_count": 9,
      "outputs": [
        {
          "output_type": "execute_result",
          "data": {
            "text/plain": [
              "<matplotlib.image.AxesImage at 0x7eff2a28ca58>"
            ]
          },
          "metadata": {
            "tags": []
          },
          "execution_count": 9
        },
        {
          "output_type": "display_data",
          "data": {
            "image/png": "[encoded data removed]",
            "text/plain": [
              "<Figure size 432x288 with 1 Axes>"
            ]
          },
          "metadata": {
            "tags": [],
            "needs_background": "light"
          }
        }
      ]
    },
    {
      "cell_type": "code",
      "metadata": {
        "colab": {
          "base_uri": "https://localhost:8080/",
          "height": 282
        },
        "id": "-RrvZiP0-1_j",
        "outputId": "20be0fda-e28b-4d1a-f8d9-7456c886e110"
      },
      "source": [
        "plt.imshow(X_valid[1])"
      ],
      "execution_count": 10,
      "outputs": [
        {
          "output_type": "execute_result",
          "data": {
            "text/plain": [
              "<matplotlib.image.AxesImage at 0x7eff29de9128>"
            ]
          },
          "metadata": {
            "tags": []
          },
          "execution_count": 10
        },
        {
          "output_type": "display_data",
          "data": {
            "image/png": "[encoded data removed]",
            "text/plain": [
              "<Figure size 432x288 with 1 Axes>"
            ]
          },
          "metadata": {
            "tags": [],
            "needs_background": "light"
          }
        }
      ]
    },
    {
      "cell_type": "code",
      "metadata": {
        "colab": {
          "base_uri": "https://localhost:8080/",
          "height": 282
        },
        "id": "3MuCWDKd-2CG",
        "outputId": "ca94a817-04e8-4d2d-ff98-afa995af492b"
      },
      "source": [
        "plt.imshow(X_valid[2])"
      ],
      "execution_count": 11,
      "outputs": [
        {
          "output_type": "execute_result",
          "data": {
            "text/plain": [
              "<matplotlib.image.AxesImage at 0x7eff29d4b5c0>"
            ]
          },
          "metadata": {
            "tags": []
          },
          "execution_count": 11
        },
        {
          "output_type": "display_data",
          "data": {
            "image/png": "[encoded data removed]",
            "text/plain": [
              "<Figure size 432x288 with 1 Axes>"
            ]
          },
          "metadata": {
            "tags": [],
            "needs_background": "light"
          }
        }
      ]
    },
    {
      "cell_type": "code",
      "metadata": {
        "id": "ghWd6p-O-2Ej"
      },
      "source": [
        "def plot_images(images, cls_true, cls_pred=None):\r\n",
        "    assert len(images) == len(cls_true) == 9\r\n",
        "    \r\n",
        "    fig, axes = plt.subplots(3, 3)\r\n",
        "    fig.subplots_adjust(hspace=0.3, wspace=0.3)\r\n",
        "\r\n",
        "    for i, ax in enumerate(axes.flat):\r\n",
        "        ax.imshow(images[i].reshape(28,28), cmap='binary')\r\n",
        "\r\n",
        "        if cls_pred is None:\r\n",
        "            xlabel = \"True: {0}\".format(cls_true[i])\r\n",
        "        else:\r\n",
        "            xlabel = \"True: {0}, Pred: {1}\".format(cls_true[i], cls_pred[i])\r\n",
        "\r\n",
        "        ax.set_xlabel(xlabel)\r\n",
        "        ax.set_xticks([])\r\n",
        "        ax.set_yticks([])\r\n",
        "        \r\n",
        "    plt.show()"
      ],
      "execution_count": 12,
      "outputs": []
    },
    {
      "cell_type": "code",
      "metadata": {
        "colab": {
          "base_uri": "https://localhost:8080/",
          "height": 262
        },
        "id": "MYJtqs_N-2HW",
        "outputId": "748a0fe2-1ce9-4043-85a0-a6f33ae34226"
      },
      "source": [
        "plot_images(images=X_valid[0:9], cls_true=Y_valid[0:9])"
      ],
      "execution_count": 13,
      "outputs": [
        {
          "output_type": "display_data",
          "data": {
            "image/png": "[encoded data removed]",
            "text/plain": [
              "<Figure size 432x288 with 9 Axes>"
            ]
          },
          "metadata": {
            "tags": []
          }
        }
      ]
    },
    {
      "cell_type": "code",
      "metadata": {
        "id": "lJKYSZGlQNnu"
      },
      "source": [
        ""
      ],
      "execution_count": 13,
      "outputs": []
    },
    {
      "cell_type": "code",
      "metadata": {
        "id": "FmEeig2TQNlG"
      },
      "source": [
        "import numpy as np\r\n",
        "import matplotlib as mpl\r\n",
        "import matplotlib.pyplot as plt\r\n",
        "from sklearn.datasets import fetch_openml\r\n",
        "\r\n",
        "mnist = fetch_openml('mnist_784', version = 1)\r\n",
        "\r\n",
        "\r\n",
        "shuffle_index = np.random.permutation(70000)\r\n",
        "X, Y = mnist[\"data\"][shuffle_index]/255, mnist[\"target\"][shuffle_index]\r\n",
        "\r\n",
        "x_train, x_test, y_train, y_test = X[:60000], X[60000:], Y[:60000].astype(int), Y[60000:].astype(int)\r\n",
        "\r\n"
      ],
      "execution_count": 14,
      "outputs": []
    },
    {
      "cell_type": "code",
      "metadata": {
        "id": "MK7IJduOQNin"
      },
      "source": [
        ""
      ],
      "execution_count": 14,
      "outputs": []
    },
    {
      "cell_type": "code",
      "metadata": {
        "id": "GiDsYlkrQNgL"
      },
      "source": [
        ""
      ],
      "execution_count": 14,
      "outputs": []
    },
    {
      "cell_type": "code",
      "metadata": {
        "id": "JJxX2jjRQNdn"
      },
      "source": [
        ""
      ],
      "execution_count": 14,
      "outputs": []
    },
    {
      "cell_type": "code",
      "metadata": {
        "id": "1sEB5rY_QNbl"
      },
      "source": [
        ""
      ],
      "execution_count": 14,
      "outputs": []
    },
    {
      "cell_type": "code",
      "metadata": {
        "id": "BOQKzvmpQNZB"
      },
      "source": [
        ""
      ],
      "execution_count": 14,
      "outputs": []
    },
    {
      "cell_type": "code",
      "metadata": {
        "id": "FpO6ByzJKTyt"
      },
      "source": [
        ""
      ],
      "execution_count": 14,
      "outputs": []
    },
    {
      "cell_type": "code",
      "metadata": {
        "id": "g46PdIEwKTwA"
      },
      "source": [
        "def naive_compute_probabilities(X, theta):\r\n",
        "\r\n",
        "    k = theta.shape[0]\r\n",
        "    n = X.shape[0]\r\n",
        "    H = np.zeros([k,n])\r\n",
        "\r\n",
        "    for i in range(n):\r\n",
        "        dpoint = X[i]\r\n",
        "        c_vector = np.zeros(k)\r\n",
        "        for j in range(k):\r\n",
        "            c_vector[j] = (np.dot(theta[j], dpoint))\r\n",
        "            c = np.amax(c_vector)\r\n",
        "        summation = 0\r\n",
        "        \r\n",
        "        for j in range(k): \r\n",
        "            exponent = np.dot(theta[j], dpoint) - c\r\n",
        "            summation += np.exp(exponent)\r\n",
        "            H[j][i] = np.exp(exponent)\r\n",
        "\r\n",
        "        H[:,i] = H[:,i]/summation\r\n",
        "\r\n",
        "    return H"
      ],
      "execution_count": 15,
      "outputs": []
    },
    {
      "cell_type": "code",
      "metadata": {
        "colab": {
          "base_uri": "https://localhost:8080/"
        },
        "id": "oPdOKVbSKTtN",
        "outputId": "5deabd97-beeb-4353-98ba-4d5d40c11697"
      },
      "source": [
        "import time\r\n",
        "\r\n",
        "theta = np.zeros([10, 784])\r\n",
        "\r\n",
        "start = time.time()\r\n",
        "probs = naive_compute_probabilities(x_train.reshape(len(x_train),784), theta)\r\n",
        "end = time.time()\r\n",
        "end - start"
      ],
      "execution_count": 16,
      "outputs": [
        {
          "output_type": "execute_result",
          "data": {
            "text/plain": [
              "7.995183706283569"
            ]
          },
          "metadata": {
            "tags": []
          },
          "execution_count": 16
        }
      ]
    },
    {
      "cell_type": "code",
      "metadata": {
        "id": "ch1vhn9AKTqp"
      },
      "source": [
        "#theta randomly initialized\r\n",
        "\r\n",
        "#theta = np.random.randint(0, 10, [10,x_train.shape[1]])"
      ],
      "execution_count": 17,
      "outputs": []
    },
    {
      "cell_type": "code",
      "metadata": {
        "id": "stP-LUrvKToa"
      },
      "source": [
        ""
      ],
      "execution_count": 17,
      "outputs": []
    },
    {
      "cell_type": "code",
      "metadata": {
        "colab": {
          "base_uri": "https://localhost:8080/"
        },
        "id": "4-q9IBG7KTmE",
        "outputId": "b35dde51-72a3-4736-fd35-c64931a9cbf7"
      },
      "source": [
        "a = np.array([1,2,3,4,5])\r\n",
        "b = np.array([8,8,8,8,8])\r\n",
        "\r\n",
        "a_dot_b = sum([a[i]*b[i] for i in range(len(a))])\r\n",
        "a_dot_b"
      ],
      "execution_count": 18,
      "outputs": [
        {
          "output_type": "execute_result",
          "data": {
            "text/plain": [
              "120"
            ]
          },
          "metadata": {
            "tags": []
          },
          "execution_count": 18
        }
      ]
    },
    {
      "cell_type": "code",
      "metadata": {
        "colab": {
          "base_uri": "https://localhost:8080/"
        },
        "id": "yAydvEQiKTjP",
        "outputId": "f4b5bc59-26ea-4915-8171-725af2c41e12"
      },
      "source": [
        "np.dot(a,b)"
      ],
      "execution_count": 19,
      "outputs": [
        {
          "output_type": "execute_result",
          "data": {
            "text/plain": [
              "120"
            ]
          },
          "metadata": {
            "tags": []
          },
          "execution_count": 19
        }
      ]
    },
    {
      "cell_type": "code",
      "metadata": {
        "id": "nt3rTWw8KTgl"
      },
      "source": [
        "def vectorized_compute_probabilities(X, theta):\r\n",
        "    \r\n",
        "    theta_XT = np.matmul(theta, np.transpose(X))\r\n",
        "\r\n",
        "    c = np.amax(theta_XT, axis = 0)\r\n",
        "\r\n",
        "    exp_matrix = np.exp(theta_XT - c)\r\n",
        "\r\n",
        "    sum_vector = np.sum(exp_matrix, axis = 0)\r\n",
        "\r\n",
        "    return exp_matrix/sum_vector"
      ],
      "execution_count": 20,
      "outputs": []
    },
    {
      "cell_type": "code",
      "metadata": {
        "id": "hDLvKK2pKTds"
      },
      "source": [
        "#この計算の方がはやい"
      ],
      "execution_count": 21,
      "outputs": []
    },
    {
      "cell_type": "code",
      "metadata": {
        "colab": {
          "base_uri": "https://localhost:8080/"
        },
        "id": "P7nn9rb1L1D9",
        "outputId": "bd2cf4f8-a6ef-40bf-c929-7d409a19caad"
      },
      "source": [
        "theta = np.zeros([10, 784])\r\n",
        "\r\n",
        "start = time.time()\r\n",
        "probs = vectorized_compute_probabilities(x_train.reshape(len(x_train),784), theta)\r\n",
        "end = time.time()\r\n",
        "end - start"
      ],
      "execution_count": 22,
      "outputs": [
        {
          "output_type": "execute_result",
          "data": {
            "text/plain": [
              "0.16210365295410156"
            ]
          },
          "metadata": {
            "tags": []
          },
          "execution_count": 22
        }
      ]
    },
    {
      "cell_type": "code",
      "metadata": {
        "id": "tMt5TrVYL1BG"
      },
      "source": [
        "import scipy.sparse as sparse\r\n",
        "\r\n",
        "def gradient_descent_iteration(X, Y, theta, alpha, lambda_factor):\r\n",
        "    \r\n",
        "    n = len(Y)\r\n",
        "    k = theta.shape[0]\r\n",
        "    data = [1]*n\r\n",
        "    \r\n",
        "    H = vectorized_compute_probabilities(X, theta)\r\n",
        "    M = sparse.coo_matrix((data, (Y, range(n))), shape=(k,n)).toarray()\r\n",
        "    \r\n",
        "    first_term = np.matmul(M-H, X)*(-1/n)\r\n",
        "    second_term = lambda_factor * theta\r\n",
        "\r\n",
        "    return theta - alpha * (first_term + second_term)"
      ],
      "execution_count": 23,
      "outputs": []
    },
    {
      "cell_type": "code",
      "metadata": {
        "id": "LJI2bTXJNKfZ"
      },
      "source": [
        ""
      ],
      "execution_count": 23,
      "outputs": []
    },
    {
      "cell_type": "code",
      "metadata": {
        "id": "wiCDtihWNKdE"
      },
      "source": [
        "n = len(y_train)\r\n",
        "data = [1]*n"
      ],
      "execution_count": 24,
      "outputs": []
    },
    {
      "cell_type": "code",
      "metadata": {
        "id": "0_3Wh4lTNOht"
      },
      "source": [
        "k = 10"
      ],
      "execution_count": 25,
      "outputs": []
    },
    {
      "cell_type": "code",
      "metadata": {
        "id": "iilgOc-0NOfP"
      },
      "source": [
        "M = sparse.coo_matrix((data, (y_train, range(n))), shape=(k,n)).toarray()\r\n",
        "M.shape"
      ],
      "execution_count": 26,
      "outputs": []
    },
    {
      "cell_type": "code",
      "metadata": {
        "id": "q2ZigDv0WxOE"
      },
      "source": [
        ""
      ],
      "execution_count": null,
      "outputs": []
    },
    {
      "cell_type": "code",
      "metadata": {
        "id": "PhzRP-d6OB10"
      },
      "source": [
        ""
      ],
      "execution_count": 26,
      "outputs": []
    },
    {
      "cell_type": "code",
      "metadata": {
        "id": "JHwtwmnsL0-Q"
      },
      "source": [
        "def my_predict(X, theta):\r\n",
        "    X = augment_feature_vector(X)\r\n",
        "    probabilities = vectorized_compute_probabilities(X, theta)\r\n",
        "    return np.argmax(probabilities, axis = 0)"
      ],
      "execution_count": 27,
      "outputs": []
    },
    {
      "cell_type": "code",
      "metadata": {
        "id": "S_KztsBJL07o"
      },
      "source": [
        "def compute_accuracy(X, Y, theta):\r\n",
        "    predictions = my_predict(X, theta)\r\n",
        "    return np.mean(predictions == Y), predictions"
      ],
      "execution_count": 35,
      "outputs": []
    },
    {
      "cell_type": "code",
      "metadata": {
        "id": "d97dDTk3L04w"
      },
      "source": [
        "def softmax_regression(X, Y, alpha, lambda_factor, k, num_iterations):   \r\n",
        "    \r\n",
        "    X = augment_feature_vector(X)\r\n",
        "    theta = np.zeros([k, X.shape[1]])\r\n",
        "    for i in range(num_iterations):\r\n",
        "        theta = gradient_descent_iteration(X, Y, theta, alpha, lambda_factor)\r\n",
        "    \r\n",
        "    return theta"
      ],
      "execution_count": 29,
      "outputs": []
    },
    {
      "cell_type": "code",
      "metadata": {
        "id": "ZSO4j_ByVf3D"
      },
      "source": [
        "def augment_feature_vector(X):\r\n",
        "    return np.hstack((np.ones([len(X), 1]), X))"
      ],
      "execution_count": 31,
      "outputs": []
    },
    {
      "cell_type": "code",
      "metadata": {
        "id": "F4y519b7L018"
      },
      "source": [
        "theta_final = softmax_regression(x_train.reshape(len(x_train),784), y_train, alpha = .3, \r\n",
        "                           lambda_factor = 1.0e-4, k = 10, num_iterations = 100)"
      ],
      "execution_count": 32,
      "outputs": []
    },
    {
      "cell_type": "code",
      "metadata": {
        "id": "tOKA2pXLL0zC"
      },
      "source": [
        "acc, pred = compute_accuracy(x_train.reshape(len(x_train),784), y_train, theta_final)"
      ],
      "execution_count": 36,
      "outputs": []
    },
    {
      "cell_type": "code",
      "metadata": {
        "colab": {
          "base_uri": "https://localhost:8080/"
        },
        "id": "wkO6f9PHL0wK",
        "outputId": "daa4a70a-16bc-4267-f001-c061ef5686c1"
      },
      "source": [
        "acc"
      ],
      "execution_count": 37,
      "outputs": [
        {
          "output_type": "execute_result",
          "data": {
            "text/plain": [
              "0.8864166666666666"
            ]
          },
          "metadata": {
            "tags": []
          },
          "execution_count": 37
        }
      ]
    },
    {
      "cell_type": "code",
      "metadata": {
        "colab": {
          "base_uri": "https://localhost:8080/"
        },
        "id": "HPfRimwLV-tQ",
        "outputId": "4994cf88-c66a-47c5-8e83-2202e1e69e50"
      },
      "source": [
        "y_train"
      ],
      "execution_count": 39,
      "outputs": [
        {
          "output_type": "execute_result",
          "data": {
            "text/plain": [
              "array([0, 5, 8, ..., 6, 0, 4])"
            ]
          },
          "metadata": {
            "tags": []
          },
          "execution_count": 39
        }
      ]
    },
    {
      "cell_type": "code",
      "metadata": {
        "colab": {
          "base_uri": "https://localhost:8080/"
        },
        "id": "487TRmw_V65A",
        "outputId": "da9b2ae7-fc9b-472e-fabe-325244a9c0cd"
      },
      "source": [
        "pred"
      ],
      "execution_count": 38,
      "outputs": [
        {
          "output_type": "execute_result",
          "data": {
            "text/plain": [
              "array([0, 5, 8, ..., 6, 0, 4])"
            ]
          },
          "metadata": {
            "tags": []
          },
          "execution_count": 38
        }
      ]
    },
    {
      "cell_type": "code",
      "metadata": {
        "colab": {
          "base_uri": "https://localhost:8080/"
        },
        "id": "lz3602KOL0tJ",
        "outputId": "8ad72fd3-c2e0-4bbf-e433-825d37da6717"
      },
      "source": [
        "acc, pred = compute_accuracy(x_test, y_test, theta_final)\r\n",
        "acc"
      ],
      "execution_count": 40,
      "outputs": [
        {
          "output_type": "execute_result",
          "data": {
            "text/plain": [
              "0.8883"
            ]
          },
          "metadata": {
            "tags": []
          },
          "execution_count": 40
        }
      ]
    },
    {
      "cell_type": "code",
      "metadata": {
        "colab": {
          "base_uri": "https://localhost:8080/"
        },
        "id": "PeUF_gMYOqkN",
        "outputId": "f8303226-a008-4c39-c4f7-9e7ff56b2872"
      },
      "source": [
        "theta_final.shape"
      ],
      "execution_count": 42,
      "outputs": [
        {
          "output_type": "execute_result",
          "data": {
            "text/plain": [
              "(10, 785)"
            ]
          },
          "metadata": {
            "tags": []
          },
          "execution_count": 42
        }
      ]
    },
    {
      "cell_type": "code",
      "metadata": {
        "id": "ALwGBYW4OsTb"
      },
      "source": [
        "x_train.shape"
      ],
      "execution_count": null,
      "outputs": []
    },
    {
      "cell_type": "code",
      "metadata": {
        "id": "ebyBwJ7cOsQw"
      },
      "source": [
        "y_train.shape"
      ],
      "execution_count": null,
      "outputs": []
    },
    {
      "cell_type": "code",
      "metadata": {
        "id": "2numszNoL0lH"
      },
      "source": [
        ""
      ],
      "execution_count": null,
      "outputs": []
    },
    {
      "cell_type": "code",
      "metadata": {
        "id": "Dojzlcv-L0iM"
      },
      "source": [
        ""
      ],
      "execution_count": null,
      "outputs": []
    },
    {
      "cell_type": "code",
      "metadata": {
        "id": "dc75rhtyL0fd"
      },
      "source": [
        ""
      ],
      "execution_count": null,
      "outputs": []
    },
    {
      "cell_type": "code",
      "metadata": {
        "id": "1X4NBMubL0cd"
      },
      "source": [
        ""
      ],
      "execution_count": null,
      "outputs": []
    },
    {
      "cell_type": "code",
      "metadata": {
        "id": "wtwOi4pTL0Z3"
      },
      "source": [
        ""
      ],
      "execution_count": null,
      "outputs": []
    },
    {
      "cell_type": "code",
      "metadata": {
        "id": "Nb7zyC6TL0XI"
      },
      "source": [
        ""
      ],
      "execution_count": null,
      "outputs": []
    },
    {
      "cell_type": "code",
      "metadata": {
        "id": "GetyE5okL0UI"
      },
      "source": [
        ""
      ],
      "execution_count": null,
      "outputs": []
    },
    {
      "cell_type": "code",
      "metadata": {
        "id": "S4llkiBCL0Rp"
      },
      "source": [
        ""
      ],
      "execution_count": null,
      "outputs": []
    },
    {
      "cell_type": "code",
      "metadata": {
        "id": "RPS8ewutL0O5"
      },
      "source": [
        ""
      ],
      "execution_count": null,
      "outputs": []
    },
    {
      "cell_type": "code",
      "metadata": {
        "id": "uGID9I1CL0MK"
      },
      "source": [
        ""
      ],
      "execution_count": null,
      "outputs": []
    },
    {
      "cell_type": "code",
      "metadata": {
        "id": "jT_sLd7QL0Hb"
      },
      "source": [
        ""
      ],
      "execution_count": null,
      "outputs": []
    }
  ]
}
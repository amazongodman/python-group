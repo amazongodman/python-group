{
  "nbformat": 4,
  "nbformat_minor": 0,
  "metadata": {
    "colab": {
      "name": "チュートリアル1210.ipynb",
      "provenance": [],
      "collapsed_sections": []
    },
    "kernelspec": {
      "display_name": "Python 3",
      "name": "python3"
    }
  },
  "cells": [
    {
      "cell_type": "code",
      "metadata": {
        "id": "GFzP0binQSzt"
      },
      "source": [
        ""
      ],
      "execution_count": null,
      "outputs": []
    },
    {
      "cell_type": "code",
      "metadata": {
        "colab": {
          "base_uri": "https://localhost:8080/"
        },
        "id": "LnaksOY3QTiu",
        "outputId": "5ce82af0-6798-4169-8231-10124714db5a"
      },
      "source": [
        "import tensorflow as tf\r\n",
        "\r\n",
        "print(tf.__version__)\r\n"
      ],
      "execution_count": null,
      "outputs": [
        {
          "output_type": "stream",
          "text": [
            "2.3.0\n"
          ],
          "name": "stdout"
        }
      ]
    },
    {
      "cell_type": "code",
      "metadata": {
        "id": "eFQfiTm-TZmZ"
      },
      "source": [
        ""
      ],
      "execution_count": null,
      "outputs": []
    },
    {
      "cell_type": "code",
      "metadata": {
        "id": "98IeuBexTZbL"
      },
      "source": [
        "#https://www.tensorflow.org/tutorials/customization/basics?hl=ja\r\n",
        "#https://www.tensorflow.org/guide/eager"
      ],
      "execution_count": null,
      "outputs": []
    },
    {
      "cell_type": "code",
      "metadata": {
        "colab": {
          "base_uri": "https://localhost:8080/"
        },
        "id": "2kvE_dCWQTmR",
        "outputId": "6e27ad12-2f39-43fc-faa8-3ccc26bd95d2"
      },
      "source": [
        "tf.executing_eagerly()\r\n",
        "#TensorFlow 2.0 では、 Eager Execution はデフォルトで有効化されます。"
      ],
      "execution_count": null,
      "outputs": [
        {
          "output_type": "execute_result",
          "data": {
            "text/plain": [
              "True"
            ]
          },
          "metadata": {
            "tags": []
          },
          "execution_count": 2
        }
      ]
    },
    {
      "cell_type": "code",
      "metadata": {
        "colab": {
          "base_uri": "https://localhost:8080/"
        },
        "id": "nVIDYP6-QTpV",
        "outputId": "c75ae67b-9902-4d24-e912-40b92736af5f"
      },
      "source": [
        "x = [[2.]]\r\n",
        "m = tf.matmul(x, x)\r\n",
        "m\r\n",
        "#https://www.includehelp.com/python/numpy-matmul-for-matrix-multiplication.aspx"
      ],
      "execution_count": null,
      "outputs": [
        {
          "output_type": "execute_result",
          "data": {
            "text/plain": [
              "<tf.Tensor: shape=(1, 1), dtype=float32, numpy=array([[4.]], dtype=float32)>"
            ]
          },
          "metadata": {
            "tags": []
          },
          "execution_count": 3
        }
      ]
    },
    {
      "cell_type": "code",
      "metadata": {
        "colab": {
          "base_uri": "https://localhost:8080/"
        },
        "id": "Z7I6Wmb1QTrL",
        "outputId": "01ce2c2d-9ebd-410d-9db3-9bf87922d1c0"
      },
      "source": [
        "#定数\r\n",
        "a = tf.constant([[1, 2],\r\n",
        "                 [3, 4]])\r\n",
        "print(a)"
      ],
      "execution_count": null,
      "outputs": [
        {
          "output_type": "stream",
          "text": [
            "tf.Tensor(\n",
            "[[1 2]\n",
            " [3 4]], shape=(2, 2), dtype=int32)\n"
          ],
          "name": "stdout"
        }
      ]
    },
    {
      "cell_type": "code",
      "metadata": {
        "colab": {
          "base_uri": "https://localhost:8080/"
        },
        "id": "BK81eusJSm3G",
        "outputId": "1fa1d8b9-c358-4276-9773-82b1761b5b4b"
      },
      "source": [
        "a.shape"
      ],
      "execution_count": null,
      "outputs": [
        {
          "output_type": "execute_result",
          "data": {
            "text/plain": [
              "TensorShape([2, 2])"
            ]
          },
          "metadata": {
            "tags": []
          },
          "execution_count": 9
        }
      ]
    },
    {
      "cell_type": "code",
      "metadata": {
        "colab": {
          "base_uri": "https://localhost:8080/"
        },
        "id": "UoRGaJOFSpRp",
        "outputId": "6eb0d43f-34c5-44d4-c81c-f8b05b2b3cdc"
      },
      "source": [
        "a.dtype"
      ],
      "execution_count": null,
      "outputs": [
        {
          "output_type": "execute_result",
          "data": {
            "text/plain": [
              "tf.int32"
            ]
          },
          "metadata": {
            "tags": []
          },
          "execution_count": 10
        }
      ]
    },
    {
      "cell_type": "code",
      "metadata": {
        "colab": {
          "base_uri": "https://localhost:8080/"
        },
        "id": "7OcYCwiTSm6H",
        "outputId": "c6dac831-cc67-4b9f-af5f-1e519c5d373c"
      },
      "source": [
        "a"
      ],
      "execution_count": null,
      "outputs": [
        {
          "output_type": "execute_result",
          "data": {
            "text/plain": [
              "<tf.Tensor: shape=(2, 2), dtype=int32, numpy=\n",
              "array([[1, 2],\n",
              "       [3, 4]], dtype=int32)>"
            ]
          },
          "metadata": {
            "tags": []
          },
          "execution_count": 11
        }
      ]
    },
    {
      "cell_type": "code",
      "metadata": {
        "colab": {
          "base_uri": "https://localhost:8080/"
        },
        "id": "xL92__emQTty",
        "outputId": "59323d12-b6e7-4c97-be99-8e8c8302cfb0"
      },
      "source": [
        "# ブロードキャストのサポート\r\n",
        "b = tf.add(a, 10)\r\n",
        "print(b)"
      ],
      "execution_count": null,
      "outputs": [
        {
          "output_type": "stream",
          "text": [
            "tf.Tensor(\n",
            "[[11 12]\n",
            " [13 14]], shape=(2, 2), dtype=int32)\n"
          ],
          "name": "stdout"
        }
      ]
    },
    {
      "cell_type": "code",
      "metadata": {
        "colab": {
          "base_uri": "https://localhost:8080/"
        },
        "id": "z1Lud0DwQTxa",
        "outputId": "25ae55fe-1bf3-4b45-cc91-b752922e23a7"
      },
      "source": [
        "#アダマール積(要素)\r\n",
        "a * b"
      ],
      "execution_count": null,
      "outputs": [
        {
          "output_type": "execute_result",
          "data": {
            "text/plain": [
              "<tf.Tensor: shape=(2, 2), dtype=int32, numpy=\n",
              "array([[11, 24],\n",
              "       [39, 56]], dtype=int32)>"
            ]
          },
          "metadata": {
            "tags": []
          },
          "execution_count": 6
        }
      ]
    },
    {
      "cell_type": "code",
      "metadata": {
        "id": "GkauNdX-QT0A"
      },
      "source": [
        ""
      ],
      "execution_count": null,
      "outputs": []
    },
    {
      "cell_type": "code",
      "metadata": {
        "colab": {
          "base_uri": "https://localhost:8080/"
        },
        "id": "ru9wmF_cQT24",
        "outputId": "f39c1cb5-837a-4e9e-94fd-2ea4da38e5f0"
      },
      "source": [
        "import numpy as np\r\n",
        "\r\n",
        "c = np.multiply(a, b)\r\n",
        "c"
      ],
      "execution_count": null,
      "outputs": [
        {
          "output_type": "execute_result",
          "data": {
            "text/plain": [
              "array([[11, 24],\n",
              "       [39, 56]], dtype=int32)"
            ]
          },
          "metadata": {
            "tags": []
          },
          "execution_count": 8
        }
      ]
    },
    {
      "cell_type": "code",
      "metadata": {
        "colab": {
          "base_uri": "https://localhost:8080/"
        },
        "id": "WxxKv4t4QT9I",
        "outputId": "75d9c77f-cea7-4634-ece3-ebd5e64801e6"
      },
      "source": [
        "#numpyをtensorflowで処理すると自動でtensor変換される\r\n",
        "#逆にtensorからnumpyを取り出したければnumpyメソッドが使える\r\n",
        "\r\n",
        "a.numpy()"
      ],
      "execution_count": null,
      "outputs": [
        {
          "output_type": "execute_result",
          "data": {
            "text/plain": [
              "array([[1, 2],\n",
              "       [3, 4]], dtype=int32)"
            ]
          },
          "metadata": {
            "tags": []
          },
          "execution_count": 12
        }
      ]
    },
    {
      "cell_type": "code",
      "metadata": {
        "id": "TmN4v4PnTCC9"
      },
      "source": [
        ""
      ],
      "execution_count": null,
      "outputs": []
    },
    {
      "cell_type": "code",
      "metadata": {
        "id": "4ROYrlxIQT_w"
      },
      "source": [
        "#https://www.tensorflow.org/tutorials/customization/custom_layers?hl=ja\r\n",
        "#TensorFlow には、tf.keras パッケージにKeras APIのすべてが含まれています。\r\n",
        "#サポートできていない機能もある"
      ],
      "execution_count": null,
      "outputs": []
    },
    {
      "cell_type": "code",
      "metadata": {
        "id": "gkMgBELzQUC4"
      },
      "source": [
        ""
      ],
      "execution_count": null,
      "outputs": []
    },
    {
      "cell_type": "code",
      "metadata": {
        "id": "wpgYwAJJQUJu"
      },
      "source": [
        "#https://www.tensorflow.org/guide/tensor\r\n",
        "#テンソルの名前"
      ],
      "execution_count": null,
      "outputs": []
    },
    {
      "cell_type": "code",
      "metadata": {
        "id": "ERzTy3teQUMI"
      },
      "source": [
        ""
      ],
      "execution_count": null,
      "outputs": []
    },
    {
      "cell_type": "code",
      "metadata": {
        "id": "Uzsz2NwEQUO3"
      },
      "source": [
        ""
      ],
      "execution_count": null,
      "outputs": []
    },
    {
      "cell_type": "code",
      "metadata": {
        "id": "n2EoJLweQURe"
      },
      "source": [
        ""
      ],
      "execution_count": null,
      "outputs": []
    },
    {
      "cell_type": "code",
      "metadata": {
        "id": "DmVszO3WYlfd"
      },
      "source": [
        "#gradient tape\r\n",
        "#勾配を記録するテープと考えて"
      ],
      "execution_count": null,
      "outputs": []
    },
    {
      "cell_type": "code",
      "metadata": {
        "id": "oQ5Nr6RgYldE"
      },
      "source": [
        "x = tf.Variable(3.0)\r\n",
        "\r\n",
        "with tf.GradientTape() as tape:\r\n",
        "  y = x**2\r\n"
      ],
      "execution_count": null,
      "outputs": []
    },
    {
      "cell_type": "code",
      "metadata": {
        "id": "yzIAD-8WeEUm"
      },
      "source": [
        ""
      ],
      "execution_count": null,
      "outputs": []
    },
    {
      "cell_type": "code",
      "metadata": {
        "id": "1RXpf3fdceo-"
      },
      "source": [
        "import tensorflow as tf"
      ],
      "execution_count": null,
      "outputs": []
    },
    {
      "cell_type": "code",
      "metadata": {
        "id": "spcVLLjvcecS"
      },
      "source": [
        "x = tf.Variable(3.0)"
      ],
      "execution_count": null,
      "outputs": []
    },
    {
      "cell_type": "code",
      "metadata": {
        "id": "bZJ0xLn6ckXU"
      },
      "source": [
        "t1 = tf.GradientTape()"
      ],
      "execution_count": null,
      "outputs": []
    },
    {
      "cell_type": "code",
      "metadata": {
        "id": "ZqAMQeOtckUq"
      },
      "source": [
        "y = x**2"
      ],
      "execution_count": null,
      "outputs": []
    },
    {
      "cell_type": "code",
      "metadata": {
        "colab": {
          "base_uri": "https://localhost:8080/",
          "height": 309
        },
        "id": "aTi8PZOLc3Pc",
        "outputId": "764f4af2-959f-4cb3-9f29-410a6562f1fe"
      },
      "source": [
        "t1.gradient(y, x).numpy() "
      ],
      "execution_count": null,
      "outputs": [
        {
          "output_type": "error",
          "ename": "RuntimeError",
          "evalue": "ignored",
          "traceback": [
            "\u001b[0;31m---------------------------------------------------------------------------\u001b[0m",
            "\u001b[0;31mRuntimeError\u001b[0m                              Traceback (most recent call last)",
            "\u001b[0;32m<ipython-input-5-1744500c1949>\u001b[0m in \u001b[0;36m<module>\u001b[0;34m()\u001b[0m\n\u001b[0;32m----> 1\u001b[0;31m \u001b[0mt1\u001b[0m\u001b[0;34m.\u001b[0m\u001b[0mgradient\u001b[0m\u001b[0;34m(\u001b[0m\u001b[0my\u001b[0m\u001b[0;34m,\u001b[0m \u001b[0mx\u001b[0m\u001b[0;34m)\u001b[0m\u001b[0;34m.\u001b[0m\u001b[0mnumpy\u001b[0m\u001b[0;34m(\u001b[0m\u001b[0;34m)\u001b[0m\u001b[0;34m\u001b[0m\u001b[0;34m\u001b[0m\u001b[0m\n\u001b[0m",
            "\u001b[0;32m/usr/local/lib/python3.6/dist-packages/tensorflow/python/eager/backprop.py\u001b[0m in \u001b[0;36mgradient\u001b[0;34m(self, target, sources, output_gradients, unconnected_gradients)\u001b[0m\n\u001b[1;32m   1012\u001b[0m     \"\"\"\n\u001b[1;32m   1013\u001b[0m     \u001b[0;32mif\u001b[0m \u001b[0mself\u001b[0m\u001b[0;34m.\u001b[0m\u001b[0m_tape\u001b[0m \u001b[0;32mis\u001b[0m \u001b[0;32mNone\u001b[0m\u001b[0;34m:\u001b[0m\u001b[0;34m\u001b[0m\u001b[0;34m\u001b[0m\u001b[0m\n\u001b[0;32m-> 1014\u001b[0;31m       raise RuntimeError(\"GradientTape.gradient can only be called once on \"\n\u001b[0m\u001b[1;32m   1015\u001b[0m                          \"non-persistent tapes.\")\n\u001b[1;32m   1016\u001b[0m     \u001b[0;32mif\u001b[0m \u001b[0mself\u001b[0m\u001b[0;34m.\u001b[0m\u001b[0m_recording\u001b[0m\u001b[0;34m:\u001b[0m\u001b[0;34m\u001b[0m\u001b[0;34m\u001b[0m\u001b[0m\n",
            "\u001b[0;31mRuntimeError\u001b[0m: GradientTape.gradient can only be called once on non-persistent tapes."
          ]
        }
      ]
    },
    {
      "cell_type": "code",
      "metadata": {
        "id": "vCD2mNWTckSM"
      },
      "source": [
        ""
      ],
      "execution_count": null,
      "outputs": []
    },
    {
      "cell_type": "code",
      "metadata": {
        "id": "fnxGKFsBckPk"
      },
      "source": [
        ""
      ],
      "execution_count": null,
      "outputs": []
    },
    {
      "cell_type": "code",
      "metadata": {
        "id": "eUaPlYv2ckMs"
      },
      "source": [
        ""
      ],
      "execution_count": null,
      "outputs": []
    },
    {
      "cell_type": "code",
      "metadata": {
        "id": "-viLndgpeSn2"
      },
      "source": [
        "x = tf.constant(3.0) # TensorFlow に定数を作成\r\n",
        "with tf.GradientTape() as g: # with 内部の計算を記録\r\n",
        "  g.watch(x) # x を記録\r\n",
        "  y = 2 * x # 微分する式"
      ],
      "execution_count": null,
      "outputs": []
    },
    {
      "cell_type": "code",
      "metadata": {
        "id": "wX8_heWUeSky"
      },
      "source": [
        ""
      ],
      "execution_count": null,
      "outputs": []
    },
    {
      "cell_type": "code",
      "metadata": {
        "colab": {
          "base_uri": "https://localhost:8080/"
        },
        "id": "QHnJm3-4eSiZ",
        "outputId": "0e072167-ad1c-4131-8651-269758fcbc0f"
      },
      "source": [
        "g.gradient(y, x).numpy() "
      ],
      "execution_count": null,
      "outputs": [
        {
          "output_type": "execute_result",
          "data": {
            "text/plain": [
              "2.0"
            ]
          },
          "metadata": {
            "tags": []
          },
          "execution_count": 10
        }
      ]
    },
    {
      "cell_type": "code",
      "metadata": {
        "id": "NWZQeCG5e-1s"
      },
      "source": [
        ""
      ],
      "execution_count": null,
      "outputs": []
    },
    {
      "cell_type": "code",
      "metadata": {
        "id": "2U5wo2IGe-uC"
      },
      "source": [
        ""
      ],
      "execution_count": null,
      "outputs": []
    },
    {
      "cell_type": "code",
      "metadata": {
        "id": "KvoZnA4-eShJ"
      },
      "source": [
        ""
      ],
      "execution_count": null,
      "outputs": []
    },
    {
      "cell_type": "code",
      "metadata": {
        "id": "x7d02dQReSeO"
      },
      "source": [
        ""
      ],
      "execution_count": null,
      "outputs": []
    },
    {
      "cell_type": "code",
      "metadata": {
        "id": "FaTdDpE9eSa3"
      },
      "source": [
        ""
      ],
      "execution_count": null,
      "outputs": []
    },
    {
      "cell_type": "code",
      "metadata": {
        "id": "epmuXR1geSYi"
      },
      "source": [
        ""
      ],
      "execution_count": null,
      "outputs": []
    },
    {
      "cell_type": "code",
      "metadata": {
        "id": "Zeayj2wZeSWP"
      },
      "source": [
        ""
      ],
      "execution_count": null,
      "outputs": []
    },
    {
      "cell_type": "code",
      "metadata": {
        "id": "K_6D7I3meSTc"
      },
      "source": [
        ""
      ],
      "execution_count": null,
      "outputs": []
    },
    {
      "cell_type": "code",
      "metadata": {
        "id": "njl_pJ3peSQ-"
      },
      "source": [
        ""
      ],
      "execution_count": null,
      "outputs": []
    },
    {
      "cell_type": "code",
      "metadata": {
        "id": "TLYBjw5BckJ3"
      },
      "source": [
        ""
      ],
      "execution_count": null,
      "outputs": []
    },
    {
      "cell_type": "code",
      "metadata": {
        "colab": {
          "base_uri": "https://localhost:8080/"
        },
        "id": "khUXFM07aMos",
        "outputId": "8b14e7bc-0c26-47eb-b932-5432ff20683c"
      },
      "source": [
        "y"
      ],
      "execution_count": null,
      "outputs": [
        {
          "output_type": "execute_result",
          "data": {
            "text/plain": [
              "<tf.Tensor: shape=(), dtype=float32, numpy=9.0>"
            ]
          },
          "metadata": {
            "tags": []
          },
          "execution_count": 3
        }
      ]
    },
    {
      "cell_type": "code",
      "metadata": {
        "colab": {
          "base_uri": "https://localhost:8080/"
        },
        "id": "xYX9llvZaMmE",
        "outputId": "b6d71a72-4404-41f3-b3bb-38a9bfcc686f"
      },
      "source": [
        "x"
      ],
      "execution_count": null,
      "outputs": [
        {
          "output_type": "execute_result",
          "data": {
            "text/plain": [
              "<tf.Variable 'Variable:0' shape=() dtype=float32, numpy=3.0>"
            ]
          },
          "metadata": {
            "tags": []
          },
          "execution_count": 4
        }
      ]
    },
    {
      "cell_type": "code",
      "metadata": {
        "id": "eSwJ5m-dbqi0"
      },
      "source": [
        "tape.watch(tf.constant(10,dtype='float32'))"
      ],
      "execution_count": null,
      "outputs": []
    },
    {
      "cell_type": "code",
      "metadata": {
        "colab": {
          "base_uri": "https://localhost:8080/"
        },
        "id": "8uNcCxwobqgp",
        "outputId": "04e7b072-09ee-4105-fd46-9d4286744164"
      },
      "source": [
        "y"
      ],
      "execution_count": null,
      "outputs": [
        {
          "output_type": "execute_result",
          "data": {
            "text/plain": [
              "<tf.Tensor: shape=(), dtype=float32, numpy=9.0>"
            ]
          },
          "metadata": {
            "tags": []
          },
          "execution_count": 10
        }
      ]
    },
    {
      "cell_type": "code",
      "metadata": {
        "colab": {
          "base_uri": "https://localhost:8080/"
        },
        "id": "1qnKfJn8bqd2",
        "outputId": "b2722b5d-4c76-4032-c234-27bbfa10a093"
      },
      "source": [
        "tape.gradient(y, x).numpy() "
      ],
      "execution_count": null,
      "outputs": [
        {
          "output_type": "execute_result",
          "data": {
            "text/plain": [
              "6.0"
            ]
          },
          "metadata": {
            "tags": []
          },
          "execution_count": 11
        }
      ]
    },
    {
      "cell_type": "code",
      "metadata": {
        "id": "ETBLn99Dbqas"
      },
      "source": [
        ""
      ],
      "execution_count": null,
      "outputs": []
    },
    {
      "cell_type": "code",
      "metadata": {
        "id": "szi6SKAIbqYF"
      },
      "source": [
        ""
      ],
      "execution_count": null,
      "outputs": []
    },
    {
      "cell_type": "code",
      "metadata": {
        "colab": {
          "base_uri": "https://localhost:8080/"
        },
        "id": "vW6KazcCYlaq",
        "outputId": "794c1bf8-95a1-4218-d44c-2e861268dfda"
      },
      "source": [
        "# dy = 2x * dx\r\n",
        "dy_dx = tape.gradient(y, x)\r\n",
        "dy_dx.numpy()"
      ],
      "execution_count": null,
      "outputs": [
        {
          "output_type": "execute_result",
          "data": {
            "text/plain": [
              "6.0"
            ]
          },
          "metadata": {
            "tags": []
          },
          "execution_count": 18
        }
      ]
    },
    {
      "cell_type": "code",
      "metadata": {
        "id": "rbDhGT-9YlX_"
      },
      "source": [
        "w = tf.Variable(tf.random.normal((3, 2)), name='w')\r\n",
        "b = tf.Variable(tf.zeros(2, dtype=tf.float32), name='b')\r\n",
        "x = [[1., 2., 3.]]"
      ],
      "execution_count": null,
      "outputs": []
    },
    {
      "cell_type": "code",
      "metadata": {
        "colab": {
          "base_uri": "https://localhost:8080/"
        },
        "id": "5QFPdHfqZQ7F",
        "outputId": "b5fdd71e-5ab8-4fec-9abb-2482afa31569"
      },
      "source": [
        "w"
      ],
      "execution_count": null,
      "outputs": [
        {
          "output_type": "execute_result",
          "data": {
            "text/plain": [
              "<tf.Variable 'w:0' shape=(3, 2) dtype=float32, numpy=\n",
              "array([[-0.53397495, -1.6467439 ],\n",
              "       [ 0.62531966,  0.09560457],\n",
              "       [-0.45052364,  0.01607519]], dtype=float32)>"
            ]
          },
          "metadata": {
            "tags": []
          },
          "execution_count": 13
        }
      ]
    },
    {
      "cell_type": "code",
      "metadata": {
        "colab": {
          "base_uri": "https://localhost:8080/"
        },
        "id": "L5v5_5i2ZSX0",
        "outputId": "2e029a32-0d3d-4508-ae48-efd68f9307ac"
      },
      "source": [
        "b"
      ],
      "execution_count": null,
      "outputs": [
        {
          "output_type": "execute_result",
          "data": {
            "text/plain": [
              "<tf.Variable 'b:0' shape=(2,) dtype=float32, numpy=array([0., 0.], dtype=float32)>"
            ]
          },
          "metadata": {
            "tags": []
          },
          "execution_count": 14
        }
      ]
    },
    {
      "cell_type": "code",
      "metadata": {
        "colab": {
          "base_uri": "https://localhost:8080/"
        },
        "id": "aRYlr2CvZSU_",
        "outputId": "7e854956-88bc-4b01-ddbf-dcaff1359cef"
      },
      "source": [
        "x"
      ],
      "execution_count": null,
      "outputs": [
        {
          "output_type": "execute_result",
          "data": {
            "text/plain": [
              "[[1.0, 2.0, 3.0]]"
            ]
          },
          "metadata": {
            "tags": []
          },
          "execution_count": 15
        }
      ]
    },
    {
      "cell_type": "code",
      "metadata": {
        "id": "OfNnFA-LYlVW"
      },
      "source": [
        "with tf.GradientTape(persistent=True) as tape:\r\n",
        "  y = x @ w + b\r\n",
        "  loss = tf.reduce_mean(y**2)"
      ],
      "execution_count": null,
      "outputs": []
    },
    {
      "cell_type": "code",
      "metadata": {
        "id": "lhiM-u7tYlRL"
      },
      "source": [
        "[dl_dw, dl_db] = tape.gradient(loss, [w, b])\r\n"
      ],
      "execution_count": null,
      "outputs": []
    },
    {
      "cell_type": "code",
      "metadata": {
        "colab": {
          "base_uri": "https://localhost:8080/"
        },
        "id": "Lx3797WKZMJ3",
        "outputId": "6b67fed2-a16d-48dd-b81b-b3e967fa2972"
      },
      "source": [
        "print(w.shape)\r\n",
        "print(dl_dw.shape)\r\n"
      ],
      "execution_count": null,
      "outputs": [
        {
          "output_type": "stream",
          "text": [
            "(3, 2)\n",
            "(3, 2)\n"
          ],
          "name": "stdout"
        }
      ]
    },
    {
      "cell_type": "code",
      "metadata": {
        "colab": {
          "base_uri": "https://localhost:8080/"
        },
        "id": "Ei9HaYcPfjn2",
        "outputId": "49cf66aa-9e67-44f7-a764-611e85a90fc1"
      },
      "source": [
        "tf.matmul(x,w) + b"
      ],
      "execution_count": null,
      "outputs": [
        {
          "output_type": "execute_result",
          "data": {
            "text/plain": [
              "<tf.Tensor: shape=(1, 2), dtype=float32, numpy=array([[-0.63490653, -1.407309  ]], dtype=float32)>"
            ]
          },
          "metadata": {
            "tags": []
          },
          "execution_count": 23
        }
      ]
    },
    {
      "cell_type": "code",
      "metadata": {
        "colab": {
          "base_uri": "https://localhost:8080/"
        },
        "id": "kyZV-0EdfNGB",
        "outputId": "93a2c89d-5220-40ab-e678-1cac681fdf84"
      },
      "source": [
        "x @ w"
      ],
      "execution_count": null,
      "outputs": [
        {
          "output_type": "execute_result",
          "data": {
            "text/plain": [
              "<tf.Tensor: shape=(1, 2), dtype=float32, numpy=array([[-0.63490653, -1.407309  ]], dtype=float32)>"
            ]
          },
          "metadata": {
            "tags": []
          },
          "execution_count": 21
        }
      ]
    },
    {
      "cell_type": "code",
      "metadata": {
        "colab": {
          "base_uri": "https://localhost:8080/"
        },
        "id": "MGR2qTvogT4p",
        "outputId": "9dc52390-95c0-46ba-b5a8-c4bbbeb8f7e2"
      },
      "source": [
        "y"
      ],
      "execution_count": null,
      "outputs": [
        {
          "output_type": "execute_result",
          "data": {
            "text/plain": [
              "<tf.Tensor: shape=(1, 2), dtype=float32, numpy=array([[-0.63490653, -1.407309  ]], dtype=float32)>"
            ]
          },
          "metadata": {
            "tags": []
          },
          "execution_count": 24
        }
      ]
    },
    {
      "cell_type": "code",
      "metadata": {
        "id": "Ph3gu4ddgTxi"
      },
      "source": [
        ""
      ],
      "execution_count": null,
      "outputs": []
    },
    {
      "cell_type": "code",
      "metadata": {
        "id": "0FGAOgxHfNDe"
      },
      "source": [
        "with tf.GradientTape(persistent=True) as tape:\r\n",
        "  y = x @ w + b\r\n",
        "  loss = tf.reduce_mean(y**2)"
      ],
      "execution_count": null,
      "outputs": []
    },
    {
      "cell_type": "code",
      "metadata": {
        "id": "XDH52rkIfNBQ"
      },
      "source": [
        "[dl_dw, dl_db] = tape.gradient(loss, [w, b])\r\n"
      ],
      "execution_count": null,
      "outputs": []
    },
    {
      "cell_type": "code",
      "metadata": {
        "id": "DIDnuaYRfM-c"
      },
      "source": [
        "print(w.shape)\r\n",
        "print(dl_dw.shape)"
      ],
      "execution_count": null,
      "outputs": []
    },
    {
      "cell_type": "code",
      "metadata": {
        "colab": {
          "base_uri": "https://localhost:8080/"
        },
        "id": "Xxd3YTIdfM8R",
        "outputId": "f35992a0-c456-4f0e-8f64-fa5db2ee049e"
      },
      "source": [
        "dl_dw"
      ],
      "execution_count": null,
      "outputs": [
        {
          "output_type": "execute_result",
          "data": {
            "text/plain": [
              "<tf.Tensor: shape=(3, 2), dtype=float32, numpy=\n",
              "array([[-0.63490653, -1.407309  ],\n",
              "       [-1.2698131 , -2.814618  ],\n",
              "       [-1.9047196 , -4.221927  ]], dtype=float32)>"
            ]
          },
          "metadata": {
            "tags": []
          },
          "execution_count": 26
        }
      ]
    },
    {
      "cell_type": "code",
      "metadata": {
        "colab": {
          "base_uri": "https://localhost:8080/"
        },
        "id": "CB9HB-lpfM4_",
        "outputId": "f3b07068-26a6-45f8-cf99-ba61aa915a43"
      },
      "source": [
        "dl_db"
      ],
      "execution_count": null,
      "outputs": [
        {
          "output_type": "execute_result",
          "data": {
            "text/plain": [
              "<tf.Tensor: shape=(2,), dtype=float32, numpy=array([-0.63490653, -1.407309  ], dtype=float32)>"
            ]
          },
          "metadata": {
            "tags": []
          },
          "execution_count": 27
        }
      ]
    },
    {
      "cell_type": "code",
      "metadata": {
        "id": "3mW1ewD4ZMHZ"
      },
      "source": [
        "\r\n"
      ],
      "execution_count": null,
      "outputs": []
    },
    {
      "cell_type": "code",
      "metadata": {
        "id": "I1qPvSAyZMEd"
      },
      "source": [
        ""
      ],
      "execution_count": null,
      "outputs": []
    },
    {
      "cell_type": "code",
      "metadata": {
        "id": "-cTl98PTZL4C"
      },
      "source": [
        "#https://www.tensorflow.org/api_docs/python/tf/GradientTape"
      ],
      "execution_count": null,
      "outputs": []
    },
    {
      "cell_type": "code",
      "metadata": {
        "id": "OmqeFO5zZL1R"
      },
      "source": [
        "#https://www.tensorflow.org/guide/autodiff"
      ],
      "execution_count": null,
      "outputs": []
    },
    {
      "cell_type": "code",
      "metadata": {
        "id": "3831Bfuhj8zZ"
      },
      "source": [
        "import numpy as np\r\n",
        "import matplotlib.pyplot as plt\r\n",
        "\r\n",
        "import tensorflow as tf"
      ],
      "execution_count": null,
      "outputs": []
    },
    {
      "cell_type": "code",
      "metadata": {
        "id": "KtNdjuG_ZLx_"
      },
      "source": [
        "x = tf.linspace(-10.0, 10.0, 200+1)\r\n",
        "\r\n",
        "with tf.GradientTape() as tape:\r\n",
        "  tape.watch(x)\r\n",
        "  y = tf.nn.sigmoid(x)\r\n",
        "\r\n",
        "dy_dx = tape.gradient(y, x)\r\n"
      ],
      "execution_count": null,
      "outputs": []
    },
    {
      "cell_type": "code",
      "metadata": {
        "id": "jCiGNPsrZLvD",
        "colab": {
          "base_uri": "https://localhost:8080/",
          "height": 279
        },
        "outputId": "0bb4b8da-b6e5-4cfe-df7d-64853fd06130"
      },
      "source": [
        "plt.plot(x, y, label='y')\r\n",
        "plt.plot(x, dy_dx, label='dy/dx')\r\n",
        "plt.legend()\r\n",
        "_ = plt.xlabel('x')\r\n"
      ],
      "execution_count": null,
      "outputs": [
        {
          "output_type": "display_data",
          "data": {
            "image/png": "[encoded data removed]",
            "text/plain": [
              "<Figure size 432x288 with 1 Axes>"
            ]
          },
          "metadata": {
            "tags": [],
            "needs_background": "light"
          }
        }
      ]
    },
    {
      "cell_type": "code",
      "metadata": {
        "id": "Sfj9mtpzZLsB"
      },
      "source": [
        ""
      ],
      "execution_count": null,
      "outputs": []
    },
    {
      "cell_type": "code",
      "metadata": {
        "id": "JZm35V671voo"
      },
      "source": [
        ""
      ],
      "execution_count": null,
      "outputs": []
    },
    {
      "cell_type": "code",
      "metadata": {
        "id": "2TtAs89I1vlp"
      },
      "source": [
        ""
      ],
      "execution_count": null,
      "outputs": []
    },
    {
      "cell_type": "code",
      "metadata": {
        "id": "10T8rXL31vip"
      },
      "source": [
        ""
      ],
      "execution_count": null,
      "outputs": []
    },
    {
      "cell_type": "code",
      "metadata": {
        "id": "kO2EdsHW1vfp"
      },
      "source": [
        ""
      ],
      "execution_count": null,
      "outputs": []
    },
    {
      "cell_type": "code",
      "metadata": {
        "id": "9neyyQ251vcm"
      },
      "source": [
        ""
      ],
      "execution_count": null,
      "outputs": []
    },
    {
      "cell_type": "code",
      "metadata": {
        "id": "3ygPRfV91vZu"
      },
      "source": [
        ""
      ],
      "execution_count": null,
      "outputs": []
    },
    {
      "cell_type": "code",
      "metadata": {
        "id": "L1bFX0mG1vWs"
      },
      "source": [
        ""
      ],
      "execution_count": null,
      "outputs": []
    },
    {
      "cell_type": "code",
      "metadata": {
        "id": "LULSTiJX1vTY"
      },
      "source": [
        ""
      ],
      "execution_count": null,
      "outputs": []
    },
    {
      "cell_type": "code",
      "metadata": {
        "id": "u3W5F8hw1vQh"
      },
      "source": [
        ""
      ],
      "execution_count": null,
      "outputs": []
    },
    {
      "cell_type": "code",
      "metadata": {
        "id": "5VZBkv391vOB"
      },
      "source": [
        ""
      ],
      "execution_count": null,
      "outputs": []
    },
    {
      "cell_type": "code",
      "metadata": {
        "id": "CHjy6r4m1vLY"
      },
      "source": [
        ""
      ],
      "execution_count": null,
      "outputs": []
    },
    {
      "cell_type": "code",
      "metadata": {
        "id": "pGMMg0ib1vIU"
      },
      "source": [
        ""
      ],
      "execution_count": null,
      "outputs": []
    },
    {
      "cell_type": "code",
      "metadata": {
        "id": "h35BgQFOZLpT"
      },
      "source": [
        ""
      ],
      "execution_count": null,
      "outputs": []
    },
    {
      "cell_type": "code",
      "metadata": {
        "id": "AwmuIbhdZLmh"
      },
      "source": [
        "import tensorflow as tf\r\n",
        "import timeit\r\n",
        "from datetime import datetime"
      ],
      "execution_count": null,
      "outputs": []
    },
    {
      "cell_type": "code",
      "metadata": {
        "id": "idTmalTVZLjF",
        "colab": {
          "base_uri": "https://localhost:8080/"
        },
        "outputId": "ab37babd-bf4a-47d4-cabb-82989da15aea"
      },
      "source": [
        "# Define a Python function\r\n",
        "def function_to_get_faster(x, y, b):\r\n",
        "  x = tf.matmul(x, y)\r\n",
        "  x = x + b\r\n",
        "  return x\r\n",
        "\r\n",
        "# Create a `Function` object that contains a graph\r\n",
        "a_function_that_uses_a_graph = tf.function(function_to_get_faster)\r\n",
        "\r\n",
        "# Make some tensors\r\n",
        "x1 = tf.constant([[1.0, 2.0]])\r\n",
        "y1 = tf.constant([[2.0], [3.0]])\r\n",
        "b1 = tf.constant(4.0)\r\n",
        "\r\n",
        "# It just works!\r\n",
        "a_function_that_uses_a_graph(x1, y1, b1).numpy()\r\n"
      ],
      "execution_count": null,
      "outputs": [
        {
          "output_type": "execute_result",
          "data": {
            "text/plain": [
              "array([[12.]], dtype=float32)"
            ]
          },
          "metadata": {
            "tags": []
          },
          "execution_count": 43
        }
      ]
    },
    {
      "cell_type": "code",
      "metadata": {
        "colab": {
          "base_uri": "https://localhost:8080/"
        },
        "id": "lPyDUivekktc",
        "outputId": "00a7a598-3155-4ffb-c4bb-c056636e3a34"
      },
      "source": [
        "function_to_get_faster(x1, y1, b1).numpy()\r\n"
      ],
      "execution_count": null,
      "outputs": [
        {
          "output_type": "execute_result",
          "data": {
            "text/plain": [
              "array([[12.]], dtype=float32)"
            ]
          },
          "metadata": {
            "tags": []
          },
          "execution_count": 45
        }
      ]
    },
    {
      "cell_type": "code",
      "metadata": {
        "colab": {
          "base_uri": "https://localhost:8080/"
        },
        "id": "6ULVZdmKlECt",
        "outputId": "014f780a-47c0-480c-e013-3ba062736913"
      },
      "source": [
        "def inner_function(x, y, b):\r\n",
        "  x = tf.matmul(x, y)\r\n",
        "  x = x + b\r\n",
        "  return x\r\n",
        "\r\n",
        "def outer_function(x):\r\n",
        "  y = tf.constant([[2.0], [3.0]])\r\n",
        "  b = tf.constant(4.0)\r\n",
        "\r\n",
        "  return inner_function(x, y, b)\r\n",
        "\r\n",
        "outer_function(tf.constant([[1.0, 2.0]])).numpy()\r\n"
      ],
      "execution_count": null,
      "outputs": [
        {
          "output_type": "execute_result",
          "data": {
            "text/plain": [
              "array([[12.]], dtype=float32)"
            ]
          },
          "metadata": {
            "tags": []
          },
          "execution_count": 46
        }
      ]
    },
    {
      "cell_type": "code",
      "metadata": {
        "id": "Z7UXKifbZLcz"
      },
      "source": [
        ""
      ],
      "execution_count": null,
      "outputs": []
    },
    {
      "cell_type": "code",
      "metadata": {
        "id": "HfB-k3F0ZLZ-"
      },
      "source": [
        "#https://www.tensorflow.org/guide/autograph?hl=ja"
      ],
      "execution_count": null,
      "outputs": []
    },
    {
      "cell_type": "code",
      "metadata": {
        "id": "cv7hvwwYZLXb"
      },
      "source": [
        "#https://www.tensorflow.org/guide/intro_to_graphs"
      ],
      "execution_count": null,
      "outputs": []
    },
    {
      "cell_type": "code",
      "metadata": {
        "id": "yUqaUYPyZLU0"
      },
      "source": [
        ""
      ],
      "execution_count": null,
      "outputs": []
    },
    {
      "cell_type": "code",
      "metadata": {
        "id": "qggjmQBqZLR4",
        "colab": {
          "base_uri": "https://localhost:8080/"
        },
        "outputId": "29fe536e-cd48-4760-9ad8-3e40995d9bea"
      },
      "source": [
        "# Create an oveerride model to classify pictures\r\n",
        "class SequentialModel(tf.keras.Model):\r\n",
        "  def __init__(self, **kwargs):\r\n",
        "    super(SequentialModel, self).__init__(**kwargs)\r\n",
        "    self.flatten = tf.keras.layers.Flatten(input_shape=(28, 28))\r\n",
        "    self.dense_1 = tf.keras.layers.Dense(128, activation=\"relu\")\r\n",
        "    self.dropout = tf.keras.layers.Dropout(0.2)\r\n",
        "    self.dense_2 = tf.keras.layers.Dense(10)\r\n",
        "\r\n",
        "  def call(self, x):\r\n",
        "    x = self.flatten(x)\r\n",
        "    x = self.dense_1(x)\r\n",
        "    x = self.dropout(x)\r\n",
        "    x = self.dense_2(x)\r\n",
        "    return x\r\n",
        "\r\n",
        "\r\n",
        "\r\n",
        "\r\n",
        "\r\n",
        "input_data = tf.random.uniform([60, 28, 28])\r\n",
        "\r\n",
        "eager_model = SequentialModel()\r\n",
        "graph_model = tf.function(eager_model)\r\n",
        "\r\n",
        "print(\"Eager time:\", timeit.timeit(lambda: eager_model(input_data), number=10000))\r\n",
        "print(\"Graph time:\", timeit.timeit(lambda: graph_model(input_data), number=10000))\r\n"
      ],
      "execution_count": null,
      "outputs": [
        {
          "output_type": "stream",
          "text": [
            "Eager time: 10.72703650099993\n",
            "Graph time: 5.924939439999889\n"
          ],
          "name": "stdout"
        }
      ]
    },
    {
      "cell_type": "code",
      "metadata": {
        "id": "E-ty_9VvnKw8"
      },
      "source": [
        ""
      ],
      "execution_count": null,
      "outputs": []
    },
    {
      "cell_type": "code",
      "metadata": {
        "id": "WGdRhCtxnKge"
      },
      "source": [
        ""
      ],
      "execution_count": null,
      "outputs": []
    },
    {
      "cell_type": "code",
      "metadata": {
        "id": "Md9i1Lv_nKdm"
      },
      "source": [
        ""
      ],
      "execution_count": null,
      "outputs": []
    },
    {
      "cell_type": "code",
      "metadata": {
        "id": "jzm9Rl24oABR"
      },
      "source": [
        ""
      ],
      "execution_count": null,
      "outputs": []
    },
    {
      "cell_type": "code",
      "metadata": {
        "id": "JaunypTIn_-t"
      },
      "source": [
        ""
      ],
      "execution_count": null,
      "outputs": []
    },
    {
      "cell_type": "code",
      "metadata": {
        "id": "CDot69dsn_9K"
      },
      "source": [
        "# The actual line\r\n",
        "TRUE_W = 3.0\r\n",
        "TRUE_B = 2.0\r\n",
        "\r\n",
        "NUM_EXAMPLES = 1000\r\n",
        "\r\n",
        "# A vector of random x values\r\n",
        "x = tf.random.normal(shape=[NUM_EXAMPLES])\r\n",
        "\r\n",
        "# Generate some noise\r\n",
        "noise = tf.random.normal(shape=[NUM_EXAMPLES])\r\n",
        "\r\n",
        "# Calculate y\r\n",
        "y = x * TRUE_W + TRUE_B + noise"
      ],
      "execution_count": null,
      "outputs": []
    },
    {
      "cell_type": "code",
      "metadata": {
        "colab": {
          "base_uri": "https://localhost:8080/",
          "height": 265
        },
        "id": "yOuHWXkin_42",
        "outputId": "b1f43151-8df8-44e4-efad-6c5f24b1c071"
      },
      "source": [
        "# Plot all the data\r\n",
        "import matplotlib.pyplot as plt\r\n",
        "\r\n",
        "plt.scatter(x, y, c=\"b\")\r\n",
        "plt.show()\r\n"
      ],
      "execution_count": null,
      "outputs": [
        {
          "output_type": "display_data",
          "data": {
            "image/png": "[encoded data removed]",
            "text/plain": [
              "<Figure size 432x288 with 1 Axes>"
            ]
          },
          "metadata": {
            "tags": [],
            "needs_background": "light"
          }
        }
      ]
    },
    {
      "cell_type": "code",
      "metadata": {
        "id": "k1Ol3WI9n_19"
      },
      "source": [
        ""
      ],
      "execution_count": null,
      "outputs": []
    },
    {
      "cell_type": "code",
      "metadata": {
        "colab": {
          "base_uri": "https://localhost:8080/"
        },
        "id": "v9Gy8H90n_y7",
        "outputId": "5757244e-cc19-4b4c-e4c6-1daa9b46c026"
      },
      "source": [
        "class MyModel(tf.Module):\r\n",
        "  def __init__(self, **kwargs):\r\n",
        "    super().__init__(**kwargs)\r\n",
        "    # Initialize the weights to `5.0` and the bias to `0.0`\r\n",
        "    # In practice, these should be randomly initialized\r\n",
        "    self.w = tf.Variable(5.0)\r\n",
        "    self.b = tf.Variable(0.0)\r\n",
        "\r\n",
        "  def __call__(self, x):\r\n",
        "    return self.w * x + self.b\r\n",
        "\r\n",
        "model = MyModel()\r\n",
        "\r\n",
        "# List the variables tf.modules's built-in variable aggregation.\r\n",
        "print(\"Variables:\", model.variables)\r\n",
        "\r\n",
        "# Verify the model works\r\n",
        "assert model(3.0).numpy() == 15.0\r\n"
      ],
      "execution_count": null,
      "outputs": [
        {
          "output_type": "stream",
          "text": [
            "Variables: (<tf.Variable 'Variable:0' shape=() dtype=float32, numpy=0.0>, <tf.Variable 'Variable:0' shape=() dtype=float32, numpy=5.0>)\n"
          ],
          "name": "stdout"
        }
      ]
    },
    {
      "cell_type": "code",
      "metadata": {
        "colab": {
          "base_uri": "https://localhost:8080/"
        },
        "id": "K3C_fR0en_wT",
        "outputId": "75c11d8f-5031-49b4-9513-e3848a40f3b1"
      },
      "source": [
        "y"
      ],
      "execution_count": null,
      "outputs": [
        {
          "output_type": "execute_result",
          "data": {
            "text/plain": [
              "<tf.Tensor: shape=(1000,), dtype=float32, numpy=\n",
              "array([-2.00035286e+00,  6.35696936e+00, -4.56683397e+00,  3.51694155e+00,\n",
              "        3.28211546e+00, -3.44329548e+00, -7.37626493e-01,  2.82664478e-01,\n",
              "        5.59374046e+00,  9.86666107e+00,  2.32327604e+00, -1.66335952e+00,\n",
              "        1.81549561e+00, -1.24233198e+00,  7.65250504e-01, -3.29098773e+00,\n",
              "        1.25050223e+00,  4.32219267e+00,  4.18545151e+00, -3.33406734e+00,\n",
              "       -2.60918856e-01,  8.25507259e+00,  2.50820136e+00,  2.55845976e+00,\n",
              "        2.15578508e+00,  6.15732718e+00,  6.88328838e+00,  2.07547164e+00,\n",
              "       -8.38419795e-01,  6.30550432e+00,  1.00763977e+00,  2.01169109e+00,\n",
              "        2.77925777e+00, -1.10934949e+00,  5.39126492e+00,  2.71526051e+00,\n",
              "        9.45706308e-01, -2.51577473e+00,  1.53475821e-01,  5.62272882e+00,\n",
              "        6.61755323e-01,  2.23203015e+00,  3.97132707e+00,  5.65295601e+00,\n",
              "        1.90423012e+00,  3.97302365e+00, -2.28205109e+00,  4.90948582e+00,\n",
              "       -8.07940722e-01,  3.14351702e+00,  5.60306787e+00,  2.25218207e-01,\n",
              "        2.14081478e+00,  5.19335413e+00,  5.15032530e+00,  8.32673073e-01,\n",
              "        2.12839985e+00,  5.59654140e+00, -5.73458767e+00, -1.31268233e-01,\n",
              "        1.58437920e+00,  6.25230360e+00,  6.00464940e-01,  1.68523455e+00,\n",
              "       -3.45235014e+00,  6.33180666e+00,  1.97965431e+00,  2.46917486e+00,\n",
              "       -1.23723388e+00,  1.74397266e+00,  3.88905227e-01,  1.26110387e+00,\n",
              "        7.17239022e-01,  6.39652550e-01,  2.77939510e+00,  3.68610406e+00,\n",
              "        6.76889277e+00,  3.11417103e+00,  3.13760102e-01,  7.10240889e+00,\n",
              "       -1.20545447e+00,  4.26770401e+00,  1.46576917e+00,  1.58488822e+00,\n",
              "       -5.05540371e-01,  9.59099770e-01, -7.75795221e-01, -2.76145339e-01,\n",
              "        3.16854787e+00,  2.42921567e+00, -8.82256091e-01, -1.28791898e-01,\n",
              "        2.66687918e+00,  1.36938441e+00, -5.38520241e+00,  4.60166073e+00,\n",
              "        6.07955170e+00,  4.19413853e+00, -3.49995065e+00,  1.84007251e+00,\n",
              "        1.69580007e+00,  2.82180119e+00,  2.47856832e+00,  6.47673273e+00,\n",
              "       -4.07271338e+00,  3.89858317e+00,  3.10672379e+00,  5.92675114e+00,\n",
              "        3.59066606e+00, -1.88865387e+00,  1.82903194e+00,  2.38451076e+00,\n",
              "        3.45687008e+00,  9.06412697e+00,  1.44453859e+00,  2.58557701e+00,\n",
              "       -6.35387182e-01,  9.15147364e-01, -2.82442451e+00,  5.35321522e+00,\n",
              "       -7.16511250e-01,  6.25059319e+00,  5.10035574e-01,  4.70173979e+00,\n",
              "       -3.00444937e+00,  3.64993715e+00,  2.61336756e+00,  6.52439642e+00,\n",
              "       -4.76917982e-01,  2.68608570e+00,  5.07235193e+00,  2.51529622e+00,\n",
              "        2.53649902e+00,  1.38887501e+00, -3.78328276e+00, -2.43108010e+00,\n",
              "        4.54526711e+00, -8.12127948e-01,  4.89169884e+00,  8.94510269e+00,\n",
              "        1.67136717e+00,  7.52885294e+00,  3.93983364e-01,  2.16479206e+00,\n",
              "       -1.90061843e+00, -6.02886152e+00, -1.26570046e+00, -3.44500923e+00,\n",
              "        4.33513308e+00, -2.66847658e+00,  1.97161055e+00, -2.20968246e-01,\n",
              "        8.59287500e-01, -4.29047871e+00,  5.03954363e+00,  2.31817627e+00,\n",
              "       -1.52012014e+00,  4.43071938e+00,  6.23741293e+00,  6.46145284e-01,\n",
              "       -4.14987373e+00, -1.22107089e+00,  6.13638163e-02,  6.67011452e+00,\n",
              "        2.14066315e+00, -1.03053665e+00,  5.90281820e+00,  4.66037083e+00,\n",
              "        2.94072533e+00, -1.54571116e+00,  3.90215874e+00,  6.24456930e+00,\n",
              "        9.02659059e-01, -2.55527735e+00, -2.91052437e+00,  4.12837744e+00,\n",
              "       -5.82337379e-04,  4.01358128e+00, -2.20895231e-01,  2.89841366e+00,\n",
              "        8.92671824e-01, -6.50315881e-01,  8.12955737e-01, -1.99226761e+00,\n",
              "       -1.82468891e+00,  8.12406826e+00, -5.84038258e-01,  7.07810068e+00,\n",
              "        3.98243046e+00, -3.20350170e+00,  4.01341534e+00,  4.07860327e+00,\n",
              "       -1.04546380e+00,  1.60601461e+00,  3.74480772e+00,  5.48276520e+00,\n",
              "        3.46456623e+00,  3.20749068e+00,  5.29175162e-01,  5.18955374e+00,\n",
              "       -3.62817097e+00,  1.05128336e+00,  4.26984835e+00,  3.34251285e+00,\n",
              "        3.84624243e-01,  5.60088575e-01,  1.69267774e+00,  9.00458336e-01,\n",
              "        1.41863179e+00,  3.50664556e-02,  3.43168759e+00,  2.66711283e+00,\n",
              "        2.92010784e-01, -2.36977053e+00,  1.46753716e+00, -1.65927029e+00,\n",
              "       -5.26734948e-01,  7.47351503e+00,  7.76685810e+00,  1.45600963e+00,\n",
              "        9.11461055e-01,  2.01718807e-01,  2.49534941e+00,  6.46437025e+00,\n",
              "       -2.36000633e+00,  6.46684456e+00,  5.34975290e+00, -3.28440356e+00,\n",
              "        1.51951265e+00,  3.71276522e+00,  4.59806919e+00,  4.05374110e-01,\n",
              "        1.46772313e+00,  2.60746455e+00,  2.07059550e+00,  4.98880291e+00,\n",
              "       -2.71651602e+00, -7.09594822e+00, -2.15631342e+00,  1.36848974e+00,\n",
              "        3.70729780e+00,  2.24435389e-01,  1.19305933e+00,  6.09281206e+00,\n",
              "        2.11464703e-01,  3.25364900e+00,  7.73898602e-01, -4.26439142e+00,\n",
              "        5.13305759e+00, -2.36741662e+00,  1.34236932e-01,  2.21920943e+00,\n",
              "        3.74900317e+00,  4.48045874e+00,  7.47381091e-01, -4.87998438e+00,\n",
              "        6.10905170e-01,  5.73716044e-01,  2.79421329e+00, -3.66891742e-01,\n",
              "        3.81287646e+00, -2.29071736e+00,  4.04806566e+00,  6.72831106e+00,\n",
              "       -2.84791440e-01, -5.21361303e+00,  3.12430620e+00, -1.21937776e+00,\n",
              "        4.02148199e+00,  5.29909801e+00, -2.68934536e+00,  6.50494671e+00,\n",
              "        2.06238675e+00,  4.40989542e+00,  3.19518971e+00, -2.31449842e-01,\n",
              "       -9.57293510e-02, -1.69098437e-01, -3.09971976e+00,  3.49591684e+00,\n",
              "       -1.42399037e+00,  1.10687947e+00, -2.16708779e+00,  5.12783432e+00,\n",
              "       -6.34986341e-01,  1.03624363e+01, -2.49001503e-01,  2.82672453e+00,\n",
              "        3.21113706e-01, -6.77271128e-01, -4.39445877e+00,  4.92506742e+00,\n",
              "       -6.15067363e-01,  1.31732416e+00, -1.66801608e+00,  2.64301562e+00,\n",
              "       -8.94868076e-01,  2.98400068e+00,  3.09079099e+00,  2.80581522e+00,\n",
              "        3.00938559e+00,  2.01443434e-01,  6.13105345e+00,  5.75103903e+00,\n",
              "        5.09283781e+00, -3.13618708e+00,  1.83658385e+00,  2.61241674e+00,\n",
              "        3.59646797e+00,  4.84554648e-01,  2.81318903e-01, -1.44980907e+00,\n",
              "        3.97683233e-01, -1.54858780e+00, -1.86957729e+00,  3.77020550e+00,\n",
              "        1.66680825e+00,  4.22343826e+00,  5.21988678e+00,  1.75605202e+00,\n",
              "        9.24998045e-01, -2.56078768e+00,  6.98892450e+00, -1.76408434e+00,\n",
              "       -1.71743584e+00,  2.72659755e+00, -2.09159303e+00, -1.87128377e+00,\n",
              "        1.99148655e-02, -3.97203922e+00, -1.68069828e+00,  4.46765184e-01,\n",
              "        1.26944685e+00, -2.24031210e-02,  4.80591774e-01,  7.48759568e-01,\n",
              "       -2.03932822e-01,  3.56406808e+00,  4.24063563e-01, -2.09371328e+00,\n",
              "        2.68557501e+00, -1.78704882e+00, -3.42379403e+00,  8.23769665e+00,\n",
              "       -1.64637852e+00,  8.33179665e+00,  2.81472397e+00,  5.83329678e+00,\n",
              "        7.99162090e-01, -3.94480586e-01,  1.58582425e+00,  4.31255150e+00,\n",
              "        4.49034929e-01, -1.71204913e+00,  1.48154676e+00,  3.02014709e+00,\n",
              "        4.89356327e+00,  8.63749385e-01,  4.53883266e+00,  2.89362884e+00,\n",
              "        9.48529541e-02,  3.78625298e+00,  1.29736900e+00, -5.50772846e-01,\n",
              "        3.38890576e+00,  5.44730759e+00,  6.87628889e+00,  1.18708670e+00,\n",
              "        1.49116099e+00, -2.20726728e-02, -6.51345670e-01,  1.97049403e+00,\n",
              "        5.26242352e+00, -1.00993872e+00, -3.82258344e+00,  3.94115448e-02,\n",
              "       -3.29267669e+00,  5.23702145e-01, -1.30106676e+00,  4.98124409e+00,\n",
              "       -3.00545096e-01,  6.12483883e+00,  1.49538791e+00,  5.59558916e+00,\n",
              "        5.26316118e+00, -1.57819688e+00,  2.46880960e+00, -2.31790352e+00,\n",
              "        4.09414339e+00,  5.33392525e+00,  1.75862849e+00, -2.33079582e-01,\n",
              "        2.36337805e+00,  6.46747410e-01,  4.10219574e+00, -6.11326754e-01,\n",
              "        1.14864016e+00,  3.59638453e+00,  3.10055161e+00,  3.34060907e-01,\n",
              "        8.84049129e+00, -1.56320655e+00, -6.29760551e+00, -6.63659215e-01,\n",
              "       -1.43234885e+00, -4.30706167e+00, -5.26870966e+00,  2.53808832e+00,\n",
              "        5.10463417e-01, -4.57718968e-03,  5.51669312e+00,  8.48767376e+00,\n",
              "        2.50276184e+00, -3.22373009e+00,  8.31321049e+00,  6.19796753e+00,\n",
              "        6.70051003e+00, -1.24964571e+00, -1.27037621e+00,  3.57680798e+00,\n",
              "        3.25641155e-01,  6.11047935e+00,  7.37031937e-01, -4.73607421e-01,\n",
              "        3.08802319e+00, -2.20730877e+00,  3.78013897e+00,  4.37377739e+00,\n",
              "        2.40753460e+00,  7.31720066e+00,  5.71020079e+00,  6.06981611e+00,\n",
              "        1.94462204e+00,  5.19432068e+00, -1.78903937e+00, -6.85607433e-01,\n",
              "        1.85113668e+00,  1.59119701e+00,  5.66760826e+00,  3.14945102e+00,\n",
              "        3.72848809e-01, -1.05955946e+00,  8.52467120e-01,  5.37308693e-01,\n",
              "       -2.41389012e+00, -4.72524929e+00,  4.41376114e+00,  3.62466645e+00,\n",
              "        7.71495104e+00,  2.53193712e+00, -2.50636673e+00, -1.09057915e+00,\n",
              "        2.12674499e+00,  3.47536707e+00,  6.45313120e+00, -1.65037847e+00,\n",
              "       -5.95440984e-01,  5.52904606e+00, -1.14253855e+00,  2.11229730e+00,\n",
              "        4.84385157e+00,  1.98101914e+00,  2.23360467e+00,  3.91924095e+00,\n",
              "       -3.54392678e-02, -3.90101433e-01, -4.66367197e+00,  1.01447430e+01,\n",
              "        2.41981077e+00,  2.83701324e+00,  3.32418919e+00,  5.42463970e+00,\n",
              "        6.29109859e-01,  6.35643911e+00,  1.43966742e+01, -8.11949492e-01,\n",
              "        3.87597179e+00,  2.14245605e+00,  5.55997324e+00,  4.39726639e+00,\n",
              "       -2.00026464e+00, -1.38288808e+00,  3.71889615e+00,  6.61794853e+00,\n",
              "       -3.25488520e+00,  4.73948717e+00, -9.99378145e-01,  2.38471794e+00,\n",
              "        1.60705614e+00, -1.89866519e+00,  2.61716509e+00,  1.23502350e+00,\n",
              "        3.49659729e+00,  3.11784625e+00,  6.04481888e+00,  5.46192884e+00,\n",
              "        5.33344388e-01, -2.46106195e+00,  3.10399127e+00,  5.55010700e+00,\n",
              "        4.72966385e+00, -5.53804111e+00, -3.09471607e+00,  3.09969711e+00,\n",
              "       -3.32451642e-01,  6.11855686e-01,  3.02489376e+00,  4.16212130e+00,\n",
              "       -4.14786053e+00,  1.46763253e+00, -2.48019814e-01, -1.66818142e+00,\n",
              "        1.63871074e+00, -1.50201678e-01,  2.27707052e+00,  1.93037844e+00,\n",
              "        5.01589918e+00, -8.45287502e-01,  5.09866810e+00,  5.61995983e+00,\n",
              "       -5.45298100e+00,  4.02774334e-01,  1.91022158e+00,  1.26001096e+00,\n",
              "        1.81235504e+00,  9.21794653e-01,  7.14646518e-01,  9.67910051e-01,\n",
              "        8.96800458e-01,  7.13186264e+00,  2.62998152e+00,  3.05621529e+00,\n",
              "        2.79670238e+00,  3.93474507e+00,  6.89882278e+00,  1.00149574e+01,\n",
              "        3.37884879e+00, -2.51768064e+00,  2.91661382e+00,  3.80306625e+00,\n",
              "        2.83308053e+00, -7.34791532e-02, -1.73660421e+00, -1.75217986e+00,\n",
              "       -1.46656156e+00,  2.98867249e+00, -3.90168190e-01, -1.78412163e+00,\n",
              "        1.48815119e+00, -1.01068163e+00,  1.60462356e+00,  3.92633057e+00,\n",
              "        4.88046694e+00,  1.92192948e+00,  4.76384640e+00, -1.90102732e+00,\n",
              "       -2.25140023e+00, -1.92398477e+00,  3.43351901e-01,  5.02762365e+00,\n",
              "       -1.09411621e+00, -8.89124751e-01,  5.73739719e+00, -1.82020426e+00,\n",
              "        6.33140802e-02,  2.52443409e+00,  1.10972643e+00, -6.63778782e-02,\n",
              "        5.19769526e+00, -8.52168679e-01,  6.02111399e-01,  3.64074326e+00,\n",
              "       -2.46607542e-01, -2.23967075e+00,  5.05638027e+00, -3.85599041e+00,\n",
              "       -1.36093390e+00,  4.81494129e-01,  1.21092165e+00,  2.45095468e+00,\n",
              "        2.28930712e+00, -1.79102898e-01,  4.18166733e+00,  1.54088688e+00,\n",
              "        3.12252855e+00,  3.44208121e+00,  3.25312543e+00,  6.46234691e-01,\n",
              "        4.12171555e+00, -3.22860122e+00,  2.88128328e+00,  7.47014141e+00,\n",
              "        2.23858881e+00,  4.68712473e+00, -2.29652810e+00,  6.49325132e+00,\n",
              "        5.62908745e+00,  2.91267323e+00,  4.67934227e+00,  1.25116050e+00,\n",
              "        7.08887291e+00,  3.13710809e+00, -1.86986160e+00,  2.64434958e+00,\n",
              "       -2.15685320e+00,  4.45205021e+00,  3.57116079e+00, -4.23491359e-01,\n",
              "        3.82948112e+00, -1.53923655e+00,  7.54490948e+00,  5.88690615e+00,\n",
              "       -5.78873158e-02,  2.75121713e+00,  9.55879688e-02,  9.57240701e-01,\n",
              "       -1.04867864e+00,  2.16230750e+00, -9.62537587e-01,  3.23318005e+00,\n",
              "        3.55462623e+00, -6.05485773e+00,  2.56141901e-01, -3.05842328e+00,\n",
              "        5.28585815e+00, -8.50857645e-02, -2.52136064e+00, -3.11689115e+00,\n",
              "        7.77618527e-01, -2.19935846e+00,  6.40551853e+00,  1.35364771e-01,\n",
              "        5.34395552e+00, -2.63031006e+00,  3.23672104e+00,  3.27263474e-01,\n",
              "       -7.59415388e-01,  4.18989086e+00,  4.17445600e-01, -1.07441282e+00,\n",
              "        5.30623293e+00,  4.25949812e+00,  2.84599972e+00,  6.73326850e-03,\n",
              "        4.09159756e+00, -2.56642675e+00,  7.97814608e-01, -7.65686035e-02,\n",
              "        1.18460026e+01, -5.11317301e+00,  2.12768102e+00, -6.85644746e-02,\n",
              "        2.45269084e+00,  4.59440660e+00,  5.91388083e+00, -6.83785558e-01,\n",
              "        2.64108253e+00,  1.46269882e+00,  4.55888653e+00,  3.22145581e-01,\n",
              "       -5.21418142e+00,  2.47903371e+00, -1.26617825e+00, -5.03579140e+00,\n",
              "        4.91598129e+00, -8.04741323e-01,  1.49293113e+00, -5.42532206e-02,\n",
              "        1.81962919e+00,  3.02541208e+00, -1.87402689e+00,  3.56141710e+00,\n",
              "       -1.17172015e+00,  8.17458916e+00,  1.76156712e+00,  8.56494617e+00,\n",
              "        2.37535787e+00, -1.10923493e+00,  2.12703991e+00, -1.30416262e+00,\n",
              "        7.54290438e+00,  8.63721085e+00,  4.14210844e+00, -3.19361836e-01,\n",
              "        3.27061228e-02,  1.92092001e+00,  2.18225884e+00,  5.39836824e-01,\n",
              "        8.13968563e+00,  1.69360244e+00, -4.80706739e+00,  2.41451979e+00,\n",
              "        1.14672875e+00,  2.51632023e+00,  4.43298531e+00,  4.16463566e+00,\n",
              "        3.40437365e+00, -1.24665642e+00, -1.76110590e+00,  5.76372480e+00,\n",
              "        1.28007555e+00, -7.55480409e-01,  3.73181152e+00, -3.46616507e-02,\n",
              "        2.14027762e+00, -3.49755704e-01,  2.65616179e+00, -1.47644138e+00,\n",
              "        2.44346544e-01,  4.49561214e+00,  9.25892925e+00,  5.59715128e+00,\n",
              "       -3.58173156e+00,  5.89387989e+00,  3.73193240e+00, -1.16290152e+00,\n",
              "        6.96546078e-01,  3.15923309e+00,  6.31334686e+00,  8.51759732e-01,\n",
              "        2.03691125e+00,  3.14980936e+00,  5.21076584e+00, -6.41688824e-01,\n",
              "       -5.22835445e+00,  8.61461735e+00, -2.35459852e+00, -2.25364357e-01,\n",
              "        3.16644573e+00, -3.49614072e+00,  4.71996546e+00,  2.08198261e+00,\n",
              "        6.27745688e-01,  6.04050541e+00,  3.29862380e+00,  2.26984477e+00,\n",
              "        2.29255795e+00,  3.10569286e-01,  4.00031662e+00, -1.72848701e+00,\n",
              "        3.13618636e+00,  3.59692597e+00,  5.81167221e+00,  1.27334738e+00,\n",
              "        5.43511105e+00, -1.38126791e+00,  2.44473457e-01,  3.34063864e+00,\n",
              "       -3.08367181e+00,  6.40539360e+00,  4.48618793e+00,  6.61527538e+00,\n",
              "       -2.78981519e+00,  1.40361261e+00, -1.49638462e+00,  7.49764776e+00,\n",
              "       -2.96791553e-01, -2.89781630e-01,  5.54057884e+00,  3.57053852e+00,\n",
              "        3.33752060e+00,  4.09716749e+00,  2.11093259e+00, -5.51502109e-02,\n",
              "        4.66808558e+00,  6.46933839e-02,  1.80447137e+00, -2.88074207e+00,\n",
              "        4.88606834e+00,  8.18471050e+00,  3.37159777e+00,  3.64981699e+00,\n",
              "        4.18245506e+00, -1.28186607e+00,  2.08815575e+00,  6.22891712e+00,\n",
              "        4.09073925e+00,  6.34212923e+00, -3.60007942e-01,  1.95892143e+00,\n",
              "        7.62830973e+00, -5.71194410e-01,  3.93801737e+00,  4.61438751e+00,\n",
              "        3.82316494e+00,  4.59502220e-01,  5.19247341e+00,  7.92164087e-01,\n",
              "       -3.52555990e+00,  5.97806358e+00,  4.40496445e+00,  4.49441433e+00,\n",
              "       -7.58284211e-01,  2.03110266e+00, -1.78374743e+00,  7.01327658e+00,\n",
              "        1.30757809e+00, -7.08639562e-01,  1.89794707e+00,  3.38270926e+00,\n",
              "        2.92735887e+00, -2.52981138e+00,  3.04449320e+00,  7.49294662e+00,\n",
              "       -1.21936798e+00,  1.88686466e+00,  3.59484625e+00, -1.72809660e+00,\n",
              "        1.62192512e+00,  9.74981117e+00, -5.99513054e-01, -1.69282448e+00,\n",
              "        4.22666645e+00,  3.74592006e-01, -3.42933106e+00,  8.11247253e+00,\n",
              "       -2.68923044e-02,  3.26406002e+00,  5.88111460e-01,  1.05680478e+00,\n",
              "        4.00325680e+00,  4.16660786e+00, -1.22839820e+00,  4.27530575e+00,\n",
              "        2.26540995e+00,  3.94730425e+00,  1.02789485e+00,  1.59667683e+00,\n",
              "        1.46266127e+00,  3.15239143e+00,  4.77309275e+00, -2.15773916e+00,\n",
              "        1.50497115e+00, -7.53678083e-01,  5.51045513e+00,  4.29053831e+00,\n",
              "        4.96881008e+00, -6.10134602e-01, -6.89316094e-02, -2.20841289e+00,\n",
              "        2.44497132e+00,  8.14722824e+00,  2.62385178e+00,  1.55036378e+00,\n",
              "       -6.39127970e-01, -9.46289480e-01,  4.03391075e+00,  4.15655565e+00,\n",
              "       -1.85123885e+00,  2.15247488e+00, -3.28065634e+00,  1.62720358e+00,\n",
              "        4.14469862e+00, -3.45667434e+00,  9.71867371e+00, -3.91683578e+00,\n",
              "        4.96808624e+00, -3.05673218e+00,  3.65694070e+00,  5.65800047e+00,\n",
              "        3.28082013e+00,  5.70230055e+00,  7.37558460e+00,  6.49149513e+00,\n",
              "        6.02848244e+00,  2.88456440e+00, -6.41565943e+00,  4.16143894e+00,\n",
              "       -1.04379296e-01,  2.92158389e+00,  3.07723093e+00,  3.58292556e+00,\n",
              "        1.77294040e+00,  3.02254629e+00, -1.21780485e-01,  3.31225467e+00,\n",
              "       -1.71443415e+00,  4.36251259e+00,  2.62394571e+00,  4.09806442e+00,\n",
              "       -1.46425641e+00,  3.91371441e+00, -4.81947541e-01,  1.21578395e+00,\n",
              "        6.75623417e+00,  4.41026258e+00,  1.09508276e+00,  3.17674589e+00,\n",
              "        3.82566953e+00,  2.28092337e+00,  6.69718838e+00,  9.29287672e-01,\n",
              "        4.23693419e-01,  3.91542196e+00,  6.21319437e+00, -7.27116525e-01,\n",
              "        7.22355604e+00,  2.79309034e-01,  5.91199064e+00,  2.56188631e+00,\n",
              "       -4.13175404e-01,  1.22454047e+00,  3.31801295e-01,  4.08253288e+00,\n",
              "        7.25278711e+00, -2.76098633e+00,  2.53523874e+00, -1.49252117e+00,\n",
              "        4.10840178e+00,  6.75566673e+00,  1.71253657e+00,  6.73781157e-01,\n",
              "        3.60708141e+00, -2.50319541e-01,  2.86812067e+00, -8.83605957e-01,\n",
              "        5.86496353e-01,  1.49525356e+00, -2.69508386e+00,  3.71722317e+00,\n",
              "        1.40227473e+00,  1.00289927e+01,  6.20662498e+00,  2.86280632e+00,\n",
              "       -2.17893064e-01,  2.77815390e+00,  4.79570913e+00,  1.36278582e+00,\n",
              "       -9.93774652e-01, -6.62537456e-01,  6.63259029e-01, -3.12275934e+00,\n",
              "        2.67227125e+00,  5.46600103e+00,  9.28204656e-01, -2.02156138e+00,\n",
              "       -8.13034058e-01,  4.17808437e+00,  1.02783465e+00,  6.85158682e+00,\n",
              "       -7.90474987e+00, -2.40661812e+00,  6.17045283e-01, -1.19413137e+00,\n",
              "        6.44307613e-01,  4.91061354e+00,  2.43882895e+00,  5.50212717e+00,\n",
              "        5.14913893e+00,  4.20041847e+00, -7.55125165e-01, -5.43456841e+00,\n",
              "       -1.59380126e+00, -1.62690377e+00, -1.94040966e+00,  1.90068424e+00,\n",
              "        6.34949112e+00,  1.46848035e+00,  4.16004658e+00, -9.77174044e-01,\n",
              "       -7.07537174e-01,  6.18956709e+00,  7.99631119e+00, -5.05524337e-01,\n",
              "        3.45163202e+00,  1.77005196e+00,  5.12637138e+00,  4.15790749e+00,\n",
              "        4.33489943e+00,  4.47130156e+00,  6.77327013e+00,  4.08824062e+00,\n",
              "        3.10420370e+00,  7.85267353e+00,  2.70743579e-01,  8.30745339e-01,\n",
              "       -1.93802547e+00, -1.78296614e+00, -2.17121649e+00, -2.01420331e+00,\n",
              "        6.00555182e+00,  2.26896358e+00, -9.06659842e-01,  3.95335817e+00,\n",
              "        1.91552353e+00, -1.87055445e+00,  5.08445168e+00, -4.75918007e+00,\n",
              "        1.43438315e+00, -6.32802963e-01,  2.30425620e+00,  2.30636048e+00,\n",
              "        5.22133923e+00,  2.37438631e+00, -9.13519621e-01,  7.16332293e+00,\n",
              "        1.48802578e+00,  3.56341696e+00,  2.26574779e+00, -4.97227097e+00],\n",
              "      dtype=float32)>"
            ]
          },
          "metadata": {
            "tags": []
          },
          "execution_count": 54
        }
      ]
    },
    {
      "cell_type": "code",
      "metadata": {
        "colab": {
          "base_uri": "https://localhost:8080/"
        },
        "id": "WxrU7E66qsws",
        "outputId": "a71e3ef2-5a2a-4dff-aa4b-dd707db273d5"
      },
      "source": [
        "model(x)"
      ],
      "execution_count": null,
      "outputs": [
        {
          "output_type": "execute_result",
          "data": {
            "text/plain": [
              "<tf.Tensor: shape=(1000,), dtype=float32, numpy=\n",
              "array([-7.85035086e+00,  7.81209517e+00, -7.99757051e+00,  3.26462030e+00,\n",
              "        4.74674988e+00, -7.79062700e+00, -5.47898293e+00, -2.95280957e+00,\n",
              "        5.86925507e+00,  8.23187447e+00, -2.02526474e+00, -5.66158724e+00,\n",
              "       -2.04738903e+00, -4.15793657e+00, -1.72084820e+00, -8.51425457e+00,\n",
              "       -4.31197262e+00,  4.67290592e+00,  5.43926716e+00, -6.23506784e+00,\n",
              "       -5.67999935e+00,  7.58511114e+00,  1.40954280e+00,  1.04579210e-01,\n",
              "        2.32919455e-01,  5.91721439e+00,  6.87325573e+00, -6.80127501e-01,\n",
              "       -2.71151757e+00,  4.96872711e+00, -7.06448197e-01,  1.07123053e+00,\n",
              "       -2.81230092e-01, -6.40669060e+00,  3.68017054e+00, -7.41931438e-01,\n",
              "       -5.90190113e-01, -6.13544416e+00, -4.64166117e+00,  4.79236317e+00,\n",
              "       -4.58463717e+00,  1.76340652e+00,  3.62747073e+00,  1.68894744e+00,\n",
              "       -4.14022766e-02,  4.56019735e+00, -4.57552195e+00,  5.04628897e+00,\n",
              "       -1.99846995e+00,  4.84139490e+00,  6.07402134e+00, -2.34404349e+00,\n",
              "        5.25371552e-01,  5.81439257e+00,  5.42639637e+00, -3.99004459e+00,\n",
              "       -1.61859322e+00,  6.38688087e+00, -1.27911987e+01, -3.37484574e+00,\n",
              "        9.90360498e-01,  8.41575718e+00, -1.64442897e+00,  1.11257982e+00,\n",
              "       -6.88608837e+00,  6.35498476e+00, -7.11841524e-01,  1.00728261e+00,\n",
              "       -2.82641673e+00, -1.24237791e-01, -2.60783339e+00,  4.49711233e-02,\n",
              "       -2.52322912e+00, -3.15044880e+00, -1.65097547e+00,  1.03440928e+00,\n",
              "        8.03267384e+00,  2.09479260e+00, -1.91087985e+00,  9.86758995e+00,\n",
              "       -5.44425297e+00,  3.91111350e+00,  1.25888753e+00,  1.16729140e+00,\n",
              "       -1.62370574e+00, -1.48673189e+00, -6.87843037e+00, -1.38041949e+00,\n",
              "        2.57246065e+00, -5.54839492e-01, -6.37183094e+00, -3.68941498e+00,\n",
              "        1.60656393e+00, -3.85905683e-01, -1.39680099e+01,  3.75689030e+00,\n",
              "        7.34379244e+00,  1.42136827e-01, -7.60895014e+00, -2.35029936e+00,\n",
              "        1.18655539e+00, -5.06600380e-01,  1.22124684e+00,  5.90222597e+00,\n",
              "       -8.93071079e+00,  9.18122053e-01,  1.13273525e+00,  6.90681171e+00,\n",
              "        1.26758456e+00, -6.45669889e+00, -3.76878881e+00, -3.25556219e-01,\n",
              "        7.58087039e-01,  1.54309788e+01,  2.40289479e-01,  8.54588032e-01,\n",
              "       -3.98700333e+00, -2.07288218e+00, -9.57598591e+00,  6.96771622e+00,\n",
              "       -6.95211172e+00,  6.42863369e+00, -1.70728385e+00,  3.38549161e+00,\n",
              "       -8.95877457e+00,  1.81620967e+00,  3.20589089e+00,  5.92869282e+00,\n",
              "       -4.00432062e+00,  8.18603635e-01,  5.07267284e+00,  2.22488093e+00,\n",
              "        2.70415485e-01, -8.02801847e-01, -9.14464569e+00, -8.28792477e+00,\n",
              "        6.46262121e+00, -3.30027318e+00,  5.18139648e+00,  1.07863693e+01,\n",
              "       -1.26294032e-01,  8.67510414e+00, -4.86531162e+00,  3.59516597e+00,\n",
              "       -3.27431345e+00, -8.59639168e+00, -5.78544903e+00, -8.68583202e+00,\n",
              "        5.54172277e+00, -7.20889473e+00, -4.93304759e-01, -7.66512108e+00,\n",
              "        1.22013581e+00, -9.56297302e+00,  7.05000591e+00,  2.13234615e+00,\n",
              "       -4.55856133e+00,  5.26478720e+00,  6.68957758e+00, -3.40769958e+00,\n",
              "       -9.43329716e+00, -2.23440504e+00, -4.44854450e+00,  7.17825699e+00,\n",
              "       -7.23831773e-01, -5.23640585e+00,  5.47281075e+00,  4.18394756e+00,\n",
              "        1.91161656e+00, -6.47544479e+00,  1.51140594e+00,  8.84916782e+00,\n",
              "       -4.45748389e-01, -5.86859322e+00, -7.03908205e+00,  4.45278311e+00,\n",
              "       -2.85812640e+00,  3.56400871e+00, -2.32927299e+00,  1.36296129e+00,\n",
              "       -3.62704277e+00, -2.14255667e+00, -9.58957016e-01, -3.71360564e+00,\n",
              "       -5.62429333e+00,  1.08872843e+01, -6.70159817e+00,  8.50332832e+00,\n",
              "        4.59172058e+00, -6.47005844e+00,  2.89248586e+00,  4.73386717e+00,\n",
              "       -4.48757124e+00, -1.07875383e+00,  1.37339282e+00,  4.19326830e+00,\n",
              "        1.12237310e+00,  1.22937107e+00, -2.44365573e+00,  4.77433491e+00,\n",
              "       -7.89637041e+00, -7.80673265e-01,  1.16271877e+00,  3.63366342e+00,\n",
              "       -2.15375647e-01, -3.67054343e+00, -4.78489667e-01,  2.70301193e-01,\n",
              "       -1.25896072e+00, -2.81554413e+00,  2.01366544e+00,  1.86629367e+00,\n",
              "       -4.34945598e-02, -7.20817757e+00, -1.73016548e-01, -5.69626141e+00,\n",
              "       -1.76359844e+00,  5.85223579e+00,  1.05961266e+01, -1.95790267e+00,\n",
              "       -3.20936728e+00,  4.40465629e-01,  1.06993175e+00,  4.82408285e+00,\n",
              "       -7.24301863e+00,  3.68540287e+00,  6.24490690e+00, -7.59585667e+00,\n",
              "        4.79033023e-01,  3.35878611e+00,  6.03877497e+00, -1.77414036e+00,\n",
              "        1.60104263e+00,  6.52543247e-01, -2.66026855e-01,  4.45423746e+00,\n",
              "       -8.04259109e+00, -1.61579342e+01, -7.42427063e+00, -4.55272049e-01,\n",
              "        3.29611182e+00, -4.42606354e+00,  1.05240417e+00,  3.81830549e+00,\n",
              "       -1.77638710e+00,  1.43316388e+00, -1.46807361e+00, -6.42039490e+00,\n",
              "        1.82148314e+00, -7.53004646e+00, -2.52276158e+00,  1.29050565e+00,\n",
              "        2.33846760e+00,  5.73098183e+00, -3.44005871e+00, -1.08313942e+01,\n",
              "       -2.89327478e+00, -7.68492341e-01, -6.80330098e-01, -3.25032973e+00,\n",
              "        1.78651762e+00, -5.54091692e+00,  3.02778602e+00,  5.43761635e+00,\n",
              "       -3.50631618e+00, -1.27141304e+01,  2.96171713e+00, -4.45923424e+00,\n",
              "        3.89113379e+00,  3.12395525e+00, -7.78384638e+00,  7.75795841e+00,\n",
              "        1.03192186e+00,  5.02913094e+00,  6.97310328e-01, -1.62930310e+00,\n",
              "       -2.42720318e+00, -3.72938871e+00, -7.08168554e+00,  1.66847003e+00,\n",
              "       -5.82401180e+00, -8.07204485e-01, -7.86304998e+00,  4.89795780e+00,\n",
              "       -3.20188737e+00,  1.37620049e+01, -5.65437365e+00,  1.21907091e+00,\n",
              "       -5.81513929e+00, -7.13724613e+00, -1.14879150e+01,  4.37730122e+00,\n",
              "       -4.05903196e+00, -2.97409272e+00, -6.10791254e+00,  2.33800626e+00,\n",
              "       -5.71001768e+00, -8.25847089e-01,  8.24114740e-01, -1.50528252e-01,\n",
              "        2.20060563e+00, -5.10857296e+00,  6.59965229e+00,  7.89942169e+00,\n",
              "        2.76442432e+00, -5.38093042e+00, -6.92970872e-01, -1.05114841e+00,\n",
              "        1.93547261e+00, -3.07610512e+00, -1.19692230e+00, -6.42253494e+00,\n",
              "       -2.14066720e+00, -4.40793896e+00, -5.04449940e+00,  5.33199978e+00,\n",
              "       -5.23622274e-01,  3.49713755e+00,  6.90627766e+00, -7.02941537e-01,\n",
              "       -1.02947903e+00, -7.07861042e+00,  7.15536785e+00, -4.74985361e+00,\n",
              "       -5.60852909e+00,  2.80546308e+00, -5.32143545e+00, -5.50813103e+00,\n",
              "       -1.39075768e+00, -7.54395103e+00, -2.27367187e+00, -3.56351042e+00,\n",
              "       -4.04479504e+00, -5.79334021e-01, -6.52096319e+00, -1.20046282e+00,\n",
              "       -3.08277822e+00,  2.05020833e+00, -2.39717102e+00, -6.29551125e+00,\n",
              "       -2.60960281e-01, -5.34512329e+00, -5.84629822e+00,  9.14377594e+00,\n",
              "       -3.47802520e+00,  1.06542130e+01,  3.14812541e+00,  5.93730974e+00,\n",
              "       -2.88271689e+00, -2.29770875e+00,  4.31213409e-01,  3.81598997e+00,\n",
              "       -4.77438402e+00, -7.13419199e+00,  6.57388419e-02,  1.04713035e+00,\n",
              "        3.91750216e+00, -3.01562810e+00,  4.92866659e+00,  1.18836522e+00,\n",
              "       -3.26693821e+00,  9.20891404e-01,  7.81685948e-01, -4.02532959e+00,\n",
              "        3.31139946e+00,  3.66233850e+00,  8.06449795e+00, -5.14161289e-01,\n",
              "       -8.45669657e-02, -6.23989391e+00, -4.74029493e+00,  1.10132647e+00,\n",
              "        8.32320404e+00, -5.01205921e+00, -7.70540905e+00, -1.95325041e+00,\n",
              "       -9.48248959e+00, -2.06869578e+00, -5.68469286e+00,  2.93631601e+00,\n",
              "       -4.91835165e+00,  1.03104477e+01, -1.15504932e+00,  4.82270670e+00,\n",
              "        5.57448292e+00, -5.85358715e+00,  1.40259993e+00, -4.23733282e+00,\n",
              "        2.09227991e+00,  3.49982309e+00, -5.63162029e-01, -3.17723155e+00,\n",
              "       -1.04145855e-01, -1.77177250e+00,  3.17627048e+00, -3.35973549e+00,\n",
              "        1.05388127e-01,  1.28149557e+00,  2.03787518e+00,  3.14057738e-01,\n",
              "        5.79575634e+00, -3.92779207e+00, -9.93605709e+00, -4.36867619e+00,\n",
              "       -1.88741314e+00, -8.54774189e+00, -1.20866156e+01, -1.69904685e+00,\n",
              "       -2.11079502e+00, -3.69567108e+00,  3.91496158e+00,  1.01576290e+01,\n",
              "        4.99722838e-01, -7.66126633e+00,  7.67042875e+00,  8.48509693e+00,\n",
              "        6.58181000e+00, -4.04302073e+00, -2.66160583e+00,  3.58525538e+00,\n",
              "        1.12830412e+00,  4.73091602e+00, -3.02140260e+00, -2.90643167e+00,\n",
              "        3.49178767e+00, -8.68145275e+00,  2.52614999e+00,  1.50231004e+00,\n",
              "        7.14479625e-01,  7.92623425e+00,  5.98605204e+00,  5.30285645e+00,\n",
              "        1.38172281e+00,  2.61762810e+00, -7.09844494e+00, -2.60522032e+00,\n",
              "       -2.19038320e+00, -1.94446063e+00,  5.44371700e+00,  1.90224540e+00,\n",
              "       -4.20939493e+00, -5.26022482e+00, -2.97664118e+00, -2.79788041e+00,\n",
              "       -7.01975727e+00, -7.53666639e+00,  3.45646429e+00,  1.20589113e+00,\n",
              "        9.49436855e+00, -1.40923560e+00, -3.34341383e+00, -7.53018093e+00,\n",
              "        6.77757144e-01,  2.38694286e+00,  6.87237215e+00, -5.37699699e+00,\n",
              "       -2.57399178e+00,  6.40113306e+00, -3.88509750e+00,  8.20080161e-01,\n",
              "        3.50659966e+00,  2.39427686e+00, -2.91479683e+00,  1.88464630e+00,\n",
              "       -3.61890125e+00, -4.19468975e+00, -9.20249462e+00,  1.29832211e+01,\n",
              "       -1.45188403e+00,  1.91631258e+00,  2.24093103e+00,  7.03983688e+00,\n",
              "       -1.15595534e-01,  5.78831005e+00,  1.79055290e+01, -2.97122955e+00,\n",
              "        2.18569541e+00,  4.02868688e-01,  5.39286327e+00,  5.59798670e+00,\n",
              "       -6.39276695e+00, -6.63748646e+00,  1.61486208e+00,  7.09553146e+00,\n",
              "       -6.89123678e+00,  6.26122522e+00, -6.06953621e+00,  4.02186513e-01,\n",
              "       -2.33423918e-01, -5.20582724e+00,  1.65833759e+00, -1.88830662e+00,\n",
              "        2.80651927e+00,  7.43241906e-01,  5.22452164e+00,  5.29681253e+00,\n",
              "       -8.73612463e-01, -5.46248245e+00, -8.84701252e-01,  9.59068871e+00,\n",
              "        3.22279263e+00, -1.08044958e+01, -9.66757870e+00,  2.34450436e+00,\n",
              "       -4.27303791e+00, -2.17113543e+00,  2.24597740e+00,  3.32180357e+00,\n",
              "       -7.57341576e+00, -3.38640833e+00, -1.38835073e+00, -4.04106712e+00,\n",
              "       -1.26383042e+00, -3.33887011e-01,  7.40855813e-01, -4.92294014e-01,\n",
              "       -1.33024147e-02, -6.20324802e+00,  8.02109909e+00,  6.67873287e+00,\n",
              "       -1.05273714e+01, -2.40289950e+00, -1.43305588e+00, -5.99960387e-01,\n",
              "       -2.09018564e+00, -1.35858595e+00, -1.86511517e+00,  3.27224314e-01,\n",
              "       -1.01156104e+00,  7.12995243e+00,  1.98386419e+00,  4.61399794e+00,\n",
              "        5.30875492e+00,  2.30786014e+00,  8.18250561e+00,  1.28561115e+01,\n",
              "        3.32918286e+00, -8.27481174e+00,  1.50482523e+00,  1.77475238e+00,\n",
              "       -8.55138004e-01, -3.46420288e+00, -6.48566723e+00, -5.92109013e+00,\n",
              "       -4.60624170e+00,  1.21879673e+00, -2.64372849e+00, -5.41782856e+00,\n",
              "       -1.88810456e+00, -3.55688810e+00,  1.95430741e-02,  3.71673679e+00,\n",
              "        3.98584485e+00, -8.47428679e-01,  1.42192030e+00, -3.31206059e+00,\n",
              "       -4.18218946e+00, -5.25032759e+00, -2.13115644e+00,  4.96800613e+00,\n",
              "       -6.84582710e+00, -4.93977833e+00,  4.30582428e+00, -5.73632622e+00,\n",
              "       -2.36636782e+00,  1.91978049e+00, -3.55490899e+00, -1.71659708e+00,\n",
              "        5.07354450e+00, -4.52027130e+00, -2.45641351e+00,  2.28793573e+00,\n",
              "       -6.64715099e+00, -5.51070118e+00,  2.27956796e+00, -9.07896423e+00,\n",
              "       -2.57849503e+00, -3.45603561e+00, -2.68202662e-01,  1.30359888e+00,\n",
              "        1.64682996e+00, -2.70972466e+00,  2.56092834e+00, -2.28611663e-01,\n",
              "       -5.55573702e-02,  2.46228957e+00,  9.60333407e-01, -1.24142408e+00,\n",
              "        2.03824210e+00, -7.08395958e+00,  2.26000920e-01,  6.83127356e+00,\n",
              "       -1.30267330e-02,  3.05217218e+00, -4.67663240e+00,  8.51960373e+00,\n",
              "        5.59695339e+00,  4.48202908e-01,  7.18711758e+00, -4.49105310e+00,\n",
              "        8.99180984e+00,  2.06467485e+00, -7.73830223e+00,  6.79527223e-01,\n",
              "       -8.60042858e+00,  2.34964776e+00, -1.12942278e+00, -5.95273733e+00,\n",
              "        2.86521530e+00, -5.07565880e+00,  1.01633072e+01,  5.04987669e+00,\n",
              "       -1.25709343e+00,  1.61771321e+00, -3.69686365e+00,  6.75050974e-01,\n",
              "       -4.31111908e+00,  1.57920659e+00, -3.96694374e+00,  1.96629632e+00,\n",
              "        3.68787003e+00, -1.37698898e+01, -3.62787342e+00, -7.25236034e+00,\n",
              "        6.47264004e+00, -3.19468117e+00, -7.46958160e+00, -7.99732733e+00,\n",
              "        5.36565363e-01, -3.72526455e+00,  5.37796926e+00, -3.75829124e+00,\n",
              "        7.02578163e+00, -4.83788681e+00,  2.94220161e+00, -3.35505772e+00,\n",
              "       -3.77174187e+00,  2.16019797e+00, -1.21222663e+00, -6.36394072e+00,\n",
              "        7.12415791e+00, -5.07250071e-01,  3.13008809e+00, -3.73768806e+00,\n",
              "        3.31946707e+00, -7.12999916e+00, -2.02511430e+00, -2.90962934e+00,\n",
              "        1.70763950e+01, -1.19934645e+01,  6.28520697e-02, -2.32016730e+00,\n",
              "        7.13479578e-01,  4.31001902e+00,  3.25852489e+00, -5.86917973e+00,\n",
              "        1.29690278e+00, -8.00691605e-01,  6.54216051e+00, -3.87328625e+00,\n",
              "       -1.00678654e+01, -4.54192907e-01, -5.45965719e+00, -1.11969528e+01,\n",
              "        3.72617149e+00, -3.71118593e+00, -3.40737939e+00, -5.06204844e+00,\n",
              "       -5.92945755e-01, -1.74695003e+00, -7.57447052e+00,  3.15127039e+00,\n",
              "       -5.26576614e+00,  1.01293554e+01,  7.22880661e-01,  9.59135437e+00,\n",
              "       -4.65002489e+00, -5.84142685e+00,  3.86244059e-01, -3.49659944e+00,\n",
              "        8.46828270e+00,  7.98169708e+00,  4.12205076e+00, -3.19959283e+00,\n",
              "       -3.29698515e+00, -1.77754498e+00, -1.84183508e-01, -2.20089555e+00,\n",
              "        9.41279984e+00, -3.47581601e+00, -1.06850548e+01, -9.99693394e-01,\n",
              "       -6.96876526e+00,  3.76014805e+00,  2.02490306e+00,  2.28440952e+00,\n",
              "       -7.59661317e-01, -2.96711946e+00, -5.85167170e+00,  6.55962181e+00,\n",
              "       -4.09593296e+00, -2.52539015e+00,  3.62833714e+00, -3.79101610e+00,\n",
              "        1.53435767e+00, -5.17665482e+00,  4.86423999e-01, -4.42473793e+00,\n",
              "       -2.57830191e+00,  4.76365900e+00,  1.11402874e+01,  5.78814030e+00,\n",
              "       -9.92346573e+00,  5.14056206e+00,  1.84933901e+00, -7.32521486e+00,\n",
              "        1.54748964e+00,  3.69191313e+00,  5.74340534e+00, -1.62754941e+00,\n",
              "        7.85839677e-01, -6.51528299e-01,  4.36135006e+00, -2.94589782e+00,\n",
              "       -7.24224567e+00,  1.13430166e+01, -3.51655126e+00, -3.79663563e+00,\n",
              "        1.36774373e+00, -6.08802700e+00,  3.93877316e+00, -2.23069167e+00,\n",
              "       -9.12227631e-01,  5.96766853e+00,  9.19385850e-01,  3.39928031e+00,\n",
              "       -1.70350122e+00,  9.75091308e-02,  2.08342838e+00, -6.87112617e+00,\n",
              "        2.70843005e+00,  4.61492091e-01,  6.96404934e+00, -4.53004867e-01,\n",
              "        5.00324965e+00, -3.51397967e+00, -4.37990606e-01, -1.84851587e+00,\n",
              "       -7.67060757e+00,  7.02160120e+00,  2.93955374e+00,  8.04392624e+00,\n",
              "       -1.08185482e+01,  1.43765688e-01, -4.72991228e+00,  8.92563152e+00,\n",
              "       -4.06261653e-01, -3.38155985e+00,  1.84090853e+00,  1.96288872e+00,\n",
              "        7.22540498e-01,  2.89514899e+00,  9.19170737e-01, -2.58177328e+00,\n",
              "        4.12653399e+00, -3.39322758e+00, -3.60545158e-01, -7.79315710e+00,\n",
              "        6.33979559e+00,  1.09911633e+01,  2.13252187e+00,  1.27861857e+00,\n",
              "        2.98582888e+00, -4.78939819e+00,  2.54605913e+00,  8.62347221e+00,\n",
              "        4.82808065e+00,  5.42103052e+00, -5.55335951e+00, -4.34248090e-01,\n",
              "        9.36298561e+00, -5.43152618e+00,  1.45808458e+00,  6.44395304e+00,\n",
              "        2.62634325e+00, -2.75073051e+00,  5.70477104e+00, -5.11340570e+00,\n",
              "       -8.06118011e+00,  6.14429522e+00,  2.35361314e+00,  3.32723117e+00,\n",
              "       -3.00226426e+00,  1.27537119e+00, -4.85076523e+00,  7.67598581e+00,\n",
              "       -1.27311242e+00, -3.11054850e+00, -1.38417816e+00, -1.52618265e+00,\n",
              "        1.44718885e+00, -5.42330694e+00, -1.23033297e+00,  9.06627846e+00,\n",
              "       -6.42587090e+00,  3.46750641e+00,  8.76746297e-01, -7.98300028e+00,\n",
              "       -1.44938326e+00,  1.33737564e+01, -4.48745203e+00, -5.28968763e+00,\n",
              "        1.36496639e+00, -1.42338443e+00, -7.65886354e+00,  6.62217188e+00,\n",
              "       -1.34253371e+00,  5.62806070e-01, -1.03439438e+00,  8.04636069e-03,\n",
              "        3.05964112e+00,  3.74813771e+00, -4.10482025e+00,  6.37581348e+00,\n",
              "        1.19899654e+00,  5.87987065e-01, -3.09929848e+00, -1.66385758e+00,\n",
              "       -2.11229348e+00,  8.46392572e-01,  3.39724779e+00, -6.49139166e+00,\n",
              "       -2.41874480e+00, -9.16670859e-01,  4.87096691e+00,  1.96057057e+00,\n",
              "        2.50490189e+00, -3.73737478e+00, -4.06879139e+00, -5.29905367e+00,\n",
              "        3.35560942e+00,  6.29096603e+00,  1.20928931e+00, -2.16156781e-01,\n",
              "       -6.11878633e+00, -4.49968290e+00,  1.94941342e+00,  4.41226768e+00,\n",
              "       -6.61838007e+00, -1.52856278e+00, -7.50575781e+00, -1.01493847e+00,\n",
              "        1.35944474e+00, -8.09299755e+00,  1.25987291e+01, -8.05344772e+00,\n",
              "        4.36587620e+00, -4.99688339e+00,  3.02330947e+00,  7.47431517e+00,\n",
              "        3.47344828e+00,  4.03140926e+00,  1.24026594e+01,  4.62304878e+00,\n",
              "        3.20048285e+00,  6.65674210e-01, -1.28612814e+01,  2.67298841e+00,\n",
              "       -1.62928116e+00,  6.59756303e-01,  1.93828845e+00,  2.35673523e+00,\n",
              "        4.13697124e-01, -4.12420630e-01, -4.04615259e+00,  2.58848453e+00,\n",
              "       -3.36518550e+00,  5.44250011e+00,  3.49717975e+00,  2.40014005e+00,\n",
              "       -3.54096985e+00,  9.44629788e-01, -4.57940102e+00, -9.74387050e-01,\n",
              "        7.19105625e+00,  5.77215576e+00, -1.64670289e-01,  3.13531661e+00,\n",
              "        2.88367724e+00,  2.38599464e-01,  6.51482153e+00, -3.69841766e+00,\n",
              "        7.94570804e-01,  2.39254642e+00,  4.38667727e+00, -4.55660152e+00,\n",
              "        9.53611469e+00, -3.88095880e+00,  4.29809046e+00,  6.68953896e-01,\n",
              "       -4.81860447e+00,  5.84791265e-02, -1.33578956e+00,  2.67595410e+00,\n",
              "        5.78645754e+00, -8.25593090e+00,  2.96386528e+00, -3.70153809e+00,\n",
              "        4.99643278e+00,  7.12020922e+00, -1.95940626e+00, -2.38535237e+00,\n",
              "        3.41345835e+00, -4.22257137e+00, -3.26297522e-01, -3.37068462e+00,\n",
              "       -5.70473194e-01, -1.51427031e+00, -9.66180992e+00,  9.78926361e-01,\n",
              "        8.58605981e-01,  1.53057470e+01,  8.03941154e+00,  1.50624323e+00,\n",
              "       -2.24569821e+00, -4.48320568e-01,  6.23641491e+00, -3.01457834e+00,\n",
              "       -9.30002308e+00, -2.71519518e+00, -1.46351829e-01, -8.25679016e+00,\n",
              "       -1.06131434e+00,  5.83175373e+00, -4.63058043e+00, -6.12019587e+00,\n",
              "       -2.81523418e+00,  3.87715721e+00, -1.48972726e+00,  7.51908255e+00,\n",
              "       -1.36984167e+01, -8.38490105e+00, -9.54303026e-01, -5.67984867e+00,\n",
              "       -2.97381496e+00,  5.90838718e+00,  8.02333891e-01,  6.82748508e+00,\n",
              "        1.60749650e+00,  7.36834288e+00, -4.32849073e+00, -1.07754335e+01,\n",
              "       -6.83438110e+00, -5.52051830e+00, -5.58664370e+00,  2.69798130e-01,\n",
              "        6.27563047e+00, -1.70545697e+00,  2.08574796e+00, -2.89760923e+00,\n",
              "       -5.61370897e+00,  6.28417778e+00,  9.11134624e+00, -5.29882002e+00,\n",
              "        3.72438931e+00, -1.75511551e+00,  5.30435848e+00,  3.71832728e+00,\n",
              "        2.02064085e+00,  3.32261848e+00,  1.04037743e+01,  2.71185493e+00,\n",
              "        2.72202778e+00,  7.81389332e+00, -2.36274290e+00,  7.35960484e-01,\n",
              "       -7.44127941e+00, -7.77890205e+00, -9.38287163e+00, -5.04131413e+00,\n",
              "        6.81135559e+00,  6.14733994e-01, -4.97041941e+00,  1.08101058e+00,\n",
              "       -4.59878445e-01, -5.84194708e+00,  6.67552567e+00, -1.11906738e+01,\n",
              "       -1.43641424e+00, -2.77338243e+00,  5.47346830e-01, -6.61433816e-01,\n",
              "        7.32590485e+00,  8.33442271e-01, -3.32936001e+00,  8.52875900e+00,\n",
              "       -6.50504470e-01,  6.94328785e+00,  2.91481726e-02, -9.73403740e+00],\n",
              "      dtype=float32)>"
            ]
          },
          "metadata": {
            "tags": []
          },
          "execution_count": 53
        }
      ]
    },
    {
      "cell_type": "code",
      "metadata": {
        "colab": {
          "base_uri": "https://localhost:8080/",
          "height": 265
        },
        "id": "u6gGnFYjqsuQ",
        "outputId": "1824bffd-c41f-404b-8605-215abea23fa1"
      },
      "source": [
        "plt.scatter(x, y, c=\"b\")\r\n",
        "plt.scatter(x, model(x), c=\"r\")\r\n",
        "plt.show()"
      ],
      "execution_count": null,
      "outputs": [
        {
          "output_type": "display_data",
          "data": {
            "image/png": "[encoded data removed]",
            "text/plain": [
              "<Figure size 432x288 with 1 Axes>"
            ]
          },
          "metadata": {
            "tags": [],
            "needs_background": "light"
          }
        }
      ]
    },
    {
      "cell_type": "code",
      "metadata": {
        "id": "lWQ360Joq0Rk"
      },
      "source": [
        "# This computes a single loss value for an entire batch\r\n",
        "def loss(target_y, predicted_y):\r\n",
        "  return tf.reduce_mean(tf.square(target_y - predicted_y))"
      ],
      "execution_count": null,
      "outputs": []
    },
    {
      "cell_type": "code",
      "metadata": {
        "colab": {
          "base_uri": "https://localhost:8080/",
          "height": 265
        },
        "id": "dF0dP5_6sC4I",
        "outputId": "a69cb52e-85ac-484b-be29-2c7aabe22ca5"
      },
      "source": [
        "plt.scatter(x, tf.square(y, tf.square(y, model(x))).numpy(), c=\"b\")\r\n",
        "plt.show()"
      ],
      "execution_count": null,
      "outputs": [
        {
          "output_type": "display_data",
          "data": {
            "image/png": "[encoded data removed]",
            "text/plain": [
              "<Figure size 432x288 with 1 Axes>"
            ]
          },
          "metadata": {
            "tags": [],
            "needs_background": "light"
          }
        }
      ]
    },
    {
      "cell_type": "code",
      "metadata": {
        "id": "tCgofKygq0Ox"
      },
      "source": [
        "\r\n",
        "def train(model, x, y, learning_rate):\r\n",
        "  with tf.GradientTape() as t:\r\n",
        "    current_loss = loss(y, model(x))\r\n",
        "\r\n",
        "  dw, db = t.gradient(current_loss, [model.w, model.b])\r\n",
        "  model.w.assign_sub(learning_rate * dw)\r\n",
        "  model.b.assign_sub(learning_rate * db)\r\n"
      ],
      "execution_count": null,
      "outputs": []
    },
    {
      "cell_type": "code",
      "metadata": {
        "id": "Kekw3hPUq0MH"
      },
      "source": [
        "model = MyModel()\r\n",
        "\r\n",
        "Ws, bs = [], []\r\n",
        "epochs = range(10)\r\n",
        "\r\n",
        "def training_loop(model, x, y):\r\n",
        "\r\n",
        "  for epoch in epochs:\r\n",
        "    train(model, x, y, learning_rate=0.1)\r\n",
        "\r\n",
        "    Ws.append(model.w.numpy())\r\n",
        "    bs.append(model.b.numpy())\r\n",
        "    current_loss = loss(y, model(x))\r\n",
        "\r\n",
        "    print(\"Epoch %2d: W=%1.2f b=%1.2f, loss=%2.5f\" %\r\n",
        "          (epoch, Ws[-1], bs[-1], current_loss))\r\n"
      ],
      "execution_count": null,
      "outputs": []
    },
    {
      "cell_type": "code",
      "metadata": {
        "colab": {
          "base_uri": "https://localhost:8080/",
          "height": 456
        },
        "id": "4QEHEnDUq0JT",
        "outputId": "331223ad-d174-434d-b04c-eb26cd8d2e25"
      },
      "source": [
        "print(\"Starting: W=%1.2f b=%1.2f, loss=%2.5f\" %\r\n",
        "      (model.w, model.b, loss(y, model(x))))\r\n",
        "\r\n",
        "training_loop(model, x, y)\r\n",
        "\r\n",
        "plt.plot(epochs, Ws, \"r\",\r\n",
        "         epochs, bs, \"b\")\r\n",
        "\r\n",
        "plt.plot([TRUE_W] * len(epochs), \"r--\",\r\n",
        "         [TRUE_B] * len(epochs), \"b--\")\r\n",
        "\r\n",
        "plt.legend([\"W\", \"b\", \"True W\", \"True b\"])\r\n",
        "plt.show()\r\n"
      ],
      "execution_count": null,
      "outputs": [
        {
          "output_type": "stream",
          "text": [
            "Starting: W=5.00 b=0.00, loss=9.34465\n",
            "Epoch  0: W=4.57 b=0.42, loss=6.15553\n",
            "Epoch  1: W=4.24 b=0.75, loss=4.18025\n",
            "Epoch  2: W=3.97 b=1.00, loss=2.95675\n",
            "Epoch  3: W=3.76 b=1.21, loss=2.19888\n",
            "Epoch  4: W=3.60 b=1.37, loss=1.72941\n",
            "Epoch  5: W=3.48 b=1.50, loss=1.43857\n",
            "Epoch  6: W=3.38 b=1.60, loss=1.25840\n",
            "Epoch  7: W=3.30 b=1.68, loss=1.14677\n",
            "Epoch  8: W=3.24 b=1.74, loss=1.07761\n",
            "Epoch  9: W=3.19 b=1.79, loss=1.03475\n"
          ],
          "name": "stdout"
        },
        {
          "output_type": "display_data",
          "data": {
            "image/png": "[encoded data removed]",
            "text/plain": [
              "<Figure size 432x288 with 1 Axes>"
            ]
          },
          "metadata": {
            "tags": [],
            "needs_background": "light"
          }
        }
      ]
    },
    {
      "cell_type": "code",
      "metadata": {
        "colab": {
          "base_uri": "https://localhost:8080/",
          "height": 282
        },
        "id": "NFg6Iufeq0GS",
        "outputId": "f1d866ee-319e-42f4-c779-64b91bf05370"
      },
      "source": [
        "# Visualize how the trained model performs\r\n",
        "plt.scatter(x, y, c=\"b\")\r\n",
        "plt.scatter(x, model(x), c=\"r\")\r\n",
        "plt.show()\r\n",
        "\r\n",
        "print(\"Current loss: %1.6f\" % loss(model(x), y).numpy())\r\n"
      ],
      "execution_count": null,
      "outputs": [
        {
          "output_type": "display_data",
          "data": {
            "image/png": "[encoded data removed]",
            "text/plain": [
              "<Figure size 432x288 with 1 Axes>"
            ]
          },
          "metadata": {
            "tags": [],
            "needs_background": "light"
          }
        },
        {
          "output_type": "stream",
          "text": [
            "Current loss: 1.034750\n"
          ],
          "name": "stdout"
        }
      ]
    },
    {
      "cell_type": "code",
      "metadata": {
        "id": "G5SK0M_mq0BC"
      },
      "source": [
        ""
      ],
      "execution_count": null,
      "outputs": []
    },
    {
      "cell_type": "code",
      "metadata": {
        "id": "UcDk1VyBqz-g"
      },
      "source": [
        ""
      ],
      "execution_count": null,
      "outputs": []
    },
    {
      "cell_type": "code",
      "metadata": {
        "id": "I5COU03CtcBO"
      },
      "source": [
        ""
      ],
      "execution_count": null,
      "outputs": []
    },
    {
      "cell_type": "code",
      "metadata": {
        "id": "lW8Dqe1Zqz7W"
      },
      "source": [
        "#いよいよkeras化\r\n",
        "#tensorがいかに楽になるか\r\n",
        "#可変長引数 **kwargs"
      ],
      "execution_count": null,
      "outputs": []
    },
    {
      "cell_type": "code",
      "metadata": {
        "colab": {
          "base_uri": "https://localhost:8080/"
        },
        "id": "VPu_l4k6qz4q",
        "outputId": "6d2eff60-4df1-4291-ee0c-791115f95749"
      },
      "source": [
        "class MyModelKeras(tf.keras.Model):\r\n",
        "  def __init__(self, **kwargs):\r\n",
        "    super().__init__(**kwargs)\r\n",
        "\r\n",
        "    self.w = tf.Variable(5.0)\r\n",
        "    self.b = tf.Variable(0.0)\r\n",
        "\r\n",
        "  def __call__(self, x, **kwargs):\r\n",
        "    return self.w * x + self.b\r\n",
        "\r\n",
        "keras_model = MyModelKeras()\r\n",
        "\r\n",
        "training_loop(keras_model, x, y)\r\n",
        "\r\n",
        "keras_model.save_weights(\"my_checkpoint\")\r\n"
      ],
      "execution_count": null,
      "outputs": [
        {
          "output_type": "stream",
          "text": [
            "Epoch  0: W=4.57 b=0.42, loss=6.15553\n",
            "Epoch  1: W=4.24 b=0.75, loss=4.18025\n",
            "Epoch  2: W=3.97 b=1.00, loss=2.95675\n",
            "Epoch  3: W=3.76 b=1.21, loss=2.19888\n",
            "Epoch  4: W=3.60 b=1.37, loss=1.72941\n",
            "Epoch  5: W=3.48 b=1.50, loss=1.43857\n",
            "Epoch  6: W=3.38 b=1.60, loss=1.25840\n",
            "Epoch  7: W=3.30 b=1.68, loss=1.14677\n",
            "Epoch  8: W=3.24 b=1.74, loss=1.07761\n",
            "Epoch  9: W=3.19 b=1.79, loss=1.03475\n"
          ],
          "name": "stdout"
        }
      ]
    },
    {
      "cell_type": "code",
      "metadata": {
        "id": "LO0EnzJJqz2r"
      },
      "source": [
        "keras_model = MyModelKeras()\r\n",
        "\r\n",
        "keras_model.compile(\r\n",
        "    run_eagerly=False,\r\n",
        "    optimizer=tf.keras.optimizers.SGD(learning_rate=0.1),\r\n",
        "    loss=tf.keras.losses.mean_squared_error,\r\n",
        ")\r\n"
      ],
      "execution_count": null,
      "outputs": []
    },
    {
      "cell_type": "code",
      "metadata": {
        "colab": {
          "base_uri": "https://localhost:8080/"
        },
        "id": "XzhInrY5qzzz",
        "outputId": "ac4171d6-82db-447f-fe38-ce431dc1857d"
      },
      "source": [
        "keras_model.fit(x, y, epochs=10, batch_size=1000)"
      ],
      "execution_count": null,
      "outputs": [
        {
          "output_type": "stream",
          "text": [
            "Epoch 1/10\n",
            "1/1 [==============================] - 0s 1ms/step - loss: 9.3447\n",
            "Epoch 2/10\n",
            "1/1 [==============================] - 0s 2ms/step - loss: 6.1555\n",
            "Epoch 3/10\n",
            "1/1 [==============================] - 0s 2ms/step - loss: 4.1803\n",
            "Epoch 4/10\n",
            "1/1 [==============================] - 0s 1ms/step - loss: 2.9568\n",
            "Epoch 5/10\n",
            "1/1 [==============================] - 0s 3ms/step - loss: 2.1989\n",
            "Epoch 6/10\n",
            "1/1 [==============================] - 0s 2ms/step - loss: 1.7294\n",
            "Epoch 7/10\n",
            "1/1 [==============================] - 0s 2ms/step - loss: 1.4386\n",
            "Epoch 8/10\n",
            "1/1 [==============================] - 0s 2ms/step - loss: 1.2584\n",
            "Epoch 9/10\n",
            "1/1 [==============================] - 0s 2ms/step - loss: 1.1468\n",
            "Epoch 10/10\n",
            "1/1 [==============================] - 0s 2ms/step - loss: 1.0776\n"
          ],
          "name": "stdout"
        },
        {
          "output_type": "execute_result",
          "data": {
            "text/plain": [
              "<tensorflow.python.keras.callbacks.History at 0x7f421b6a0e10>"
            ]
          },
          "metadata": {
            "tags": []
          },
          "execution_count": 82
        }
      ]
    },
    {
      "cell_type": "code",
      "metadata": {
        "id": "HmAD2qmjqzxG"
      },
      "source": [
        ""
      ],
      "execution_count": null,
      "outputs": []
    },
    {
      "cell_type": "code",
      "metadata": {
        "colab": {
          "base_uri": "https://localhost:8080/",
          "height": 282
        },
        "id": "aevhOC13qzud",
        "outputId": "500876fc-6b26-4a96-8617-6f10d5431ff0"
      },
      "source": [
        "plt.scatter(x, y, c=\"b\")\r\n",
        "plt.scatter(x, keras_model(x), c=\"r\")\r\n",
        "plt.show()\r\n",
        "\r\n",
        "print(\"Current loss: %1.6f\" % loss(keras_model(x), y).numpy())"
      ],
      "execution_count": null,
      "outputs": [
        {
          "output_type": "display_data",
          "data": {
            "image/png": "[encoded data removed]",
            "text/plain": [
              "<Figure size 432x288 with 1 Axes>"
            ]
          },
          "metadata": {
            "tags": [],
            "needs_background": "light"
          }
        },
        {
          "output_type": "stream",
          "text": [
            "Current loss: 1.034750\n"
          ],
          "name": "stdout"
        }
      ]
    },
    {
      "cell_type": "code",
      "metadata": {
        "id": "JGooMU0mqzrn"
      },
      "source": [
        ""
      ],
      "execution_count": null,
      "outputs": []
    },
    {
      "cell_type": "code",
      "metadata": {
        "id": "cIJFtLG9qzow"
      },
      "source": [
        "#https://www.tensorflow.org/guide/basic_training_loops"
      ],
      "execution_count": null,
      "outputs": []
    },
    {
      "cell_type": "code",
      "metadata": {
        "id": "Vjh-cQlUqslm"
      },
      "source": [
        ""
      ],
      "execution_count": null,
      "outputs": []
    },
    {
      "cell_type": "code",
      "metadata": {
        "id": "Kqh2qUM4qeTi"
      },
      "source": [
        "#いったんclassと親子クラスの継承、superについても"
      ],
      "execution_count": null,
      "outputs": []
    },
    {
      "cell_type": "code",
      "metadata": {
        "id": "8wi2uclVqeQr"
      },
      "source": [
        ""
      ],
      "execution_count": null,
      "outputs": []
    },
    {
      "cell_type": "code",
      "metadata": {
        "id": "n00zPIgoqeJ1"
      },
      "source": [
        ""
      ],
      "execution_count": null,
      "outputs": []
    },
    {
      "cell_type": "code",
      "metadata": {
        "id": "BBrmVIN7n_tT"
      },
      "source": [
        "class Person():\r\n",
        "    def __init__(self, name, age):\r\n",
        "        self.name = name\r\n",
        "        self.age = age\r\n",
        "\r\n",
        "    def say_name(self):\r\n",
        "        print(\"私の名前は\" + self.name + \"です。年齢は\" + str(self.age) + \"歳です。\")\r\n",
        "\r\n",
        "\r\n",
        "class JapanesePerson(Person):\r\n",
        "    def __init__(self, name, age):\r\n",
        "        super().__init__(name, age)\r\n",
        "\r\n",
        "    def say_hello(self):\r\n",
        "        print(\"こんにちは\")\r\n",
        "\r\n",
        "\r\n",
        "yamada = JapanesePerson(\"山田\", 20)\r\n",
        "yamada.say_name()\r\n",
        "yamada.say_hello()"
      ],
      "execution_count": null,
      "outputs": []
    },
    {
      "cell_type": "code",
      "metadata": {
        "id": "15f2riUen_qg"
      },
      "source": [
        ""
      ],
      "execution_count": null,
      "outputs": []
    },
    {
      "cell_type": "code",
      "metadata": {
        "id": "ZdykPDggn_na"
      },
      "source": [
        ""
      ],
      "execution_count": null,
      "outputs": []
    },
    {
      "cell_type": "code",
      "metadata": {
        "id": "M8Qr5CSmn_kc"
      },
      "source": [
        ""
      ],
      "execution_count": null,
      "outputs": []
    },
    {
      "cell_type": "code",
      "metadata": {
        "id": "VQKyD0aEn_hy"
      },
      "source": [
        "import tensorflow as tf"
      ],
      "execution_count": null,
      "outputs": []
    },
    {
      "cell_type": "code",
      "metadata": {
        "id": "RegTxabZn_e4"
      },
      "source": [
        "import pathlib\r\n",
        "import os\r\n",
        "import matplotlib.pyplot as plt\r\n",
        "import pandas as pd\r\n",
        "import numpy as np"
      ],
      "execution_count": null,
      "outputs": []
    },
    {
      "cell_type": "code",
      "metadata": {
        "id": "iaQxI7k23AcJ"
      },
      "source": [
        "train, test = tf.keras.datasets.fashion_mnist.load_data()\r\n",
        "train_images, train_labels = train\r\n",
        "test_images, test_labels = test\r\n",
        "\r\n",
        "#npyならload\r\n",
        "#csvならpd.read_csv"
      ],
      "execution_count": null,
      "outputs": []
    },
    {
      "cell_type": "code",
      "metadata": {
        "colab": {
          "base_uri": "https://localhost:8080/"
        },
        "id": "mcqwhI0t4lVW",
        "outputId": "69b9c16f-11cc-43fe-8848-954f5fe7d2a2"
      },
      "source": [
        "test_images.shape"
      ],
      "execution_count": null,
      "outputs": [
        {
          "output_type": "execute_result",
          "data": {
            "text/plain": [
              "(10000, 28, 28)"
            ]
          },
          "metadata": {
            "tags": []
          },
          "execution_count": 98
        }
      ]
    },
    {
      "cell_type": "code",
      "metadata": {
        "colab": {
          "base_uri": "https://localhost:8080/"
        },
        "id": "VRz92ONP4lQV",
        "outputId": "6f57d021-f497-47aa-d332-460b99691403"
      },
      "source": [
        "test_labels.shape"
      ],
      "execution_count": null,
      "outputs": [
        {
          "output_type": "execute_result",
          "data": {
            "text/plain": [
              "(10000,)"
            ]
          },
          "metadata": {
            "tags": []
          },
          "execution_count": 99
        }
      ]
    },
    {
      "cell_type": "code",
      "metadata": {
        "colab": {
          "base_uri": "https://localhost:8080/"
        },
        "id": "W7kPNPrm5ExV",
        "outputId": "d217b383-22ea-4036-f6ad-e7e8bf27fe24"
      },
      "source": [
        "test_labels[0:10]"
      ],
      "execution_count": null,
      "outputs": [
        {
          "output_type": "execute_result",
          "data": {
            "text/plain": [
              "array([9, 2, 1, 1, 6, 1, 4, 6, 5, 7], dtype=uint8)"
            ]
          },
          "metadata": {
            "tags": []
          },
          "execution_count": 100
        }
      ]
    },
    {
      "cell_type": "code",
      "metadata": {
        "id": "_V9pkeGz52gM"
      },
      "source": [
        ""
      ],
      "execution_count": null,
      "outputs": []
    },
    {
      "cell_type": "code",
      "metadata": {
        "id": "hlOw4nY752dz"
      },
      "source": [
        ""
      ],
      "execution_count": null,
      "outputs": []
    },
    {
      "cell_type": "code",
      "metadata": {
        "id": "HtE0J46052bD"
      },
      "source": [
        ""
      ],
      "execution_count": null,
      "outputs": []
    },
    {
      "cell_type": "code",
      "metadata": {
        "colab": {
          "base_uri": "https://localhost:8080/",
          "height": 282
        },
        "id": "k42LWrUA5Eu9",
        "outputId": "cf3048ba-f9c8-4400-8e75-7cbd8237c3a8"
      },
      "source": [
        "plt.imshow(test_images[0])"
      ],
      "execution_count": null,
      "outputs": [
        {
          "output_type": "execute_result",
          "data": {
            "text/plain": [
              "<matplotlib.image.AxesImage at 0x7f421b7fe320>"
            ]
          },
          "metadata": {
            "tags": []
          },
          "execution_count": 101
        },
        {
          "output_type": "display_data",
          "data": {
            "image/png": "[encoded data removed]",
            "text/plain": [
              "<Figure size 432x288 with 1 Axes>"
            ]
          },
          "metadata": {
            "tags": [],
            "needs_background": "light"
          }
        }
      ]
    },
    {
      "cell_type": "code",
      "metadata": {
        "id": "HWj94lEQ5Esb"
      },
      "source": [
        ""
      ],
      "execution_count": null,
      "outputs": []
    },
    {
      "cell_type": "code",
      "metadata": {
        "id": "ZtEFaiqJ5EoE"
      },
      "source": [
        ""
      ],
      "execution_count": null,
      "outputs": []
    },
    {
      "cell_type": "code",
      "metadata": {
        "id": "5HkchEQf4lNb"
      },
      "source": [
        ""
      ],
      "execution_count": null,
      "outputs": []
    },
    {
      "cell_type": "code",
      "metadata": {
        "id": "OzGCvqCU3AZR"
      },
      "source": [
        "images, labels = train\r\n",
        "images = images/255\r\n",
        "\r\n",
        "dataset = tf.data.Dataset.from_tensor_slices((images, labels))\r\n",
        "dataset"
      ],
      "execution_count": null,
      "outputs": []
    },
    {
      "cell_type": "code",
      "metadata": {
        "id": "WLMKOthD3AWd"
      },
      "source": [
        ""
      ],
      "execution_count": null,
      "outputs": []
    },
    {
      "cell_type": "code",
      "metadata": {
        "id": "e_-fb-wL3ATy"
      },
      "source": [
        ""
      ],
      "execution_count": null,
      "outputs": []
    },
    {
      "cell_type": "code",
      "metadata": {
        "id": "rblabBVs3AQ8"
      },
      "source": [
        ""
      ],
      "execution_count": null,
      "outputs": []
    },
    {
      "cell_type": "code",
      "metadata": {
        "id": "lkxkfnem3AOA"
      },
      "source": [
        ""
      ],
      "execution_count": null,
      "outputs": []
    },
    {
      "cell_type": "code",
      "metadata": {
        "id": "uoHzmasi3ALP"
      },
      "source": [
        ""
      ],
      "execution_count": null,
      "outputs": []
    },
    {
      "cell_type": "code",
      "metadata": {
        "id": "lHmTwWCj3AH6"
      },
      "source": [
        "#おもみ\r\n",
        "#https://www.tensorflow.org/guide/checkpoint"
      ],
      "execution_count": null,
      "outputs": []
    },
    {
      "cell_type": "code",
      "metadata": {
        "id": "1rEnT_4E3AE6"
      },
      "source": [
        "#もでる\r\n",
        "#https://www.tensorflow.org/guide/saved_model"
      ],
      "execution_count": null,
      "outputs": []
    },
    {
      "cell_type": "code",
      "metadata": {
        "id": "kEQcMGDr3AB8"
      },
      "source": [
        ""
      ],
      "execution_count": null,
      "outputs": []
    },
    {
      "cell_type": "code",
      "metadata": {
        "colab": {
          "base_uri": "https://localhost:8080/"
        },
        "id": "wFQEsI-32_-r",
        "outputId": "39b8250b-833c-409c-aee2-9c10a560b374"
      },
      "source": [
        "import tensorflow as tf\r\n",
        "print(\"Num GPUs Available: \", len(tf.config.experimental.list_physical_devices('GPU')))\r\n"
      ],
      "execution_count": null,
      "outputs": [
        {
          "output_type": "stream",
          "text": [
            "Num GPUs Available:  0\n"
          ],
          "name": "stdout"
        }
      ]
    },
    {
      "cell_type": "code",
      "metadata": {
        "id": "3qh8anDt2_7m"
      },
      "source": [
        ""
      ],
      "execution_count": null,
      "outputs": []
    },
    {
      "cell_type": "code",
      "metadata": {
        "id": "I8SLNjzh2_48"
      },
      "source": [
        "#シーケンシャルモデル"
      ],
      "execution_count": null,
      "outputs": []
    },
    {
      "cell_type": "code",
      "metadata": {
        "id": "UZgnsyBV2_1y"
      },
      "source": [
        "import tensorflow as tf\r\n",
        "from tensorflow import keras\r\n",
        "from tensorflow.keras import layers"
      ],
      "execution_count": null,
      "outputs": []
    },
    {
      "cell_type": "code",
      "metadata": {
        "id": "DspIZa7q2_yq"
      },
      "source": [
        "# Define Sequential model with 3 layers\r\n",
        "model = keras.Sequential(\r\n",
        "    [\r\n",
        "        layers.Dense(2, activation=\"relu\", name=\"layer1\"),\r\n",
        "        layers.Dense(3, activation=\"relu\", name=\"layer2\"),\r\n",
        "        layers.Dense(4, name=\"layer3\"),\r\n",
        "    ]\r\n",
        ")\r\n",
        "# Call model on a test input\r\n",
        "x = tf.ones((3, 3))\r\n",
        "y = model(x)\r\n"
      ],
      "execution_count": null,
      "outputs": []
    },
    {
      "cell_type": "code",
      "metadata": {
        "id": "6sMhdUqv2_vo"
      },
      "source": [
        "# Create 3 layers\r\n",
        "layer1 = layers.Dense(2, activation=\"relu\", name=\"layer1\")\r\n",
        "layer2 = layers.Dense(3, activation=\"relu\", name=\"layer2\")\r\n",
        "layer3 = layers.Dense(4, name=\"layer3\")\r\n",
        "\r\n",
        "# Call layers on a test input\r\n",
        "x = tf.ones((3, 3))\r\n",
        "y = layer3(layer2(layer1(x)))\r\n"
      ],
      "execution_count": null,
      "outputs": []
    },
    {
      "cell_type": "code",
      "metadata": {
        "colab": {
          "base_uri": "https://localhost:8080/",
          "height": 135
        },
        "id": "uPuuVQBq2_sr",
        "outputId": "96f6cf75-291c-46b4-bdb5-ce40b7f3c28a"
      },
      "source": [
        "#自由度がない\r\n",
        " シーケンシャルモデルは、次の場合には適切ではありません。\r\n",
        "    モデルに複数の入力または複数の出力があります\r\n",
        "    いずれかのレイヤーに複数の入力または複数の出力があります\r\n",
        "    レイヤー共有を行う必要があります\r\n",
        "    非線形トポロジが必要です（たとえば、残余接続、マルチブランチモデル）"
      ],
      "execution_count": null,
      "outputs": [
        {
          "output_type": "error",
          "ename": "IndentationError",
          "evalue": "ignored",
          "traceback": [
            "\u001b[0;36m  File \u001b[0;32m\"<ipython-input-4-7d7166f06df5>\"\u001b[0;36m, line \u001b[0;32m2\u001b[0m\n\u001b[0;31m    シーケンシャルモデルは、次の場合には適切ではありません。\u001b[0m\n\u001b[0m    ^\u001b[0m\n\u001b[0;31mIndentationError\u001b[0m\u001b[0;31m:\u001b[0m unexpected indent\n"
          ]
        }
      ]
    },
    {
      "cell_type": "code",
      "metadata": {
        "id": "coj51T382_po"
      },
      "source": [
        "model = keras.Sequential(\r\n",
        "    [\r\n",
        "        layers.Dense(2, activation=\"relu\"),\r\n",
        "        layers.Dense(3, activation=\"relu\"),\r\n",
        "        layers.Dense(4),\r\n",
        "    ]\r\n",
        ")\r\n"
      ],
      "execution_count": null,
      "outputs": []
    },
    {
      "cell_type": "code",
      "metadata": {
        "colab": {
          "base_uri": "https://localhost:8080/"
        },
        "id": "aQGLUnRo2_ja",
        "outputId": "016a89e6-f82b-4688-b9c2-3cf6416f26ba"
      },
      "source": [
        "model.layers"
      ],
      "execution_count": null,
      "outputs": [
        {
          "output_type": "execute_result",
          "data": {
            "text/plain": [
              "[<tensorflow.python.keras.layers.core.Dense at 0x7faf6b7f6128>,\n",
              " <tensorflow.python.keras.layers.core.Dense at 0x7faf31442160>,\n",
              " <tensorflow.python.keras.layers.core.Dense at 0x7faf314426a0>]"
            ]
          },
          "metadata": {
            "tags": []
          },
          "execution_count": 6
        }
      ]
    },
    {
      "cell_type": "code",
      "metadata": {
        "id": "87rS6W9F2_ge"
      },
      "source": [
        "#ディクショナリ型は見ていてわかりにくい\r\n",
        "#もしくはaddメソッドで層構造にする"
      ],
      "execution_count": null,
      "outputs": []
    },
    {
      "cell_type": "code",
      "metadata": {
        "id": "QS95Blv_2_dT"
      },
      "source": [
        "model = keras.Sequential()\r\n",
        "model.add(layers.Dense(2, activation=\"relu\"))\r\n",
        "model.add(layers.Dense(3, activation=\"relu\"))\r\n",
        "model.add(layers.Dense(4))\r\n"
      ],
      "execution_count": null,
      "outputs": []
    },
    {
      "cell_type": "code",
      "metadata": {
        "colab": {
          "base_uri": "https://localhost:8080/"
        },
        "id": "J6MEPK5V2_YE",
        "outputId": "8dd3f4b4-f4a9-4aa2-db01-8cddd087890d"
      },
      "source": [
        "model.pop()\r\n",
        "print(len(model.layers))  # 0,1、2\r\n"
      ],
      "execution_count": null,
      "outputs": [
        {
          "output_type": "stream",
          "text": [
            "2\n"
          ],
          "name": "stdout"
        }
      ]
    },
    {
      "cell_type": "code",
      "metadata": {
        "id": "1vdmjusC2_US"
      },
      "source": [
        "#name引数は層情報の取得や、tensor bordに渡す時に重要\r\n",
        "\r\n",
        "model = tf.keras.Sequential(name=\"my_sequential\")\r\n",
        "model.add(layers.Dense(2, activation=\"relu\", name=\"layer1\"))\r\n",
        "model.add(layers.Dense(3, activation=\"relu\", name=\"layer2\"))\r\n",
        "model.add(layers.Dense(4, name=\"layer3\"))\r\n"
      ],
      "execution_count": null,
      "outputs": []
    },
    {
      "cell_type": "code",
      "metadata": {
        "colab": {
          "base_uri": "https://localhost:8080/"
        },
        "id": "qqHI2rXKkmia",
        "outputId": "c9961ade-88e8-4bf6-c9f7-4a0c923b9c11"
      },
      "source": [
        "model"
      ],
      "execution_count": null,
      "outputs": [
        {
          "output_type": "execute_result",
          "data": {
            "text/plain": [
              "<tensorflow.python.keras.engine.sequential.Sequential at 0x7faf3063e6d8>"
            ]
          },
          "metadata": {
            "tags": []
          },
          "execution_count": 14
        }
      ]
    },
    {
      "cell_type": "code",
      "metadata": {
        "colab": {
          "base_uri": "https://localhost:8080/",
          "height": 327
        },
        "id": "FhnPpeRIkGef",
        "outputId": "61e59b65-5baf-4343-bbb5-6154074d9ad1"
      },
      "source": [
        "model.summary()"
      ],
      "execution_count": null,
      "outputs": [
        {
          "output_type": "error",
          "ename": "ValueError",
          "evalue": "ignored",
          "traceback": [
            "\u001b[0;31m---------------------------------------------------------------------------\u001b[0m",
            "\u001b[0;31mValueError\u001b[0m                                Traceback (most recent call last)",
            "\u001b[0;32m<ipython-input-15-5f15418b3570>\u001b[0m in \u001b[0;36m<module>\u001b[0;34m()\u001b[0m\n\u001b[0;32m----> 1\u001b[0;31m \u001b[0mmodel\u001b[0m\u001b[0;34m.\u001b[0m\u001b[0msummary\u001b[0m\u001b[0;34m(\u001b[0m\u001b[0;34m)\u001b[0m\u001b[0;34m\u001b[0m\u001b[0;34m\u001b[0m\u001b[0m\n\u001b[0m",
            "\u001b[0;32m/usr/local/lib/python3.6/dist-packages/tensorflow/python/keras/engine/training.py\u001b[0m in \u001b[0;36msummary\u001b[0;34m(self, line_length, positions, print_fn)\u001b[0m\n\u001b[1;32m   2349\u001b[0m     \"\"\"\n\u001b[1;32m   2350\u001b[0m     \u001b[0;32mif\u001b[0m \u001b[0;32mnot\u001b[0m \u001b[0mself\u001b[0m\u001b[0;34m.\u001b[0m\u001b[0mbuilt\u001b[0m\u001b[0;34m:\u001b[0m\u001b[0;34m\u001b[0m\u001b[0;34m\u001b[0m\u001b[0m\n\u001b[0;32m-> 2351\u001b[0;31m       raise ValueError('This model has not yet been built. '\n\u001b[0m\u001b[1;32m   2352\u001b[0m                        \u001b[0;34m'Build the model first by calling `build()` or calling '\u001b[0m\u001b[0;34m\u001b[0m\u001b[0;34m\u001b[0m\u001b[0m\n\u001b[1;32m   2353\u001b[0m                        \u001b[0;34m'`fit()` with some data, or specify '\u001b[0m\u001b[0;34m\u001b[0m\u001b[0;34m\u001b[0m\u001b[0m\n",
            "\u001b[0;31mValueError\u001b[0m: This model has not yet been built. Build the model first by calling `build()` or calling `fit()` with some data, or specify an `input_shape` argument in the first layer(s) for automatic build."
          ]
        }
      ]
    },
    {
      "cell_type": "code",
      "metadata": {
        "id": "8IoGlORnkGcV"
      },
      "source": [
        "# kerasはinputが決まっていないといけない\r\n",
        "#バッチは自由"
      ],
      "execution_count": null,
      "outputs": []
    },
    {
      "cell_type": "code",
      "metadata": {
        "colab": {
          "base_uri": "https://localhost:8080/"
        },
        "id": "5JOTGpUekGZ3",
        "outputId": "e95fc8db-9dd2-4223-e518-f90f8bede796"
      },
      "source": [
        "model = keras.Sequential()\r\n",
        "model.add(keras.Input(shape=(4,)))\r\n",
        "model.add(layers.Dense(2, activation=\"relu\"))\r\n",
        "\r\n",
        "model.summary()"
      ],
      "execution_count": null,
      "outputs": [
        {
          "output_type": "stream",
          "text": [
            "Model: \"sequential_3\"\n",
            "_________________________________________________________________\n",
            "Layer (type)                 Output Shape              Param #   \n",
            "=================================================================\n",
            "dense_6 (Dense)              (None, 2)                 10        \n",
            "=================================================================\n",
            "Total params: 10\n",
            "Trainable params: 10\n",
            "Non-trainable params: 0\n",
            "_________________________________________________________________\n"
          ],
          "name": "stdout"
        }
      ]
    },
    {
      "cell_type": "code",
      "metadata": {
        "id": "mi1uj-xbk-U-"
      },
      "source": [
        "#ワンライナで描くならlayersの引数にinputを渡す"
      ],
      "execution_count": null,
      "outputs": []
    },
    {
      "cell_type": "code",
      "metadata": {
        "colab": {
          "base_uri": "https://localhost:8080/"
        },
        "id": "rCaNWhxskGXv",
        "outputId": "b56543e7-92ea-40fd-f209-6fd8c279f977"
      },
      "source": [
        "model = keras.Sequential()\r\n",
        "model.add(layers.Dense(2, activation=\"relu\", input_shape=(4,)))\r\n",
        "\r\n",
        "model.summary()\r\n"
      ],
      "execution_count": null,
      "outputs": [
        {
          "output_type": "stream",
          "text": [
            "Model: \"sequential_4\"\n",
            "_________________________________________________________________\n",
            "Layer (type)                 Output Shape              Param #   \n",
            "=================================================================\n",
            "dense_7 (Dense)              (None, 2)                 10        \n",
            "=================================================================\n",
            "Total params: 10\n",
            "Trainable params: 10\n",
            "Non-trainable params: 0\n",
            "_________________________________________________________________\n"
          ],
          "name": "stdout"
        }
      ]
    },
    {
      "cell_type": "code",
      "metadata": {
        "id": "qDmldzZDkGVW"
      },
      "source": [
        ""
      ],
      "execution_count": null,
      "outputs": []
    },
    {
      "cell_type": "code",
      "metadata": {
        "id": "MH3YKqxkkGSz"
      },
      "source": [
        "# addメソッドは途中でモデル構造を確認できるので便利\r\n"
      ],
      "execution_count": null,
      "outputs": []
    },
    {
      "cell_type": "code",
      "metadata": {
        "colab": {
          "base_uri": "https://localhost:8080/"
        },
        "id": "wTvKxXU4kGQu",
        "outputId": "f1fe5c58-5c79-47d6-8701-fdbddb0e6f69"
      },
      "source": [
        "model = keras.Sequential()\r\n",
        "model.add(keras.Input(shape=(250, 250, 3)))  # 250x250 RGB images\r\n",
        "model.add(layers.Conv2D(32, 5, strides=2, activation=\"relu\"))\r\n",
        "model.add(layers.Conv2D(32, 3, activation=\"relu\"))\r\n",
        "model.add(layers.MaxPooling2D(3))\r\n",
        "\r\n",
        "# Can you guess what the current output shape is at this point? Probably not.\r\n",
        "# Let's just print it:\r\n",
        "model.summary()\r\n",
        "#一旦ここまで作ってsymmaryで確認"
      ],
      "execution_count": null,
      "outputs": [
        {
          "output_type": "stream",
          "text": [
            "Model: \"sequential_5\"\n",
            "_________________________________________________________________\n",
            "Layer (type)                 Output Shape              Param #   \n",
            "=================================================================\n",
            "conv2d (Conv2D)              (None, 123, 123, 32)      2432      \n",
            "_________________________________________________________________\n",
            "conv2d_1 (Conv2D)            (None, 121, 121, 32)      9248      \n",
            "_________________________________________________________________\n",
            "max_pooling2d (MaxPooling2D) (None, 40, 40, 32)        0         \n",
            "=================================================================\n",
            "Total params: 11,680\n",
            "Trainable params: 11,680\n",
            "Non-trainable params: 0\n",
            "_________________________________________________________________\n"
          ],
          "name": "stdout"
        }
      ]
    },
    {
      "cell_type": "code",
      "metadata": {
        "id": "7iIm0Fe_llan"
      },
      "source": [
        ""
      ],
      "execution_count": null,
      "outputs": []
    },
    {
      "cell_type": "code",
      "metadata": {
        "colab": {
          "base_uri": "https://localhost:8080/",
          "height": 422
        },
        "id": "AfVQVqktllYK",
        "outputId": "0bc65eef-2549-48a5-f5f5-8ba4b806f4e7"
      },
      "source": [
        "from tensorflow.keras.utils import plot_model\r\n",
        "plot_model(\r\n",
        "    model,\r\n",
        "    show_shapes=True,\r\n",
        ")"
      ],
      "execution_count": null,
      "outputs": [
        {
          "output_type": "execute_result",
          "data": {
            "image/png": "[encoded data removed]",
            "text/plain": [
              "<IPython.core.display.Image object>"
            ]
          },
          "metadata": {
            "tags": []
          },
          "execution_count": 20
        }
      ]
    },
    {
      "cell_type": "code",
      "metadata": {
        "id": "y4mCPzAFllVh"
      },
      "source": [
        ""
      ],
      "execution_count": null,
      "outputs": []
    },
    {
      "cell_type": "code",
      "metadata": {
        "colab": {
          "base_uri": "https://localhost:8080/"
        },
        "id": "cAEjF7_skGOU",
        "outputId": "7c93ae78-cc3a-4518-fbb5-c1d3dad2b410"
      },
      "source": [
        "\r\n",
        "# The answer was: (40, 40, 32), so we can keep downsampling...\r\n",
        "\r\n",
        "model.add(layers.Conv2D(32, 3, activation=\"relu\"))\r\n",
        "model.add(layers.Conv2D(32, 3, activation=\"relu\"))\r\n",
        "model.add(layers.MaxPooling2D(3))\r\n",
        "model.add(layers.Conv2D(32, 3, activation=\"relu\"))\r\n",
        "model.add(layers.Conv2D(32, 3, activation=\"relu\"))\r\n",
        "model.add(layers.MaxPooling2D(2))\r\n",
        "\r\n",
        "# And now?\r\n",
        "model.summary()\r\n",
        "\r\n",
        "# Now that we have 4x4 feature maps, time to apply global max pooling.\r\n",
        "model.add(layers.GlobalMaxPooling2D())\r\n",
        "\r\n",
        "# Finally, we add a classification layer.\r\n",
        "model.add(layers.Dense(10))\r\n"
      ],
      "execution_count": null,
      "outputs": [
        {
          "output_type": "stream",
          "text": [
            "Model: \"sequential_5\"\n",
            "_________________________________________________________________\n",
            "Layer (type)                 Output Shape              Param #   \n",
            "=================================================================\n",
            "conv2d (Conv2D)              (None, 123, 123, 32)      2432      \n",
            "_________________________________________________________________\n",
            "conv2d_1 (Conv2D)            (None, 121, 121, 32)      9248      \n",
            "_________________________________________________________________\n",
            "max_pooling2d (MaxPooling2D) (None, 40, 40, 32)        0         \n",
            "_________________________________________________________________\n",
            "conv2d_2 (Conv2D)            (None, 38, 38, 32)        9248      \n",
            "_________________________________________________________________\n",
            "conv2d_3 (Conv2D)            (None, 36, 36, 32)        9248      \n",
            "_________________________________________________________________\n",
            "max_pooling2d_1 (MaxPooling2 (None, 12, 12, 32)        0         \n",
            "_________________________________________________________________\n",
            "conv2d_4 (Conv2D)            (None, 10, 10, 32)        9248      \n",
            "_________________________________________________________________\n",
            "conv2d_5 (Conv2D)            (None, 8, 8, 32)          9248      \n",
            "_________________________________________________________________\n",
            "max_pooling2d_2 (MaxPooling2 (None, 4, 4, 32)          0         \n",
            "=================================================================\n",
            "Total params: 48,672\n",
            "Trainable params: 48,672\n",
            "Non-trainable params: 0\n",
            "_________________________________________________________________\n"
          ],
          "name": "stdout"
        }
      ]
    },
    {
      "cell_type": "code",
      "metadata": {
        "id": "5uUBERSnkGLv"
      },
      "source": [
        "#https://keras.io/ja/visualization/"
      ],
      "execution_count": null,
      "outputs": []
    },
    {
      "cell_type": "code",
      "metadata": {
        "colab": {
          "base_uri": "https://localhost:8080/",
          "height": 1000
        },
        "id": "ZPzXVgLileBu",
        "outputId": "46c97057-c4db-4ba0-dacd-eb6c86d638fb"
      },
      "source": [
        "plot_model(\r\n",
        "    model,\r\n",
        "    show_shapes=True,\r\n",
        ")"
      ],
      "execution_count": null,
      "outputs": [
        {
          "output_type": "execute_result",
          "data": {
            "image/png": "[encoded data removed]",
            "text/plain": [
              "<IPython.core.display.Image object>"
            ]
          },
          "metadata": {
            "tags": []
          },
          "execution_count": 22
        }
      ]
    },
    {
      "cell_type": "code",
      "metadata": {
        "id": "dlkvhezGld_g"
      },
      "source": [
        ""
      ],
      "execution_count": null,
      "outputs": []
    },
    {
      "cell_type": "code",
      "metadata": {
        "id": "WzQRA9Y_ld9m"
      },
      "source": [
        "#特徴量を取り出す"
      ],
      "execution_count": null,
      "outputs": []
    },
    {
      "cell_type": "code",
      "metadata": {
        "id": "hiEhp-Z1ld7R"
      },
      "source": [
        "initial_model = keras.Sequential(\r\n",
        "    [\r\n",
        "        keras.Input(shape=(250, 250, 3)),\r\n",
        "        layers.Conv2D(32, 5, strides=2, activation=\"relu\"),\r\n",
        "        layers.Conv2D(32, 3, activation=\"relu\"),\r\n",
        "        layers.Conv2D(32, 3, activation=\"relu\"),\r\n",
        "    ]\r\n",
        ")\r\n",
        "feature_extractor = keras.Model(\r\n",
        "    inputs=initial_model.inputs,\r\n",
        "    outputs=[layer.output for layer in initial_model.layers],\r\n",
        ")\r\n",
        "\r\n",
        "# Call feature extractor on test input.\r\n",
        "x = tf.ones((1, 250, 250, 3))\r\n",
        "features = feature_extractor(x)\r\n"
      ],
      "execution_count": null,
      "outputs": []
    },
    {
      "cell_type": "code",
      "metadata": {
        "id": "h7QLJXLfld4y"
      },
      "source": [
        ""
      ],
      "execution_count": null,
      "outputs": []
    },
    {
      "cell_type": "code",
      "metadata": {
        "id": "4ziRUXCUld2L"
      },
      "source": [
        "# 転移学習"
      ],
      "execution_count": null,
      "outputs": []
    },
    {
      "cell_type": "code",
      "metadata": {
        "id": "GRz3EI6lmH6p"
      },
      "source": [
        "https://www.tensorflow.org/guide/keras/sequential_model"
      ],
      "execution_count": null,
      "outputs": []
    },
    {
      "cell_type": "code",
      "metadata": {
        "id": "O1GV2R_OmH4M"
      },
      "source": [
        "https://www.tensorflow.org/tutorials/customization/custom_layers?hl=ja"
      ],
      "execution_count": null,
      "outputs": []
    },
    {
      "cell_type": "code",
      "metadata": {
        "id": "THpXdpDHmH15"
      },
      "source": [
        "https://www.ossnews.jp/compare/TensorFlow/Keras"
      ],
      "execution_count": null,
      "outputs": []
    },
    {
      "cell_type": "code",
      "metadata": {
        "id": "CS7hN20tmHzy"
      },
      "source": [
        "import tensorflow as tf"
      ],
      "execution_count": 3,
      "outputs": []
    },
    {
      "cell_type": "code",
      "metadata": {
        "id": "tZiLrSkGmHxQ"
      },
      "source": [
        "# Load a convolutional base with pre-trained weights\r\n",
        "base_model = tf.keras.applications.Xception(\r\n",
        "    weights='imagenet',\r\n",
        "    include_top=False,\r\n",
        "    pooling='avg')\r\n",
        "\r\n",
        "# Freeze the base model\r\n",
        "base_model.trainable = False\r\n",
        "\r\n",
        "# Use a Sequential model to add a trainable classifier on top\r\n",
        "model = tf.keras.Sequential([\r\n",
        "    base_model,\r\n",
        "    tf.keras.layers.Dense(1000),\r\n",
        "])"
      ],
      "execution_count": 8,
      "outputs": []
    },
    {
      "cell_type": "code",
      "metadata": {
        "id": "WH_o6UgbmHuy",
        "colab": {
          "base_uri": "https://localhost:8080/"
        },
        "outputId": "005ba60c-af07-4525-ec3b-f8c3b1888c77"
      },
      "source": [
        "model.summary()"
      ],
      "execution_count": 9,
      "outputs": [
        {
          "output_type": "stream",
          "text": [
            "Model: \"sequential\"\n",
            "_________________________________________________________________\n",
            "Layer (type)                 Output Shape              Param #   \n",
            "=================================================================\n",
            "xception (Functional)        (None, 2048)              20861480  \n",
            "_________________________________________________________________\n",
            "dense (Dense)                (None, 1000)              2049000   \n",
            "=================================================================\n",
            "Total params: 22,910,480\n",
            "Trainable params: 2,049,000\n",
            "Non-trainable params: 20,861,480\n",
            "_________________________________________________________________\n"
          ],
          "name": "stdout"
        }
      ]
    },
    {
      "cell_type": "code",
      "metadata": {
        "id": "6Wh8nl7GmHsP"
      },
      "source": [
        "model = tf.keras.Sequential([\r\n",
        "    tf.keras.Input(shape=(784)),\r\n",
        "    tf.keras.layers.Dense(32, activation='relu'),\r\n",
        "    tf.keras.layers.Dense(32, activation='relu'),\r\n",
        "    tf.keras.layers.Dense(32, activation='relu'),\r\n",
        "    tf.keras.layers.Dense(10),\r\n",
        "])"
      ],
      "execution_count": 12,
      "outputs": []
    },
    {
      "cell_type": "code",
      "metadata": {
        "colab": {
          "base_uri": "https://localhost:8080/"
        },
        "id": "cvo2AYfasyJF",
        "outputId": "f1521000-f29d-4aff-d8ac-a5cc1a0f13a0"
      },
      "source": [
        "model.summary()"
      ],
      "execution_count": 13,
      "outputs": [
        {
          "output_type": "stream",
          "text": [
            "Model: \"sequential_1\"\n",
            "_________________________________________________________________\n",
            "Layer (type)                 Output Shape              Param #   \n",
            "=================================================================\n",
            "dense_1 (Dense)              (None, 32)                25120     \n",
            "_________________________________________________________________\n",
            "dense_2 (Dense)              (None, 32)                1056      \n",
            "_________________________________________________________________\n",
            "dense_3 (Dense)              (None, 32)                1056      \n",
            "_________________________________________________________________\n",
            "dense_4 (Dense)              (None, 10)                330       \n",
            "=================================================================\n",
            "Total params: 27,562\n",
            "Trainable params: 27,562\n",
            "Non-trainable params: 0\n",
            "_________________________________________________________________\n"
          ],
          "name": "stdout"
        }
      ]
    },
    {
      "cell_type": "code",
      "metadata": {
        "id": "2RVxf8PDs-t3"
      },
      "source": [
        "# Presumably you would want to first load pre-trained weights.\r\n",
        "#model.load_weights(...)\r\n",
        "\r\n",
        "# Freeze all layers except the last one.\r\n",
        "for layer in model.layers[:-1]:\r\n",
        "  layer.trainable = False\r\n",
        "\r\n"
      ],
      "execution_count": 22,
      "outputs": []
    },
    {
      "cell_type": "code",
      "metadata": {
        "colab": {
          "base_uri": "https://localhost:8080/"
        },
        "id": "Co2fwBbttQnh",
        "outputId": "3f0750e5-7fde-484a-f4bf-7dabc974d3a0"
      },
      "source": [
        "model.summary()"
      ],
      "execution_count": 23,
      "outputs": [
        {
          "output_type": "stream",
          "text": [
            "Model: \"sequential_1\"\n",
            "_________________________________________________________________\n",
            "Layer (type)                 Output Shape              Param #   \n",
            "=================================================================\n",
            "dense_1 (Dense)              (None, 32)                25120     \n",
            "_________________________________________________________________\n",
            "dense_2 (Dense)              (None, 32)                1056      \n",
            "_________________________________________________________________\n",
            "dense_3 (Dense)              (None, 32)                1056      \n",
            "_________________________________________________________________\n",
            "dense_4 (Dense)              (None, 10)                330       \n",
            "=================================================================\n",
            "Total params: 27,562\n",
            "Trainable params: 330\n",
            "Non-trainable params: 27,232\n",
            "_________________________________________________________________\n"
          ],
          "name": "stdout"
        }
      ]
    },
    {
      "cell_type": "code",
      "metadata": {
        "id": "CiXAYrHRticO"
      },
      "source": [
        "model.layers[1].trainable = True"
      ],
      "execution_count": 26,
      "outputs": []
    },
    {
      "cell_type": "code",
      "metadata": {
        "colab": {
          "base_uri": "https://localhost:8080/"
        },
        "id": "9Fog5-42tiZ1",
        "outputId": "2af96daf-8890-4a0a-e7d5-66d84cc5f900"
      },
      "source": [
        "model.summary()"
      ],
      "execution_count": 27,
      "outputs": [
        {
          "output_type": "stream",
          "text": [
            "Model: \"sequential_1\"\n",
            "_________________________________________________________________\n",
            "Layer (type)                 Output Shape              Param #   \n",
            "=================================================================\n",
            "dense_1 (Dense)              (None, 32)                25120     \n",
            "_________________________________________________________________\n",
            "dense_2 (Dense)              (None, 32)                1056      \n",
            "_________________________________________________________________\n",
            "dense_3 (Dense)              (None, 32)                1056      \n",
            "_________________________________________________________________\n",
            "dense_4 (Dense)              (None, 10)                330       \n",
            "=================================================================\n",
            "Total params: 27,562\n",
            "Trainable params: 1,386\n",
            "Non-trainable params: 26,176\n",
            "_________________________________________________________________\n"
          ],
          "name": "stdout"
        }
      ]
    },
    {
      "cell_type": "code",
      "metadata": {
        "colab": {
          "base_uri": "https://localhost:8080/"
        },
        "id": "V5y2QNXStiXS",
        "outputId": "a6d4e790-ba9f-4de6-cb1f-8412774256a0"
      },
      "source": [
        "for l in model.layers:\r\n",
        "    print(l.name, l.trainable)"
      ],
      "execution_count": 28,
      "outputs": [
        {
          "output_type": "stream",
          "text": [
            "dense_1 False\n",
            "dense_2 True\n",
            "dense_3 False\n",
            "dense_4 True\n"
          ],
          "name": "stdout"
        }
      ]
    },
    {
      "cell_type": "code",
      "metadata": {
        "id": "WyDiVhDNtiVA"
      },
      "source": [
        "model.get_layer('Layer_2').trainable = False"
      ],
      "execution_count": null,
      "outputs": []
    },
    {
      "cell_type": "code",
      "metadata": {
        "id": "1ytYf4g6tiSt"
      },
      "source": [
        ""
      ],
      "execution_count": null,
      "outputs": []
    },
    {
      "cell_type": "code",
      "metadata": {
        "id": "_GdL7VCOsyGs"
      },
      "source": [
        "# Recompile and train (this will only update the weights of the last layer).\r\n",
        "model.compile(...)\r\n",
        "model.fit(...)\r\n"
      ],
      "execution_count": null,
      "outputs": []
    },
    {
      "cell_type": "code",
      "metadata": {
        "id": "A0YE3P42szt5"
      },
      "source": [
        ""
      ],
      "execution_count": null,
      "outputs": []
    },
    {
      "cell_type": "code",
      "metadata": {
        "id": "oHSOK1I8szr1"
      },
      "source": [
        ""
      ],
      "execution_count": null,
      "outputs": []
    },
    {
      "cell_type": "code",
      "metadata": {
        "id": "xA6AGi0nszpb"
      },
      "source": [
        "#sequencial でなく functional\r\n",
        "\r\n",
        "#実現したいように弄りやすい\r\n",
        "#複雑構造も実現できる"
      ],
      "execution_count": null,
      "outputs": []
    },
    {
      "cell_type": "code",
      "metadata": {
        "id": "q8dRUSk7sznJ"
      },
      "source": [
        ""
      ],
      "execution_count": null,
      "outputs": []
    },
    {
      "cell_type": "code",
      "metadata": {
        "id": "nJe92roxszlI"
      },
      "source": [
        "import numpy as np\r\n",
        "import tensorflow as tf\r\n",
        "from tensorflow import keras\r\n",
        "from tensorflow.keras import layers"
      ],
      "execution_count": null,
      "outputs": []
    },
    {
      "cell_type": "code",
      "metadata": {
        "id": "b_s9RhIDszih"
      },
      "source": [
        ""
      ],
      "execution_count": null,
      "outputs": []
    },
    {
      "cell_type": "code",
      "metadata": {
        "id": "BInNYJ4Eszgl"
      },
      "source": [
        "inputs = keras.Input(shape=(784,))\r\n"
      ],
      "execution_count": null,
      "outputs": []
    },
    {
      "cell_type": "code",
      "metadata": {
        "id": "fexGbp4sszd5"
      },
      "source": [
        "#img_inputs = keras.Input(shape=(32, 32, 3))\r\n"
      ],
      "execution_count": null,
      "outputs": []
    },
    {
      "cell_type": "code",
      "metadata": {
        "id": "ENZw30NLszb2"
      },
      "source": [
        "inputs.shape"
      ],
      "execution_count": null,
      "outputs": []
    },
    {
      "cell_type": "code",
      "metadata": {
        "id": "fO3KJL3tszZD"
      },
      "source": [
        "inputs.dtype"
      ],
      "execution_count": null,
      "outputs": []
    },
    {
      "cell_type": "code",
      "metadata": {
        "id": "F68J2zvouC-y"
      },
      "source": [
        "dense = layers.Dense(64, activation=\"relu\")\r\n",
        "x = dense(inputs)\r\n"
      ],
      "execution_count": null,
      "outputs": []
    },
    {
      "cell_type": "code",
      "metadata": {
        "id": "7Yl8mfYwuC8d"
      },
      "source": [
        "x = layers.Dense(64, activation=\"relu\")(x)\r\n",
        "outputs = layers.Dense(10)(x)\r\n"
      ],
      "execution_count": null,
      "outputs": []
    },
    {
      "cell_type": "code",
      "metadata": {
        "id": "j3-wpfdhuC5o"
      },
      "source": [
        "model = keras.Model(inputs=inputs, outputs=outputs, name=\"mnist_model\")\r\n"
      ],
      "execution_count": null,
      "outputs": []
    },
    {
      "cell_type": "code",
      "metadata": {
        "id": "vpnbfd4DuC2g"
      },
      "source": [
        "model.summary()\r\n"
      ],
      "execution_count": null,
      "outputs": []
    },
    {
      "cell_type": "code",
      "metadata": {
        "id": "Jxn3bV8suC0G"
      },
      "source": [
        ""
      ],
      "execution_count": null,
      "outputs": []
    },
    {
      "cell_type": "code",
      "metadata": {
        "id": "rYF6nkVbuCxE"
      },
      "source": [
        "keras.utils.plot_model(model, \"my_first_model.png\")\r\n"
      ],
      "execution_count": null,
      "outputs": []
    },
    {
      "cell_type": "code",
      "metadata": {
        "id": "wMxx_YX4uCuU"
      },
      "source": [
        ""
      ],
      "execution_count": null,
      "outputs": []
    },
    {
      "cell_type": "code",
      "metadata": {
        "id": "8JxYxoa3uCrR"
      },
      "source": [
        "keras.utils.plot_model(model, \"my_first_model_with_shape_info.png\", show_shapes=True)\r\n"
      ],
      "execution_count": null,
      "outputs": []
    },
    {
      "cell_type": "code",
      "metadata": {
        "id": "vtWUKRYCuCoN"
      },
      "source": [
        ""
      ],
      "execution_count": null,
      "outputs": []
    },
    {
      "cell_type": "code",
      "metadata": {
        "id": "ttYHmurguClS"
      },
      "source": [
        ""
      ],
      "execution_count": null,
      "outputs": []
    },
    {
      "cell_type": "code",
      "metadata": {
        "id": "RGV0mlJzuCiT"
      },
      "source": [
        "import tensorflow as tf\r\n",
        "import tensorflow.keras as keras"
      ],
      "execution_count": 31,
      "outputs": []
    },
    {
      "cell_type": "code",
      "metadata": {
        "colab": {
          "base_uri": "https://localhost:8080/"
        },
        "id": "B09fqN7vuCfU",
        "outputId": "083a97e5-3d53-4e53-d082-761b23bb3ec6"
      },
      "source": [
        "(x_train, y_train), (x_test, y_test) = keras.datasets.mnist.load_data()\r\n",
        "\r\n",
        "x_train = x_train.reshape(60000, 784).astype(\"float32\") / 255\r\n",
        "x_test = x_test.reshape(10000, 784).astype(\"float32\") / 255\r\n"
      ],
      "execution_count": 32,
      "outputs": [
        {
          "output_type": "stream",
          "text": [
            "Downloading data from https://storage.googleapis.com/tensorflow/tf-keras-datasets/mnist.npz\n",
            "11493376/11490434 [==============================] - 0s 0us/step\n"
          ],
          "name": "stdout"
        }
      ]
    },
    {
      "cell_type": "code",
      "metadata": {
        "id": "tjSsJqhlE3M7"
      },
      "source": [
        "model.compile(\r\n",
        "    loss=keras.losses.SparseCategoricalCrossentropy(from_logits=True),\r\n",
        "    optimizer=keras.optimizers.RMSprop(),\r\n",
        "    metrics=[\"accuracy\"],\r\n",
        ")"
      ],
      "execution_count": 34,
      "outputs": []
    },
    {
      "cell_type": "code",
      "metadata": {
        "colab": {
          "base_uri": "https://localhost:8080/"
        },
        "id": "bD7AHxJUuCcQ",
        "outputId": "ce48f534-b2c3-4874-a716-99639d72dc51"
      },
      "source": [
        "\r\n",
        "\r\n",
        "history = model.fit(x_train, y_train, batch_size=64,\r\n",
        "                    epochs=2, validation_split=0.2)\r\n",
        "\r\n"
      ],
      "execution_count": 35,
      "outputs": [
        {
          "output_type": "stream",
          "text": [
            "Epoch 1/2\n",
            "750/750 [==============================] - 1s 2ms/step - loss: 1.6085 - accuracy: 0.5088 - val_loss: 1.1617 - val_accuracy: 0.6394\n",
            "Epoch 2/2\n",
            "750/750 [==============================] - 1s 1ms/step - loss: 1.0972 - accuracy: 0.6437 - val_loss: 1.0148 - val_accuracy: 0.6726\n",
            "313/313 - 0s - loss: 1.0380 - accuracy: 0.6633\n",
            "Test loss: 1.0380421876907349\n",
            "Test accuracy: 0.6632999777793884\n"
          ],
          "name": "stdout"
        }
      ]
    },
    {
      "cell_type": "code",
      "metadata": {
        "id": "ZQZ35fMnuCZS"
      },
      "source": [
        "test_scores = model.evaluate(x_test, y_test, verbose=2)\r\n"
      ],
      "execution_count": null,
      "outputs": []
    },
    {
      "cell_type": "code",
      "metadata": {
        "id": "UukLbPNAuCWV"
      },
      "source": [
        "print(\"Test loss:\", test_scores[0])\r\n",
        "print(\"Test accuracy:\", test_scores[1])\r\n"
      ],
      "execution_count": null,
      "outputs": []
    },
    {
      "cell_type": "code",
      "metadata": {
        "id": "BsFXlpXvuCTX"
      },
      "source": [
        ""
      ],
      "execution_count": null,
      "outputs": []
    },
    {
      "cell_type": "code",
      "metadata": {
        "id": "G4tIqTWUuCQR"
      },
      "source": [
        "model.save(\"path_to_my_model\")"
      ],
      "execution_count": null,
      "outputs": []
    },
    {
      "cell_type": "code",
      "metadata": {
        "id": "F8tNMteNuCNL"
      },
      "source": [
        "del model"
      ],
      "execution_count": null,
      "outputs": []
    },
    {
      "cell_type": "code",
      "metadata": {
        "id": "e2oyvXNjuCKo"
      },
      "source": [
        "model = keras.models.load_model(\"path_to_my_model\")\r\n"
      ],
      "execution_count": null,
      "outputs": []
    },
    {
      "cell_type": "code",
      "metadata": {
        "id": "sgcGddkAuCHf"
      },
      "source": [
        "import tensorflow.keras.layers as layers"
      ],
      "execution_count": 37,
      "outputs": []
    },
    {
      "cell_type": "code",
      "metadata": {
        "colab": {
          "base_uri": "https://localhost:8080/"
        },
        "id": "ceM2WdOGuCEn",
        "outputId": "5ebd62f1-fa3f-4a60-c4a3-4c5afe1c6a83"
      },
      "source": [
        "encoder_input = keras.Input(shape=(28, 28, 1), name=\"img\")\r\n",
        "x = layers.Conv2D(16, 3, activation=\"relu\")(encoder_input)\r\n",
        "x = layers.Conv2D(32, 3, activation=\"relu\")(x)\r\n",
        "x = layers.MaxPooling2D(3)(x)\r\n",
        "x = layers.Conv2D(32, 3, activation=\"relu\")(x)\r\n",
        "x = layers.Conv2D(16, 3, activation=\"relu\")(x)\r\n",
        "encoder_output = layers.GlobalMaxPooling2D()(x)\r\n",
        "\r\n",
        "encoder = keras.Model(encoder_input, encoder_output, name=\"encoder\")\r\n",
        "encoder.summary()\r\n",
        "\r\n"
      ],
      "execution_count": 38,
      "outputs": [
        {
          "output_type": "stream",
          "text": [
            "Model: \"encoder\"\n",
            "_________________________________________________________________\n",
            "Layer (type)                 Output Shape              Param #   \n",
            "=================================================================\n",
            "img (InputLayer)             [(None, 28, 28, 1)]       0         \n",
            "_________________________________________________________________\n",
            "conv2d_16 (Conv2D)           (None, 26, 26, 16)        160       \n",
            "_________________________________________________________________\n",
            "conv2d_17 (Conv2D)           (None, 24, 24, 32)        4640      \n",
            "_________________________________________________________________\n",
            "max_pooling2d (MaxPooling2D) (None, 8, 8, 32)          0         \n",
            "_________________________________________________________________\n",
            "conv2d_18 (Conv2D)           (None, 6, 6, 32)          9248      \n",
            "_________________________________________________________________\n",
            "conv2d_19 (Conv2D)           (None, 4, 4, 16)          4624      \n",
            "_________________________________________________________________\n",
            "global_max_pooling2d (Global (None, 16)                0         \n",
            "=================================================================\n",
            "Total params: 18,672\n",
            "Trainable params: 18,672\n",
            "Non-trainable params: 0\n",
            "_________________________________________________________________\n"
          ],
          "name": "stdout"
        }
      ]
    },
    {
      "cell_type": "code",
      "metadata": {
        "id": "irXew81hG8Nb"
      },
      "source": [
        "#一度modelで立てたネットワークをレイヤとして扱う\r\n",
        "#inputとoutputが繋がっていれば成り立つ"
      ],
      "execution_count": 39,
      "outputs": []
    },
    {
      "cell_type": "code",
      "metadata": {
        "colab": {
          "base_uri": "https://localhost:8080/"
        },
        "id": "kxM7KtgRuCB2",
        "outputId": "97467eec-c2cf-4630-e950-e13b75b17c3f"
      },
      "source": [
        "x = layers.Reshape((4, 4, 1))(encoder_output)\r\n",
        "x = layers.Conv2DTranspose(16, 3, activation=\"relu\")(x)\r\n",
        "x = layers.Conv2DTranspose(32, 3, activation=\"relu\")(x)\r\n",
        "x = layers.UpSampling2D(3)(x)\r\n",
        "x = layers.Conv2DTranspose(16, 3, activation=\"relu\")(x)\r\n",
        "decoder_output = layers.Conv2DTranspose(1, 3, activation=\"relu\")(x)\r\n",
        "\r\n",
        "autoencoder = keras.Model(encoder_input, decoder_output, name=\"autoencoder\")\r\n",
        "autoencoder.summary()\r\n"
      ],
      "execution_count": 40,
      "outputs": [
        {
          "output_type": "stream",
          "text": [
            "Model: \"autoencoder\"\n",
            "_________________________________________________________________\n",
            "Layer (type)                 Output Shape              Param #   \n",
            "=================================================================\n",
            "img (InputLayer)             [(None, 28, 28, 1)]       0         \n",
            "_________________________________________________________________\n",
            "conv2d_16 (Conv2D)           (None, 26, 26, 16)        160       \n",
            "_________________________________________________________________\n",
            "conv2d_17 (Conv2D)           (None, 24, 24, 32)        4640      \n",
            "_________________________________________________________________\n",
            "max_pooling2d (MaxPooling2D) (None, 8, 8, 32)          0         \n",
            "_________________________________________________________________\n",
            "conv2d_18 (Conv2D)           (None, 6, 6, 32)          9248      \n",
            "_________________________________________________________________\n",
            "conv2d_19 (Conv2D)           (None, 4, 4, 16)          4624      \n",
            "_________________________________________________________________\n",
            "global_max_pooling2d (Global (None, 16)                0         \n",
            "_________________________________________________________________\n",
            "reshape (Reshape)            (None, 4, 4, 1)           0         \n",
            "_________________________________________________________________\n",
            "conv2d_transpose (Conv2DTran (None, 6, 6, 16)          160       \n",
            "_________________________________________________________________\n",
            "conv2d_transpose_1 (Conv2DTr (None, 8, 8, 32)          4640      \n",
            "_________________________________________________________________\n",
            "up_sampling2d (UpSampling2D) (None, 24, 24, 32)        0         \n",
            "_________________________________________________________________\n",
            "conv2d_transpose_2 (Conv2DTr (None, 26, 26, 16)        4624      \n",
            "_________________________________________________________________\n",
            "conv2d_transpose_3 (Conv2DTr (None, 28, 28, 1)         145       \n",
            "=================================================================\n",
            "Total params: 28,241\n",
            "Trainable params: 28,241\n",
            "Non-trainable params: 0\n",
            "_________________________________________________________________\n"
          ],
          "name": "stdout"
        }
      ]
    },
    {
      "cell_type": "code",
      "metadata": {
        "id": "YSk2G_OXuB_K"
      },
      "source": [
        ""
      ],
      "execution_count": 40,
      "outputs": []
    },
    {
      "cell_type": "code",
      "metadata": {
        "colab": {
          "base_uri": "https://localhost:8080/",
          "height": 1000
        },
        "id": "2ugSp1FNIGfX",
        "outputId": "8bd2d51f-7f18-4ca7-9a20-b0911d43b127"
      },
      "source": [
        "keras.utils.plot_model(autoencoder, show_shapes=True)"
      ],
      "execution_count": 41,
      "outputs": [
        {
          "output_type": "execute_result",
          "data": {
            "image/png": "[encoded data removed]",
            "text/plain": [
              "<IPython.core.display.Image object>"
            ]
          },
          "metadata": {
            "tags": []
          },
          "execution_count": 41
        }
      ]
    },
    {
      "cell_type": "code",
      "metadata": {
        "id": "VO1I94s4uB8X"
      },
      "source": [
        "#こんな立て方も出来るので、\r\n",
        "#上記のようにinputにネットワークをつないで層を追加する方法もあり、\r\n",
        "#小さいモジュール化を一つの層とすることで、ネットワークの修正を行いやすくすることもできる\r\n",
        "#修正というか。ネットワークを変える場合にinputを探す必要がなくなる"
      ],
      "execution_count": null,
      "outputs": []
    },
    {
      "cell_type": "code",
      "metadata": {
        "colab": {
          "base_uri": "https://localhost:8080/"
        },
        "id": "BfwuvacmJuAA",
        "outputId": "eddf14f1-c20a-4d6a-c0e4-639ac421944b"
      },
      "source": [
        "decoder_input = keras.Input(shape=(16,), name=\"encoded_img\")\r\n",
        "x = layers.Reshape((4, 4, 1))(decoder_input)\r\n",
        "x = layers.Conv2DTranspose(16, 3, activation=\"relu\")(x)\r\n",
        "x = layers.Conv2DTranspose(32, 3, activation=\"relu\")(x)\r\n",
        "x = layers.UpSampling2D(3)(x)\r\n",
        "x = layers.Conv2DTranspose(16, 3, activation=\"relu\")(x)\r\n",
        "decoder_output = layers.Conv2DTranspose(1, 3, activation=\"relu\")(x)\r\n",
        "\r\n",
        "decoder = keras.Model(decoder_input, decoder_output, name=\"decoder\")\r\n",
        "decoder.summary()\r\n"
      ],
      "execution_count": 43,
      "outputs": [
        {
          "output_type": "stream",
          "text": [
            "Model: \"decoder\"\n",
            "_________________________________________________________________\n",
            "Layer (type)                 Output Shape              Param #   \n",
            "=================================================================\n",
            "encoded_img (InputLayer)     [(None, 16)]              0         \n",
            "_________________________________________________________________\n",
            "reshape_1 (Reshape)          (None, 4, 4, 1)           0         \n",
            "_________________________________________________________________\n",
            "conv2d_transpose_4 (Conv2DTr (None, 6, 6, 16)          160       \n",
            "_________________________________________________________________\n",
            "conv2d_transpose_5 (Conv2DTr (None, 8, 8, 32)          4640      \n",
            "_________________________________________________________________\n",
            "up_sampling2d_1 (UpSampling2 (None, 24, 24, 32)        0         \n",
            "_________________________________________________________________\n",
            "conv2d_transpose_6 (Conv2DTr (None, 26, 26, 16)        4624      \n",
            "_________________________________________________________________\n",
            "conv2d_transpose_7 (Conv2DTr (None, 28, 28, 1)         145       \n",
            "=================================================================\n",
            "Total params: 9,569\n",
            "Trainable params: 9,569\n",
            "Non-trainable params: 0\n",
            "_________________________________________________________________\n"
          ],
          "name": "stdout"
        }
      ]
    },
    {
      "cell_type": "code",
      "metadata": {
        "colab": {
          "base_uri": "https://localhost:8080/"
        },
        "id": "3l2ftL_cuB5s",
        "outputId": "c54575f3-f549-4eb1-d4eb-5b01af0668d4"
      },
      "source": [
        "autoencoder_input = keras.Input(shape=(28, 28, 1), name=\"img\")\r\n",
        "encoded_img = encoder(autoencoder_input)\r\n",
        "decoded_img = decoder(encoded_img)\r\n",
        "autoencoder = keras.Model(autoencoder_input, decoded_img, name=\"autoencoder\")\r\n",
        "autoencoder.summary()"
      ],
      "execution_count": 44,
      "outputs": [
        {
          "output_type": "stream",
          "text": [
            "Model: \"autoencoder\"\n",
            "_________________________________________________________________\n",
            "Layer (type)                 Output Shape              Param #   \n",
            "=================================================================\n",
            "img (InputLayer)             [(None, 28, 28, 1)]       0         \n",
            "_________________________________________________________________\n",
            "encoder (Functional)         (None, 16)                18672     \n",
            "_________________________________________________________________\n",
            "decoder (Functional)         (None, 28, 28, 1)         9569      \n",
            "=================================================================\n",
            "Total params: 28,241\n",
            "Trainable params: 28,241\n",
            "Non-trainable params: 0\n",
            "_________________________________________________________________\n"
          ],
          "name": "stdout"
        }
      ]
    },
    {
      "cell_type": "code",
      "metadata": {
        "colab": {
          "base_uri": "https://localhost:8080/",
          "height": 312
        },
        "id": "2epG1-GvuB2w",
        "outputId": "8925e166-e466-4a0b-e374-825dbfc2f6f3"
      },
      "source": [
        "keras.utils.plot_model(autoencoder, show_shapes=True)"
      ],
      "execution_count": 45,
      "outputs": [
        {
          "output_type": "execute_result",
          "data": {
            "image/png": "[encoded data removed]",
            "text/plain": [
              "<IPython.core.display.Image object>"
            ]
          },
          "metadata": {
            "tags": []
          },
          "execution_count": 45
        }
      ]
    },
    {
      "cell_type": "code",
      "metadata": {
        "id": "tPccX24OuB0O"
      },
      "source": [
        "#独立で並列のモデル出力をアンサンブルする\r\n",
        "#出力を保存して平均でなく、model outputの層で処理できる。"
      ],
      "execution_count": null,
      "outputs": []
    },
    {
      "cell_type": "code",
      "metadata": {
        "id": "HoqaUg_YuBxl"
      },
      "source": [
        "def get_model():\r\n",
        "    inputs = keras.Input(shape=(128,))\r\n",
        "    outputs = layers.Dense(1)(inputs)\r\n",
        "    return keras.Model(inputs, outputs)"
      ],
      "execution_count": null,
      "outputs": []
    },
    {
      "cell_type": "code",
      "metadata": {
        "id": "3CJkE1ZbL5Fx"
      },
      "source": [
        "model1 = get_model()\r\n",
        "model2 = get_model()\r\n",
        "model3 = get_model()"
      ],
      "execution_count": null,
      "outputs": []
    },
    {
      "cell_type": "code",
      "metadata": {
        "id": "8B-a89-XuBvF"
      },
      "source": [
        "inputs = keras.Input(shape=(128,))\r\n",
        "y1 = model1(inputs)\r\n",
        "y2 = model2(inputs)\r\n",
        "y3 = model3(inputs)\r\n",
        "outputs = layers.average([y1, y2, y3])"
      ],
      "execution_count": null,
      "outputs": []
    },
    {
      "cell_type": "code",
      "metadata": {
        "id": "XILW_WmdKnWS"
      },
      "source": [
        "ensemble_model = keras.Model(inputs=inputs, outputs=outputs)"
      ],
      "execution_count": null,
      "outputs": []
    },
    {
      "cell_type": "code",
      "metadata": {
        "id": "EV7uQrLSKnT6"
      },
      "source": [
        ""
      ],
      "execution_count": null,
      "outputs": []
    },
    {
      "cell_type": "code",
      "metadata": {
        "id": "PxV5KXptKnRa"
      },
      "source": [
        "#より複雑なモデル"
      ],
      "execution_count": null,
      "outputs": []
    },
    {
      "cell_type": "code",
      "metadata": {
        "id": "Acxz_n9UKnO_"
      },
      "source": [
        "num_tags = 12  # Number of unique issue tags\r\n",
        "num_words = 10000  # Size of vocabulary obtained when preprocessing text data\r\n",
        "num_departments = 4  # Number of departments for predictions\r\n",
        "\r\n",
        "title_input = keras.Input(\r\n",
        "    shape=(None,), name=\"title\"\r\n",
        ")  # Variable-length sequence of ints\r\n",
        "body_input = keras.Input(shape=(None,), name=\"body\")  # Variable-length sequence of ints\r\n",
        "tags_input = keras.Input(\r\n",
        "    shape=(num_tags,), name=\"tags\"\r\n",
        ")  # Binary vectors of size `num_tags`\r\n",
        "\r\n",
        "# Embed each word in the title into a 64-dimensional vector\r\n",
        "title_features = layers.Embedding(num_words, 64)(title_input)\r\n",
        "# Embed each word in the text into a 64-dimensional vector\r\n",
        "body_features = layers.Embedding(num_words, 64)(body_input)\r\n",
        "\r\n",
        "# Reduce sequence of embedded words in the title into a single 128-dimensional vector\r\n",
        "title_features = layers.LSTM(128)(title_features)\r\n",
        "# Reduce sequence of embedded words in the body into a single 32-dimensional vector\r\n",
        "body_features = layers.LSTM(32)(body_features)\r\n",
        "\r\n",
        "# Merge all available features into a single large vector via concatenation\r\n",
        "x = layers.concatenate([title_features, body_features, tags_input])\r\n",
        "\r\n",
        "# Stick a logistic regression for priority prediction on top of the features\r\n",
        "priority_pred = layers.Dense(1, name=\"priority\")(x)\r\n",
        "# Stick a department classifier on top of the features\r\n",
        "department_pred = layers.Dense(num_departments, name=\"department\")(x)\r\n",
        "\r\n",
        "# Instantiate an end-to-end model predicting both priority and department\r\n",
        "model = keras.Model(\r\n",
        "    inputs=[title_input, body_input, tags_input],\r\n",
        "    outputs=[priority_pred, department_pred],\r\n",
        ")\r\n"
      ],
      "execution_count": null,
      "outputs": []
    },
    {
      "cell_type": "code",
      "metadata": {
        "id": "9LPPpbTyKnM5"
      },
      "source": [
        "keras.utils.plot_model(model, \"multi_input_and_output_model.png\", show_shapes=True)\r\n"
      ],
      "execution_count": null,
      "outputs": []
    },
    {
      "cell_type": "code",
      "metadata": {
        "id": "VQdI54lQKnID"
      },
      "source": [
        "model.compile(\r\n",
        "    optimizer=keras.optimizers.RMSprop(1e-3),\r\n",
        "    loss={\r\n",
        "        \"priority\": keras.losses.BinaryCrossentropy(from_logits=True),\r\n",
        "        \"department\": keras.losses.CategoricalCrossentropy(from_logits=True),\r\n",
        "    },\r\n",
        "    loss_weights=[1.0, 0.2],\r\n",
        ")\r\n"
      ],
      "execution_count": null,
      "outputs": []
    },
    {
      "cell_type": "code",
      "metadata": {
        "id": "sl5DTHVQKnFP"
      },
      "source": [
        ""
      ],
      "execution_count": null,
      "outputs": []
    },
    {
      "cell_type": "code",
      "metadata": {
        "id": "rubmyA1vKnCz"
      },
      "source": [
        "# Dummy input data\r\n",
        "title_data = np.random.randint(num_words, size=(1280, 10))\r\n",
        "body_data = np.random.randint(num_words, size=(1280, 100))\r\n",
        "tags_data = np.random.randint(2, size=(1280, num_tags)).astype(\"float32\")\r\n",
        "\r\n",
        "# Dummy target data\r\n",
        "priority_targets = np.random.random(size=(1280, 1))\r\n",
        "dept_targets = np.random.randint(2, size=(1280, num_departments))\r\n",
        "\r\n",
        "model.fit(\r\n",
        "    {\"title\": title_data, \"body\": body_data, \"tags\": tags_data},\r\n",
        "    {\"priority\": priority_targets, \"department\": dept_targets},\r\n",
        "    epochs=2,\r\n",
        "    batch_size=32,\r\n",
        ")\r\n"
      ],
      "execution_count": null,
      "outputs": []
    },
    {
      "cell_type": "code",
      "metadata": {
        "id": "5zmZixtmKm_9"
      },
      "source": [
        "import numpy as np\r\n"
      ],
      "execution_count": 49,
      "outputs": []
    },
    {
      "cell_type": "code",
      "metadata": {
        "id": "o6O2DloWKm9l"
      },
      "source": [
        "#vgg19から特徴量を吸い出す"
      ],
      "execution_count": null,
      "outputs": []
    },
    {
      "cell_type": "code",
      "metadata": {
        "colab": {
          "base_uri": "https://localhost:8080/"
        },
        "id": "chroJfStKm7E",
        "outputId": "889e521c-3ac4-4a6a-b6cd-c95272a56794"
      },
      "source": [
        "vgg19 = tf.keras.applications.VGG19()\r\n"
      ],
      "execution_count": 46,
      "outputs": [
        {
          "output_type": "stream",
          "text": [
            "Downloading data from https://storage.googleapis.com/tensorflow/keras-applications/vgg19/vgg19_weights_tf_dim_ordering_tf_kernels.h5\n",
            "574717952/574710816 [==============================] - 3s 0us/step\n"
          ],
          "name": "stdout"
        }
      ]
    },
    {
      "cell_type": "code",
      "metadata": {
        "id": "Z5s9UXkKKm4p"
      },
      "source": [
        "features_list = [layer.output for layer in vgg19.layers]\r\n"
      ],
      "execution_count": 47,
      "outputs": []
    },
    {
      "cell_type": "code",
      "metadata": {
        "id": "GQlrNGnmKm2j"
      },
      "source": [
        "feat_extraction_model = keras.Model(inputs=vgg19.input, outputs=features_list)\r\n",
        "\r\n",
        "img = np.random.random((1, 224, 224, 3)).astype(\"float32\")\r\n",
        "extracted_features = feat_extraction_model(img)\r\n"
      ],
      "execution_count": 50,
      "outputs": []
    },
    {
      "cell_type": "code",
      "metadata": {
        "id": "lFAy09EnKm0Q"
      },
      "source": [
        ""
      ],
      "execution_count": null,
      "outputs": []
    },
    {
      "cell_type": "code",
      "metadata": {
        "id": "OmodoDANKmx7"
      },
      "source": [
        ""
      ],
      "execution_count": null,
      "outputs": []
    },
    {
      "cell_type": "code",
      "metadata": {
        "id": "u3S69tFvKmv2"
      },
      "source": [
        ""
      ],
      "execution_count": null,
      "outputs": []
    },
    {
      "cell_type": "code",
      "metadata": {
        "id": "184XL380Kms5"
      },
      "source": [
        ""
      ],
      "execution_count": null,
      "outputs": []
    },
    {
      "cell_type": "code",
      "metadata": {
        "id": "h7sD4b9_Kmqc"
      },
      "source": [
        ""
      ],
      "execution_count": null,
      "outputs": []
    }
  ]
}
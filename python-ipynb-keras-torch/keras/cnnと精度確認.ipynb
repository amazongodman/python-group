{
  "nbformat": 4,
  "nbformat_minor": 0,
  "metadata": {
    "colab": {
      "name": "cnnと精度確認.ipynb",
      "provenance": [],
      "collapsed_sections": []
    },
    "kernelspec": {
      "name": "python3",
      "display_name": "Python 3"
    }
  },
  "cells": [
    {
      "cell_type": "code",
      "metadata": {
        "id": "ClORShwApwBZ"
      },
      "source": [
        ""
      ],
      "execution_count": null,
      "outputs": []
    },
    {
      "cell_type": "code",
      "metadata": {
        "id": "UOah9WvPpx1Z"
      },
      "source": [
        "import tensorflow as tf"
      ],
      "execution_count": null,
      "outputs": []
    },
    {
      "cell_type": "code",
      "metadata": {
        "id": "xM7VhxNdpxy_"
      },
      "source": [
        "from tensorflow.keras.models import Sequential\r\n",
        "from tensorflow.keras.layers import Dense, Conv2D, Flatten, Dropout, MaxPooling2D\r\n",
        "from tensorflow.keras.preprocessing.image import ImageDataGenerator\r\n",
        "\r\n",
        "import os\r\n",
        "import numpy as np\r\n",
        "import matplotlib.pyplot as plt"
      ],
      "execution_count": null,
      "outputs": []
    },
    {
      "cell_type": "code",
      "metadata": {
        "id": "pG4LVYgepxwb"
      },
      "source": [
        "_URL = 'https://storage.googleapis.com/mledu-datasets/cats_and_dogs_filtered.zip'\r\n",
        "\r\n",
        "path_to_zip = tf.keras.utils.get_file('cats_and_dogs.zip', origin=_URL, extract=True)\r\n",
        "\r\n",
        "PATH = os.path.join(os.path.dirname(path_to_zip), 'cats_and_dogs_filtered')\r\n"
      ],
      "execution_count": null,
      "outputs": []
    },
    {
      "cell_type": "code",
      "metadata": {
        "id": "kHiNxeDLpxt8"
      },
      "source": [
        "train_dir = os.path.join(PATH, 'train')\r\n",
        "validation_dir = os.path.join(PATH, 'validation')\r\n"
      ],
      "execution_count": null,
      "outputs": []
    },
    {
      "cell_type": "code",
      "metadata": {
        "id": "9zEVtsNspxrS"
      },
      "source": [
        "num_cats_tr = len(os.listdir(train_cats_dir))\r\n",
        "num_dogs_tr = len(os.listdir(train_dogs_dir))\r\n",
        "\r\n",
        "num_cats_val = len(os.listdir(validation_cats_dir))\r\n",
        "num_dogs_val = len(os.listdir(validation_dogs_dir))\r\n",
        "\r\n",
        "total_train = num_cats_tr + num_dogs_tr\r\n",
        "total_val = num_cats_val + num_dogs_val"
      ],
      "execution_count": null,
      "outputs": []
    },
    {
      "cell_type": "code",
      "metadata": {
        "id": "wTw8MOD6pxon"
      },
      "source": [
        "print('total training cat images:', num_cats_tr)\r\n",
        "print('total training dog images:', num_dogs_tr)\r\n",
        "\r\n",
        "print('total validation cat images:', num_cats_val)\r\n",
        "print('total validation dog images:', num_dogs_val)\r\n",
        "print(\"--\")\r\n",
        "print(\"Total training images:\", total_train)\r\n",
        "print(\"Total validation images:\", total_val)\r\n"
      ],
      "execution_count": null,
      "outputs": []
    },
    {
      "cell_type": "code",
      "metadata": {
        "id": "5fgpQjb1pxmF"
      },
      "source": [
        "train_image_generator = ImageDataGenerator(rescale=1./255) # 学習データのジェネレータ\r\n",
        "validation_image_generator = ImageDataGenerator(rescale=1./255) # 検証データのジェネレータ\r\n"
      ],
      "execution_count": null,
      "outputs": []
    },
    {
      "cell_type": "code",
      "metadata": {
        "id": "KGsr4fWtpxjs"
      },
      "source": [
        "train_data_gen = train_image_generator.flow_from_directory(batch_size=batch_size,\r\n",
        "                                                           directory=train_dir,\r\n",
        "                                                           shuffle=True,\r\n",
        "                                                           target_size=(IMG_HEIGHT, IMG_WIDTH),\r\n",
        "                                                           class_mode='binary')\r\n"
      ],
      "execution_count": null,
      "outputs": []
    },
    {
      "cell_type": "code",
      "metadata": {
        "id": "f5_qU-BBpxhL"
      },
      "source": [
        "val_data_gen = validation_image_generator.flow_from_directory(batch_size=batch_size,\r\n",
        "                                                              directory=validation_dir,\r\n",
        "                                                              target_size=(IMG_HEIGHT, IMG_WIDTH),\r\n",
        "                                                              class_mode='binary')\r\n"
      ],
      "execution_count": null,
      "outputs": []
    },
    {
      "cell_type": "code",
      "metadata": {
        "id": "IsTpznS6pxeu"
      },
      "source": [
        "sample_training_images, _ = next(train_data_gen)\r\n"
      ],
      "execution_count": null,
      "outputs": []
    },
    {
      "cell_type": "code",
      "metadata": {
        "id": "BeOPMkOvpxcZ"
      },
      "source": [
        "# この関数は、1行5列のグリッド形式で画像をプロットし、画像は各列に配置されます。\r\n",
        "def plotImages(images_arr):\r\n",
        "    fig, axes = plt.subplots(1, 5, figsize=(20,20))\r\n",
        "    axes = axes.flatten()\r\n",
        "    for img, ax in zip( images_arr, axes):\r\n",
        "        ax.imshow(img)\r\n",
        "        ax.axis('off')\r\n",
        "    plt.tight_layout()\r\n",
        "    plt.show()\r\n"
      ],
      "execution_count": null,
      "outputs": []
    },
    {
      "cell_type": "code",
      "metadata": {
        "id": "if0cYLgspxZ0"
      },
      "source": [
        "plotImages(sample_training_images[:5])\r\n"
      ],
      "execution_count": null,
      "outputs": []
    },
    {
      "cell_type": "code",
      "metadata": {
        "id": "A3rC-gCSqAF-"
      },
      "source": [
        "model = Sequential([\r\n",
        "    Conv2D(16, 3, padding='same', activation='relu', input_shape=(IMG_HEIGHT, IMG_WIDTH ,3)),\r\n",
        "    MaxPooling2D(),\r\n",
        "    Conv2D(32, 3, padding='same', activation='relu'),\r\n",
        "    MaxPooling2D(),\r\n",
        "    Conv2D(64, 3, padding='same', activation='relu'),\r\n",
        "    MaxPooling2D(),\r\n",
        "    Flatten(),\r\n",
        "    Dense(512, activation='relu'),\r\n",
        "    Dense(1, activation='sigmoid')\r\n",
        "])\r\n"
      ],
      "execution_count": null,
      "outputs": []
    },
    {
      "cell_type": "code",
      "metadata": {
        "id": "ddfxh3f_qADP"
      },
      "source": [
        "model.compile(optimizer='adam',\r\n",
        "              loss='binary_crossentropy',\r\n",
        "              metrics=['accuracy'])\r\n"
      ],
      "execution_count": null,
      "outputs": []
    },
    {
      "cell_type": "code",
      "metadata": {
        "id": "lkU8qWQGqAAY"
      },
      "source": [
        "model.summary()\r\n"
      ],
      "execution_count": null,
      "outputs": []
    },
    {
      "cell_type": "code",
      "metadata": {
        "id": "PKp808ICp_9m"
      },
      "source": [
        "history = model.fit_generator(\r\n",
        "    train_data_gen,\r\n",
        "    steps_per_epoch=total_train // batch_size,\r\n",
        "    epochs=epochs,\r\n",
        "    validation_data=val_data_gen,\r\n",
        "    validation_steps=total_val // batch_size\r\n",
        ")\r\n"
      ],
      "execution_count": null,
      "outputs": []
    },
    {
      "cell_type": "code",
      "metadata": {
        "id": "SxNqLfHHp_7U"
      },
      "source": [
        "acc = history.history['accuracy']\r\n",
        "val_acc = history.history['val_accuracy']\r\n",
        "\r\n",
        "loss = history.history['loss']\r\n",
        "val_loss = history.history['val_loss']\r\n",
        "\r\n",
        "epochs_range = range(epochs)\r\n",
        "\r\n",
        "plt.figure(figsize=(8, 8))\r\n",
        "plt.subplot(1, 2, 1)\r\n",
        "plt.plot(epochs_range, acc, label='Training Accuracy')\r\n",
        "plt.plot(epochs_range, val_acc, label='Validation Accuracy')\r\n",
        "plt.legend(loc='lower right')\r\n",
        "plt.title('Training and Validation Accuracy')\r\n",
        "\r\n",
        "plt.subplot(1, 2, 2)\r\n",
        "plt.plot(epochs_range, loss, label='Training Loss')\r\n",
        "plt.plot(epochs_range, val_loss, label='Validation Loss')\r\n",
        "plt.legend(loc='upper right')\r\n",
        "plt.title('Training and Validation Loss')\r\n",
        "plt.show()\r\n"
      ],
      "execution_count": null,
      "outputs": []
    },
    {
      "cell_type": "code",
      "metadata": {
        "id": "2a-N319hp_4h"
      },
      "source": [
        ""
      ],
      "execution_count": null,
      "outputs": []
    },
    {
      "cell_type": "code",
      "metadata": {
        "id": "S_vcWCtCp_10"
      },
      "source": [
        ""
      ],
      "execution_count": null,
      "outputs": []
    },
    {
      "cell_type": "code",
      "metadata": {
        "id": "A08h-dBfp_zT"
      },
      "source": [
        "精度向上のためにデータ拡張"
      ],
      "execution_count": null,
      "outputs": []
    },
    {
      "cell_type": "code",
      "metadata": {
        "id": "XSAUoIRcqWK9"
      },
      "source": [
        "水平"
      ],
      "execution_count": null,
      "outputs": []
    },
    {
      "cell_type": "code",
      "metadata": {
        "id": "tcLugE7Pp_wt"
      },
      "source": [
        "image_gen = ImageDataGenerator(rescale=1./255, horizontal_flip=True)\r\n"
      ],
      "execution_count": null,
      "outputs": []
    },
    {
      "cell_type": "code",
      "metadata": {
        "id": "kPxBggTsp_uA"
      },
      "source": [
        "train_data_gen = image_gen.flow_from_directory(batch_size=batch_size,\r\n",
        "                                               directory=train_dir,\r\n",
        "                                               shuffle=True,\r\n",
        "                                               target_size=(IMG_HEIGHT, IMG_WIDTH))\r\n"
      ],
      "execution_count": null,
      "outputs": []
    },
    {
      "cell_type": "code",
      "metadata": {
        "id": "k38Qzpwwp_ra"
      },
      "source": [
        "augmented_images = [train_data_gen[0][0][0] for i in range(5)]\r\n"
      ],
      "execution_count": null,
      "outputs": []
    },
    {
      "cell_type": "code",
      "metadata": {
        "id": "PGQl5B_Yp_oz"
      },
      "source": [
        "plotImages(augmented_images)\r\n"
      ],
      "execution_count": null,
      "outputs": []
    },
    {
      "cell_type": "code",
      "metadata": {
        "id": "GTv2XkDNqVUr"
      },
      "source": [
        ""
      ],
      "execution_count": null,
      "outputs": []
    },
    {
      "cell_type": "code",
      "metadata": {
        "id": "uppVWgwpqVSG"
      },
      "source": [
        "回転"
      ],
      "execution_count": null,
      "outputs": []
    },
    {
      "cell_type": "code",
      "metadata": {
        "id": "zCZ8VdaYp_mN"
      },
      "source": [
        "image_gen = ImageDataGenerator(rescale=1./255, rotation_range=45)\r\n"
      ],
      "execution_count": null,
      "outputs": []
    },
    {
      "cell_type": "code",
      "metadata": {
        "id": "4JfBz122p_jf"
      },
      "source": [
        "train_data_gen = image_gen.flow_from_directory(batch_size=batch_size,\r\n",
        "                                               directory=train_dir,\r\n",
        "                                               shuffle=True,\r\n",
        "                                               target_size=(IMG_HEIGHT, IMG_WIDTH))\r\n",
        "\r\n",
        "augmented_images = [train_data_gen[0][0][0] for i in range(5)]\r\n"
      ],
      "execution_count": null,
      "outputs": []
    },
    {
      "cell_type": "code",
      "metadata": {
        "id": "iuh-lA2ap_g5"
      },
      "source": [
        "plotImages(augmented_images)\r\n"
      ],
      "execution_count": null,
      "outputs": []
    },
    {
      "cell_type": "code",
      "metadata": {
        "id": "s94qZWmXqQbh"
      },
      "source": [
        ""
      ],
      "execution_count": null,
      "outputs": []
    },
    {
      "cell_type": "code",
      "metadata": {
        "id": "wfGjojZtqQZD"
      },
      "source": [
        "ズーム"
      ],
      "execution_count": null,
      "outputs": []
    },
    {
      "cell_type": "code",
      "metadata": {
        "id": "T_NgAvSzqQWT"
      },
      "source": [
        "image_gen = ImageDataGenerator(rescale=1./255, zoom_range=0.5)\r\n"
      ],
      "execution_count": null,
      "outputs": []
    },
    {
      "cell_type": "code",
      "metadata": {
        "id": "OjSLpf1KqQT1"
      },
      "source": [
        "train_data_gen = image_gen.flow_from_directory(batch_size=batch_size,\r\n",
        "                                               directory=train_dir,\r\n",
        "                                               shuffle=True,\r\n",
        "                                               target_size=(IMG_HEIGHT, IMG_WIDTH))\r\n",
        "\r\n",
        "augmented_images = [train_data_gen[0][0][0] for i in range(5)]\r\n"
      ],
      "execution_count": null,
      "outputs": []
    },
    {
      "cell_type": "code",
      "metadata": {
        "id": "SnlRVeENqQRM"
      },
      "source": [
        "plotImages(augmented_images)\r\n"
      ],
      "execution_count": null,
      "outputs": []
    },
    {
      "cell_type": "code",
      "metadata": {
        "id": "GIc1QH6LqQOV"
      },
      "source": [
        "image_gen_train = ImageDataGenerator(\r\n",
        "                    rescale=1./255,\r\n",
        "                    rotation_range=45,\r\n",
        "                    width_shift_range=.15,\r\n",
        "                    height_shift_range=.15,\r\n",
        "                    horizontal_flip=True,\r\n",
        "                    zoom_range=0.5\r\n",
        "                    )\r\n"
      ],
      "execution_count": null,
      "outputs": []
    },
    {
      "cell_type": "code",
      "metadata": {
        "id": "RVoDImJuqQLx"
      },
      "source": [
        "train_data_gen = image_gen_train.flow_from_directory(batch_size=batch_size,\r\n",
        "                                                     directory=train_dir,\r\n",
        "                                                     shuffle=True,\r\n",
        "                                                     target_size=(IMG_HEIGHT, IMG_WIDTH),\r\n",
        "                                                     class_mode='binary')\r\n"
      ],
      "execution_count": null,
      "outputs": []
    },
    {
      "cell_type": "code",
      "metadata": {
        "id": "W7LiUdOsqQJZ"
      },
      "source": [
        "augmented_images = [train_data_gen[0][0][0] for i in range(5)]\r\n",
        "plotImages(augmented_images)\r\n"
      ],
      "execution_count": null,
      "outputs": []
    },
    {
      "cell_type": "code",
      "metadata": {
        "id": "JQokHGkwqQHD"
      },
      "source": [
        "image_gen_val = ImageDataGenerator(rescale=1./255)\r\n"
      ],
      "execution_count": null,
      "outputs": []
    },
    {
      "cell_type": "code",
      "metadata": {
        "id": "HKwOwbc4qQEc"
      },
      "source": [
        "val_data_gen = image_gen_val.flow_from_directory(batch_size=batch_size,\r\n",
        "                                                 directory=validation_dir,\r\n",
        "                                                 target_size=(IMG_HEIGHT, IMG_WIDTH),\r\n",
        "                                                 class_mode='binary')\r\n"
      ],
      "execution_count": null,
      "outputs": []
    },
    {
      "cell_type": "code",
      "metadata": {
        "id": "eaR2DsbuqQCS"
      },
      "source": [
        ""
      ],
      "execution_count": null,
      "outputs": []
    },
    {
      "cell_type": "code",
      "metadata": {
        "id": "UO2MSyaYqgyj"
      },
      "source": [
        "ドロップアウト\r\n"
      ],
      "execution_count": null,
      "outputs": []
    },
    {
      "cell_type": "code",
      "metadata": {
        "id": "1PXxrpHsqgwQ"
      },
      "source": [
        "model_new = Sequential([\r\n",
        "    Conv2D(16, 3, padding='same', activation='relu', \r\n",
        "           input_shape=(IMG_HEIGHT, IMG_WIDTH ,3)),\r\n",
        "    MaxPooling2D(),\r\n",
        "    Dropout(0.2),\r\n",
        "    Conv2D(32, 3, padding='same', activation='relu'),\r\n",
        "    MaxPooling2D(),\r\n",
        "    Conv2D(64, 3, padding='same', activation='relu'),\r\n",
        "    MaxPooling2D(),\r\n",
        "    Dropout(0.2),\r\n",
        "    Flatten(),\r\n",
        "    Dense(512, activation='relu'),\r\n",
        "    Dense(1, activation='sigmoid')\r\n",
        "])\r\n"
      ],
      "execution_count": null,
      "outputs": []
    },
    {
      "cell_type": "code",
      "metadata": {
        "id": "xiTyB8ksqgtd"
      },
      "source": [
        "model_new.compile(optimizer='adam',\r\n",
        "              loss='binary_crossentropy',\r\n",
        "              metrics=['accuracy'])\r\n",
        "\r\n",
        "model_new.summary()\r\n"
      ],
      "execution_count": null,
      "outputs": []
    },
    {
      "cell_type": "code",
      "metadata": {
        "id": "S5Q1PLpDqgq3"
      },
      "source": [
        "history = model_new.fit_generator(\r\n",
        "    train_data_gen,\r\n",
        "    steps_per_epoch=total_train // batch_size,\r\n",
        "    epochs=epochs,\r\n",
        "    validation_data=val_data_gen,\r\n",
        "    validation_steps=total_val // batch_size\r\n",
        ")\r\n"
      ],
      "execution_count": null,
      "outputs": []
    },
    {
      "cell_type": "code",
      "metadata": {
        "id": "vqFtnKVXqgoB"
      },
      "source": [
        "acc = history.history['accuracy']\r\n",
        "val_acc = history.history['val_accuracy']\r\n",
        "\r\n",
        "loss = history.history['loss']\r\n",
        "val_loss = history.history['val_loss']\r\n",
        "\r\n",
        "epochs_range = range(epochs)\r\n",
        "\r\n",
        "plt.figure(figsize=(8, 8))\r\n",
        "plt.subplot(1, 2, 1)\r\n",
        "plt.plot(epochs_range, acc, label='Training Accuracy')\r\n",
        "plt.plot(epochs_range, val_acc, label='Validation Accuracy')\r\n",
        "plt.legend(loc='lower right')\r\n",
        "plt.title('Training and Validation Accuracy')\r\n",
        "\r\n",
        "plt.subplot(1, 2, 2)\r\n",
        "plt.plot(epochs_range, loss, label='Training Loss')\r\n",
        "plt.plot(epochs_range, val_loss, label='Validation Loss')\r\n",
        "plt.legend(loc='upper right')\r\n",
        "plt.title('Training and Validation Loss')\r\n",
        "plt.show()\r\n"
      ],
      "execution_count": null,
      "outputs": []
    },
    {
      "cell_type": "code",
      "metadata": {
        "id": "FlyewujIqgli"
      },
      "source": [
        ""
      ],
      "execution_count": null,
      "outputs": []
    },
    {
      "cell_type": "code",
      "metadata": {
        "id": "64ngZLWuqgi7"
      },
      "source": [
        ""
      ],
      "execution_count": null,
      "outputs": []
    },
    {
      "cell_type": "code",
      "metadata": {
        "id": "tMXEqU7jqggT"
      },
      "source": [
        ""
      ],
      "execution_count": null,
      "outputs": []
    },
    {
      "cell_type": "code",
      "metadata": {
        "id": "rQWYpYkjqgdq"
      },
      "source": [
        ""
      ],
      "execution_count": null,
      "outputs": []
    }
  ]
}
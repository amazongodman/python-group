{
  "nbformat": 4,
  "nbformat_minor": 0,
  "metadata": {
    "colab": {
      "name": "dqn01.ipynb",
      "provenance": [],
      "collapsed_sections": []
    },
    "kernelspec": {
      "name": "python3",
      "display_name": "Python 3"
    }
  },
  "cells": [
    {
      "cell_type": "code",
      "metadata": {
        "id": "gpHpWsQ9YARC"
      },
      "source": [
        "https://www.tensorflow.org/agents/tutorials/5_replay_buffers_tutorial"
      ],
      "execution_count": null,
      "outputs": []
    },
    {
      "cell_type": "code",
      "metadata": {
        "id": "wQovmJiAYAOj"
      },
      "source": [
        ""
      ],
      "execution_count": null,
      "outputs": []
    },
    {
      "cell_type": "code",
      "metadata": {
        "id": "xV28AsGuYAJg"
      },
      "source": [
        ""
      ],
      "execution_count": null,
      "outputs": []
    },
    {
      "cell_type": "code",
      "metadata": {
        "id": "04xBHLmy7oi6"
      },
      "source": [
        "!sudo apt-get install -y xvfb ffmpeg\r\n",
        "!pip install gym\r\n",
        "!pip install 'imageio==2.4.0'\r\n",
        "!pip install PILLOW\r\n",
        "!pip install pyglet\r\n",
        "!pip install pyvirtualdisplay\r\n",
        "!pip install tf-agents"
      ],
      "execution_count": null,
      "outputs": []
    },
    {
      "cell_type": "code",
      "metadata": {
        "colab": {
          "base_uri": "https://localhost:8080/"
        },
        "id": "zp9kxRGf99Qa",
        "outputId": "0ce349ca-b5db-451d-c7ea-a3e515a8ab31"
      },
      "source": [
        "sudo apt-get install -y xvfb ffmpeg\r\n",
        "pip install -q gym\r\n",
        "pip install -q 'imageio==2.4.0'\r\n",
        "pip install -q PILLOW\r\n",
        "pip install -q pyglet\r\n",
        "pip install -q pyvirtualdisplay\r\n",
        "pip install -q tf-agents\r\n"
      ],
      "execution_count": null,
      "outputs": [
        {
          "output_type": "stream",
          "text": [
            "Reading package lists... Done\n",
            "Building dependency tree       \n",
            "Reading state information... Done\n",
            "ffmpeg is already the newest version (7:3.4.8-0ubuntu0.2).\n",
            "The following NEW packages will be installed:\n",
            "  xvfb\n",
            "0 upgraded, 1 newly installed, 0 to remove and 14 not upgraded.\n",
            "Need to get 784 kB of archives.\n",
            "After this operation, 2,270 kB of additional disk space will be used.\n",
            "Get:1 http://archive.ubuntu.com/ubuntu bionic-updates/universe amd64 xvfb amd64 2:1.19.6-1ubuntu4.8 [784 kB]\n",
            "Fetched 784 kB in 1s (907 kB/s)\n",
            "debconf: unable to initialize frontend: Dialog\n",
            "debconf: (No usable dialog-like program is installed, so the dialog based frontend cannot be used. at /usr/share/perl5/Debconf/FrontEnd/Dialog.pm line 76, <> line 1.)\n",
            "debconf: falling back to frontend: Readline\n",
            "debconf: unable to initialize frontend: Readline\n",
            "debconf: (This frontend requires a controlling tty.)\n",
            "debconf: falling back to frontend: Teletype\n",
            "dpkg-preconfigure: unable to re-open stdin: \n",
            "Selecting previously unselected package xvfb.\n",
            "(Reading database ... 144865 files and directories currently installed.)\n",
            "Preparing to unpack .../xvfb_2%3a1.19.6-1ubuntu4.8_amd64.deb ...\n",
            "Unpacking xvfb (2:1.19.6-1ubuntu4.8) ...\n",
            "Setting up xvfb (2:1.19.6-1ubuntu4.8) ...\n",
            "Processing triggers for man-db (2.8.3-2ubuntu0.1) ...\n",
            "Requirement already satisfied: gym in /usr/local/lib/python3.6/dist-packages (0.17.3)\n",
            "Requirement already satisfied: cloudpickle<1.7.0,>=1.2.0 in /usr/local/lib/python3.6/dist-packages (from gym) (1.3.0)\n",
            "Requirement already satisfied: pyglet<=1.5.0,>=1.4.0 in /usr/local/lib/python3.6/dist-packages (from gym) (1.5.0)\n",
            "Requirement already satisfied: scipy in /usr/local/lib/python3.6/dist-packages (from gym) (1.4.1)\n",
            "Requirement already satisfied: numpy>=1.10.4 in /usr/local/lib/python3.6/dist-packages (from gym) (1.19.4)\n",
            "Requirement already satisfied: future in /usr/local/lib/python3.6/dist-packages (from pyglet<=1.5.0,>=1.4.0->gym) (0.16.0)\n",
            "Collecting imageio==2.4.0\n",
            "\u001b[?25l  Downloading https://files.pythonhosted.org/packages/ac/64/8e2bb6aac43d6ed7c2d9514320b43d5e80c00f150ee2b9408aee24359e6d/imageio-2.4.0.tar.gz (3.3MB)\n",
            "\u001b[K     |████████████████████████████████| 3.3MB 5.8MB/s \n",
            "\u001b[?25hRequirement already satisfied: numpy in /usr/local/lib/python3.6/dist-packages (from imageio==2.4.0) (1.19.4)\n",
            "Requirement already satisfied: pillow in /usr/local/lib/python3.6/dist-packages (from imageio==2.4.0) (7.0.0)\n",
            "Building wheels for collected packages: imageio\n",
            "  Building wheel for imageio (setup.py) ... \u001b[?25l\u001b[?25hdone\n",
            "  Created wheel for imageio: filename=imageio-2.4.0-cp36-none-any.whl size=3303879 sha256=67d42be129f61ce3f7e1aa149cbecb4aba2810165c771ff62c2eac912f637eb0\n",
            "  Stored in directory: /root/.cache/pip/wheels/31/83/88/a1cba54ac06395d9e4ddcd9cf06911cd0b26cd78af9a61071b\n",
            "Successfully built imageio\n",
            "\u001b[31mERROR: albumentations 0.1.12 has requirement imgaug<0.2.7,>=0.2.5, but you'll have imgaug 0.2.9 which is incompatible.\u001b[0m\n",
            "Installing collected packages: imageio\n",
            "  Found existing installation: imageio 2.4.1\n",
            "    Uninstalling imageio-2.4.1:\n",
            "      Successfully uninstalled imageio-2.4.1\n",
            "Successfully installed imageio-2.4.0\n",
            "Requirement already satisfied: PILLOW in /usr/local/lib/python3.6/dist-packages (7.0.0)\n",
            "Requirement already satisfied: pyglet in /usr/local/lib/python3.6/dist-packages (1.5.0)\n",
            "Requirement already satisfied: future in /usr/local/lib/python3.6/dist-packages (from pyglet) (0.16.0)\n",
            "Collecting pyvirtualdisplay\n",
            "  Downloading https://files.pythonhosted.org/packages/d0/8a/643043cc70791367bee2d19eb20e00ed1a246ac48e5dbe57bbbcc8be40a9/PyVirtualDisplay-1.3.2-py2.py3-none-any.whl\n",
            "Collecting EasyProcess\n",
            "  Downloading https://files.pythonhosted.org/packages/48/3c/75573613641c90c6d094059ac28adb748560d99bd27ee6f80cce398f404e/EasyProcess-0.3-py2.py3-none-any.whl\n",
            "Installing collected packages: EasyProcess, pyvirtualdisplay\n",
            "Successfully installed EasyProcess-0.3 pyvirtualdisplay-1.3.2\n",
            "Collecting tf-agents\n",
            "\u001b[?25l  Downloading https://files.pythonhosted.org/packages/7c/77/df0c0ca6f0b1a59b812d81d7737d8ea2a95d8716f9ffc1a68822531b78fb/tf_agents-0.6.0-py3-none-any.whl (1.1MB)\n",
            "\u001b[K     |████████████████████████████████| 1.1MB 5.6MB/s \n",
            "\u001b[?25hRequirement already satisfied: absl-py>=0.6.1 in /usr/local/lib/python3.6/dist-packages (from tf-agents) (0.10.0)\n",
            "Requirement already satisfied: tensorflow-probability>=0.11.0 in /usr/local/lib/python3.6/dist-packages (from tf-agents) (0.11.0)\n",
            "Requirement already satisfied: numpy>=1.13.3 in /usr/local/lib/python3.6/dist-packages (from tf-agents) (1.19.4)\n",
            "Requirement already satisfied: six>=1.10.0 in /usr/local/lib/python3.6/dist-packages (from tf-agents) (1.15.0)\n",
            "Requirement already satisfied: protobuf>=3.11.3 in /usr/local/lib/python3.6/dist-packages (from tf-agents) (3.12.4)\n",
            "Requirement already satisfied: wrapt>=1.11.1 in /usr/local/lib/python3.6/dist-packages (from tf-agents) (1.12.1)\n",
            "Requirement already satisfied: cloudpickle==1.3 in /usr/local/lib/python3.6/dist-packages (from tf-agents) (1.3.0)\n",
            "Requirement already satisfied: gin-config>=0.3.0 in /usr/local/lib/python3.6/dist-packages (from tf-agents) (0.4.0)\n",
            "Requirement already satisfied: decorator in /usr/local/lib/python3.6/dist-packages (from tensorflow-probability>=0.11.0->tf-agents) (4.4.2)\n",
            "Requirement already satisfied: dm-tree in /usr/local/lib/python3.6/dist-packages (from tensorflow-probability>=0.11.0->tf-agents) (0.1.5)\n",
            "Requirement already satisfied: gast>=0.3.2 in /usr/local/lib/python3.6/dist-packages (from tensorflow-probability>=0.11.0->tf-agents) (0.3.3)\n",
            "Requirement already satisfied: setuptools in /usr/local/lib/python3.6/dist-packages (from protobuf>=3.11.3->tf-agents) (50.3.2)\n",
            "Installing collected packages: tf-agents\n",
            "Successfully installed tf-agents-0.6.0\n"
          ],
          "name": "stdout"
        }
      ]
    },
    {
      "cell_type": "code",
      "metadata": {
        "id": "GqkgGWWu99Sv"
      },
      "source": [
        ""
      ],
      "execution_count": null,
      "outputs": []
    },
    {
      "cell_type": "code",
      "metadata": {
        "colab": {
          "base_uri": "https://localhost:8080/"
        },
        "id": "OyV5mvrC99VW",
        "outputId": "6ae6ed20-b591-439d-cc30-3cb44527ac53"
      },
      "source": [
        "from __future__ import absolute_import, division, print_function\r\n",
        "\r\n",
        "import base64\r\n",
        "import imageio\r\n",
        "import IPython\r\n",
        "import matplotlib\r\n",
        "import matplotlib.pyplot as plt\r\n",
        "import numpy as np\r\n",
        "import PIL.Image\r\n",
        "import pyvirtualdisplay\r\n",
        "\r\n",
        "import tensorflow as tf\r\n",
        "\r\n",
        "from tf_agents.agents.dqn import dqn_agent\r\n",
        "from tf_agents.drivers import dynamic_step_driver\r\n",
        "from tf_agents.environments import suite_gym\r\n",
        "from tf_agents.environments import tf_py_environment\r\n",
        "from tf_agents.eval import metric_utils\r\n",
        "from tf_agents.metrics import tf_metrics\r\n",
        "from tf_agents.networks import q_network\r\n",
        "from tf_agents.policies import random_tf_policy\r\n",
        "from tf_agents.replay_buffers import tf_uniform_replay_buffer\r\n",
        "from tf_agents.trajectories import trajectory\r\n",
        "from tf_agents.utils import common"
      ],
      "execution_count": null,
      "outputs": [
        {
          "output_type": "stream",
          "text": [
            "WARNING:root:Argument blacklist is deprecated. Please use denylist.\n",
            "WARNING:root:Argument blacklist is deprecated. Please use denylist.\n"
          ],
          "name": "stderr"
        }
      ]
    },
    {
      "cell_type": "code",
      "metadata": {
        "id": "shaXcBkL99X2"
      },
      "source": [
        ""
      ],
      "execution_count": null,
      "outputs": []
    },
    {
      "cell_type": "code",
      "metadata": {
        "id": "c9sXJ2MD99ak"
      },
      "source": [
        "tf.compat.v1.enable_v2_behavior()\r\n",
        "\r\n",
        "# Set up a virtual display for rendering OpenAI gym environments.\r\n",
        "display = pyvirtualdisplay.Display(visible=0, size=(1400, 900)).start()\r\n"
      ],
      "execution_count": null,
      "outputs": []
    },
    {
      "cell_type": "code",
      "metadata": {
        "id": "Q384dVoP99c8"
      },
      "source": [
        ""
      ],
      "execution_count": null,
      "outputs": []
    },
    {
      "cell_type": "code",
      "metadata": {
        "colab": {
          "base_uri": "https://localhost:8080/",
          "height": 35
        },
        "id": "8QlFY3EN99fC",
        "outputId": "91d04dff-d180-4d0b-d1d3-4518d884c240"
      },
      "source": [
        "tf.version.VERSION"
      ],
      "execution_count": null,
      "outputs": [
        {
          "output_type": "execute_result",
          "data": {
            "application/vnd.google.colaboratory.intrinsic+json": {
              "type": "string"
            },
            "text/plain": [
              "'2.4.0'"
            ]
          },
          "metadata": {
            "tags": []
          },
          "execution_count": 4
        }
      ]
    },
    {
      "cell_type": "code",
      "metadata": {
        "id": "viR8hV2J99hG"
      },
      "source": [
        ""
      ],
      "execution_count": null,
      "outputs": []
    },
    {
      "cell_type": "code",
      "metadata": {
        "id": "gPGCWZtC99jw"
      },
      "source": [
        "num_iterations = 20000 # @param {type:\"integer\"}\r\n",
        "\r\n",
        "initial_collect_steps = 100  # @param {type:\"integer\"} \r\n",
        "collect_steps_per_iteration = 1  # @param {type:\"integer\"}\r\n",
        "replay_buffer_max_length = 100000  # @param {type:\"integer\"}\r\n",
        "\r\n",
        "batch_size = 64  # @param {type:\"integer\"}\r\n",
        "learning_rate = 1e-3  # @param {type:\"number\"}\r\n",
        "log_interval = 200  # @param {type:\"integer\"}\r\n",
        "\r\n",
        "num_eval_episodes = 10  # @param {type:\"integer\"}\r\n",
        "eval_interval = 1000  # @param {type:\"integer\"}\r\n"
      ],
      "execution_count": null,
      "outputs": []
    },
    {
      "cell_type": "code",
      "metadata": {
        "id": "kuKC80E099mE"
      },
      "source": [
        ""
      ],
      "execution_count": null,
      "outputs": []
    },
    {
      "cell_type": "code",
      "metadata": {
        "id": "5YMQPnJZ-GkD"
      },
      "source": [
        ""
      ],
      "execution_count": null,
      "outputs": []
    },
    {
      "cell_type": "code",
      "metadata": {
        "id": "K0-wBrmm-GhN"
      },
      "source": [
        "env_name = 'CartPole-v0'\r\n",
        "env = suite_gym.load(env_name)\r\n"
      ],
      "execution_count": null,
      "outputs": []
    },
    {
      "cell_type": "code",
      "metadata": {
        "colab": {
          "base_uri": "https://localhost:8080/",
          "height": 417
        },
        "id": "GdiLcA-R-GeU",
        "outputId": "06fda03e-c6ef-4d99-9875-ef46693b4f8b"
      },
      "source": [
        "env.reset()\r\n",
        "PIL.Image.fromarray(env.render())\r\n"
      ],
      "execution_count": null,
      "outputs": [
        {
          "output_type": "execute_result",
          "data": {
            "image/png": "[encoded data removed]",
            "text/plain": [
              "<PIL.Image.Image image mode=RGB size=600x400 at 0x7F6200D71A58>"
            ]
          },
          "metadata": {
            "tags": []
          },
          "execution_count": 9
        }
      ]
    },
    {
      "cell_type": "code",
      "metadata": {
        "colab": {
          "base_uri": "https://localhost:8080/"
        },
        "id": "nnED8RxU-Gbc",
        "outputId": "6f44f85c-9243-4a30-c3e9-3a37efd0e452"
      },
      "source": [
        "print('Observation Spec:')\r\n",
        "print(env.time_step_spec().observation)\r\n"
      ],
      "execution_count": null,
      "outputs": [
        {
          "output_type": "stream",
          "text": [
            "Observation Spec:\n",
            "BoundedArraySpec(shape=(4,), dtype=dtype('float32'), name='observation', minimum=[-4.8000002e+00 -3.4028235e+38 -4.1887903e-01 -3.4028235e+38], maximum=[4.8000002e+00 3.4028235e+38 4.1887903e-01 3.4028235e+38])\n"
          ],
          "name": "stdout"
        }
      ]
    },
    {
      "cell_type": "code",
      "metadata": {
        "colab": {
          "base_uri": "https://localhost:8080/"
        },
        "id": "xVwpovkt-GYl",
        "outputId": "788a0dc0-3bfc-40c2-e605-617620da1328"
      },
      "source": [
        "print('Reward Spec:')\r\n",
        "print(env.time_step_spec().reward)\r\n"
      ],
      "execution_count": null,
      "outputs": [
        {
          "output_type": "stream",
          "text": [
            "Reward Spec:\n",
            "ArraySpec(shape=(), dtype=dtype('float32'), name='reward')\n"
          ],
          "name": "stdout"
        }
      ]
    },
    {
      "cell_type": "code",
      "metadata": {
        "colab": {
          "base_uri": "https://localhost:8080/"
        },
        "id": "Iw2i80D9-GVf",
        "outputId": "12ea681c-1697-469c-abea-bda92e1797a6"
      },
      "source": [
        "print('Action Spec:')\r\n",
        "print(env.action_spec())\r\n"
      ],
      "execution_count": null,
      "outputs": [
        {
          "output_type": "stream",
          "text": [
            "Action Spec:\n",
            "BoundedArraySpec(shape=(), dtype=dtype('int64'), name='action', minimum=0, maximum=1)\n"
          ],
          "name": "stdout"
        }
      ]
    },
    {
      "cell_type": "code",
      "metadata": {
        "id": "ZRT19-ng-GSZ"
      },
      "source": [
        ""
      ],
      "execution_count": null,
      "outputs": []
    },
    {
      "cell_type": "code",
      "metadata": {
        "colab": {
          "base_uri": "https://localhost:8080/"
        },
        "id": "WM2YobSc-GPW",
        "outputId": "29fe064e-9495-431d-b6e7-99800dd8e6e6"
      },
      "source": [
        "time_step = env.reset()\r\n",
        "print('Time step:')\r\n",
        "print(time_step)\r\n",
        "\r\n",
        "action = np.array(1, dtype=np.int32)\r\n",
        "\r\n",
        "next_time_step = env.step(action)\r\n",
        "print('Next time step:')\r\n",
        "print(next_time_step)\r\n"
      ],
      "execution_count": null,
      "outputs": [
        {
          "output_type": "stream",
          "text": [
            "Time step:\n",
            "TimeStep(step_type=array(0, dtype=int32), reward=array(0., dtype=float32), discount=array(1., dtype=float32), observation=array([-0.00768841,  0.00503232,  0.04861919, -0.02026419], dtype=float32))\n",
            "Next time step:\n",
            "TimeStep(step_type=array(1, dtype=int32), reward=array(1., dtype=float32), discount=array(1., dtype=float32), observation=array([-0.00758776,  0.19942452,  0.04821391, -0.2972195 ], dtype=float32))\n"
          ],
          "name": "stdout"
        }
      ]
    },
    {
      "cell_type": "code",
      "metadata": {
        "id": "Id6KW8Aq-GMF"
      },
      "source": [
        ""
      ],
      "execution_count": null,
      "outputs": []
    },
    {
      "cell_type": "code",
      "metadata": {
        "id": "dNwnjIXw-GJN"
      },
      "source": [
        "train_py_env = suite_gym.load(env_name)\r\n",
        "eval_py_env = suite_gym.load(env_name)\r\n"
      ],
      "execution_count": null,
      "outputs": []
    },
    {
      "cell_type": "code",
      "metadata": {
        "id": "RDRQuyRk-GF-"
      },
      "source": [
        ""
      ],
      "execution_count": null,
      "outputs": []
    },
    {
      "cell_type": "code",
      "metadata": {
        "id": "m8ISGc5i-GC_"
      },
      "source": [
        "train_env = tf_py_environment.TFPyEnvironment(train_py_env)\r\n",
        "eval_env = tf_py_environment.TFPyEnvironment(eval_py_env)\r\n"
      ],
      "execution_count": null,
      "outputs": []
    },
    {
      "cell_type": "code",
      "metadata": {
        "id": "UgyxvwhL-F_u"
      },
      "source": [
        ""
      ],
      "execution_count": null,
      "outputs": []
    },
    {
      "cell_type": "code",
      "metadata": {
        "id": "y4eZqWTQ-F8u"
      },
      "source": [
        "fc_layer_params = (100,)\r\n",
        "\r\n",
        "q_net = q_network.QNetwork(\r\n",
        "    train_env.observation_spec(),\r\n",
        "    train_env.action_spec(),\r\n",
        "    fc_layer_params=fc_layer_params)\r\n"
      ],
      "execution_count": null,
      "outputs": []
    },
    {
      "cell_type": "code",
      "metadata": {
        "id": "skh_SST3-F5n"
      },
      "source": [
        ""
      ],
      "execution_count": null,
      "outputs": []
    },
    {
      "cell_type": "code",
      "metadata": {
        "id": "SaAssjE9-F2v"
      },
      "source": [
        "optimizer = tf.compat.v1.train.AdamOptimizer(learning_rate=learning_rate)\r\n",
        "\r\n",
        "train_step_counter = tf.Variable(0)\r\n",
        "\r\n",
        "agent = dqn_agent.DqnAgent(\r\n",
        "    train_env.time_step_spec(),\r\n",
        "    train_env.action_spec(),\r\n",
        "    q_network=q_net,\r\n",
        "    optimizer=optimizer,\r\n",
        "    td_errors_loss_fn=common.element_wise_squared_loss,\r\n",
        "    train_step_counter=train_step_counter)\r\n",
        "\r\n",
        "agent.initialize()\r\n"
      ],
      "execution_count": null,
      "outputs": []
    },
    {
      "cell_type": "code",
      "metadata": {
        "id": "b2utaq5q-Fz3"
      },
      "source": [
        ""
      ],
      "execution_count": null,
      "outputs": []
    },
    {
      "cell_type": "code",
      "metadata": {
        "id": "5VHR1z1N-Fw_"
      },
      "source": [
        "eval_policy = agent.policy\r\n",
        "collect_policy = agent.collect_policy"
      ],
      "execution_count": null,
      "outputs": []
    },
    {
      "cell_type": "code",
      "metadata": {
        "id": "_5m5RyKn-Ftp"
      },
      "source": [
        ""
      ],
      "execution_count": null,
      "outputs": []
    },
    {
      "cell_type": "code",
      "metadata": {
        "id": "Iy7ftUNt-Fqv"
      },
      "source": [
        "random_policy = random_tf_policy.RandomTFPolicy(train_env.time_step_spec(),\r\n",
        "                                                train_env.action_spec())\r\n"
      ],
      "execution_count": null,
      "outputs": []
    },
    {
      "cell_type": "code",
      "metadata": {
        "id": "J9ECvoFN-Fnw"
      },
      "source": [
        ""
      ],
      "execution_count": null,
      "outputs": []
    },
    {
      "cell_type": "code",
      "metadata": {
        "id": "7YCE4zIO-Fky"
      },
      "source": [
        "example_environment = tf_py_environment.TFPyEnvironment(\r\n",
        "    suite_gym.load('CartPole-v0'))\r\n"
      ],
      "execution_count": null,
      "outputs": []
    },
    {
      "cell_type": "code",
      "metadata": {
        "id": "pmsMabKj-Fhr"
      },
      "source": [
        "time_step = example_environment.reset()\r\n"
      ],
      "execution_count": null,
      "outputs": []
    },
    {
      "cell_type": "code",
      "metadata": {
        "colab": {
          "base_uri": "https://localhost:8080/"
        },
        "id": "97Ok9BNU-Fex",
        "outputId": "6b8dd377-fc3c-47ed-d7f9-88bff8ca885f"
      },
      "source": [
        "random_policy.action(time_step)\r\n"
      ],
      "execution_count": null,
      "outputs": [
        {
          "output_type": "execute_result",
          "data": {
            "text/plain": [
              "PolicyStep(action=<tf.Tensor: shape=(1,), dtype=int64, numpy=array([1])>, state=(), info=())"
            ]
          },
          "metadata": {
            "tags": []
          },
          "execution_count": 22
        }
      ]
    },
    {
      "cell_type": "code",
      "metadata": {
        "id": "gFULn2t2-Fb9"
      },
      "source": [
        ""
      ],
      "execution_count": null,
      "outputs": []
    },
    {
      "cell_type": "code",
      "metadata": {
        "id": "G8f-OKuZ-FY0"
      },
      "source": [
        "def compute_avg_return(environment, policy, num_episodes=10):\r\n",
        "\r\n",
        "  total_return = 0.0\r\n",
        "  for _ in range(num_episodes):\r\n",
        "\r\n",
        "    time_step = environment.reset()\r\n",
        "    episode_return = 0.0\r\n",
        "\r\n",
        "    while not time_step.is_last():\r\n",
        "      action_step = policy.action(time_step)\r\n",
        "      time_step = environment.step(action_step.action)\r\n",
        "      episode_return += time_step.reward\r\n",
        "    total_return += episode_return\r\n",
        "\r\n",
        "  avg_return = total_return / num_episodes\r\n",
        "  return avg_return.numpy()[0]\r\n",
        "\r\n",
        "\r\n",
        "# See also the metrics module for standard implementations of different metrics.\r\n",
        "# https://github.com/tensorflow/agents/tree/master/tf_agents/metrics\r\n"
      ],
      "execution_count": null,
      "outputs": []
    },
    {
      "cell_type": "code",
      "metadata": {
        "id": "cJGk2eX3-FVr"
      },
      "source": [
        ""
      ],
      "execution_count": null,
      "outputs": []
    },
    {
      "cell_type": "code",
      "metadata": {
        "colab": {
          "base_uri": "https://localhost:8080/"
        },
        "id": "A6acF45s-FSh",
        "outputId": "971f4516-3cb7-4bb2-f157-22e8f31e95ef"
      },
      "source": [
        "compute_avg_return(eval_env, random_policy, num_eval_episodes)\r\n"
      ],
      "execution_count": null,
      "outputs": [
        {
          "output_type": "execute_result",
          "data": {
            "text/plain": [
              "18.0"
            ]
          },
          "metadata": {
            "tags": []
          },
          "execution_count": 24
        }
      ]
    },
    {
      "cell_type": "code",
      "metadata": {
        "id": "leH5pJmX-FPL"
      },
      "source": [
        ""
      ],
      "execution_count": null,
      "outputs": []
    },
    {
      "cell_type": "code",
      "metadata": {
        "id": "v3WtOt7w-FL_"
      },
      "source": [
        "replay_buffer = tf_uniform_replay_buffer.TFUniformReplayBuffer(\r\n",
        "    data_spec=agent.collect_data_spec,\r\n",
        "    batch_size=train_env.batch_size,\r\n",
        "    max_length=replay_buffer_max_length)\r\n"
      ],
      "execution_count": null,
      "outputs": []
    },
    {
      "cell_type": "code",
      "metadata": {
        "id": "u_pZ7Ync-FI4"
      },
      "source": [
        ""
      ],
      "execution_count": null,
      "outputs": []
    },
    {
      "cell_type": "code",
      "metadata": {
        "colab": {
          "base_uri": "https://localhost:8080/"
        },
        "id": "jVMTEpWq-FFw",
        "outputId": "c8f9b561-8772-40fd-f13c-cff85bb02694"
      },
      "source": [
        "agent.collect_data_spec"
      ],
      "execution_count": null,
      "outputs": [
        {
          "output_type": "execute_result",
          "data": {
            "text/plain": [
              "Trajectory(step_type=TensorSpec(shape=(), dtype=tf.int32, name='step_type'), observation=BoundedTensorSpec(shape=(4,), dtype=tf.float32, name='observation', minimum=array([-4.8000002e+00, -3.4028235e+38, -4.1887903e-01, -3.4028235e+38],\n",
              "      dtype=float32), maximum=array([4.8000002e+00, 3.4028235e+38, 4.1887903e-01, 3.4028235e+38],\n",
              "      dtype=float32)), action=BoundedTensorSpec(shape=(), dtype=tf.int64, name='action', minimum=array(0), maximum=array(1)), policy_info=(), next_step_type=TensorSpec(shape=(), dtype=tf.int32, name='step_type'), reward=TensorSpec(shape=(), dtype=tf.float32, name='reward'), discount=BoundedTensorSpec(shape=(), dtype=tf.float32, name='discount', minimum=array(0., dtype=float32), maximum=array(1., dtype=float32)))"
            ]
          },
          "metadata": {
            "tags": []
          },
          "execution_count": 26
        }
      ]
    },
    {
      "cell_type": "code",
      "metadata": {
        "id": "r-ibRQIr-FCd"
      },
      "source": [
        ""
      ],
      "execution_count": null,
      "outputs": []
    },
    {
      "cell_type": "code",
      "metadata": {
        "colab": {
          "base_uri": "https://localhost:8080/"
        },
        "id": "DFWyTa9a-E_P",
        "outputId": "d30d4201-ea13-492e-b660-5ac06ae5a017"
      },
      "source": [
        "agent.collect_data_spec._fields"
      ],
      "execution_count": null,
      "outputs": [
        {
          "output_type": "execute_result",
          "data": {
            "text/plain": [
              "('step_type',\n",
              " 'observation',\n",
              " 'action',\n",
              " 'policy_info',\n",
              " 'next_step_type',\n",
              " 'reward',\n",
              " 'discount')"
            ]
          },
          "metadata": {
            "tags": []
          },
          "execution_count": 27
        }
      ]
    },
    {
      "cell_type": "code",
      "metadata": {
        "id": "ZFajmRl7-E8H"
      },
      "source": [
        ""
      ],
      "execution_count": null,
      "outputs": []
    },
    {
      "cell_type": "code",
      "metadata": {
        "id": "kuxg1Ic8-E42"
      },
      "source": [
        "def collect_step(environment, policy, buffer):\r\n",
        "  time_step = environment.current_time_step()\r\n",
        "  action_step = policy.action(time_step)\r\n",
        "  next_time_step = environment.step(action_step.action)\r\n",
        "  traj = trajectory.from_transition(time_step, action_step, next_time_step)\r\n",
        "\r\n",
        "  # Add trajectory to the replay buffer\r\n",
        "  buffer.add_batch(traj)\r\n",
        "\r\n",
        "def collect_data(env, policy, buffer, steps):\r\n",
        "  for _ in range(steps):\r\n",
        "    collect_step(env, policy, buffer)\r\n",
        "\r\n",
        "collect_data(train_env, random_policy, replay_buffer, initial_collect_steps)\r\n",
        "\r\n",
        "# This loop is so common in RL, that we provide standard implementations. \r\n",
        "# For more details see the drivers module.\r\n",
        "# https://www.tensorflow.org/agents/api_docs/python/tf_agents/drivers\r\n"
      ],
      "execution_count": null,
      "outputs": []
    },
    {
      "cell_type": "code",
      "metadata": {
        "id": "iXSVQxj3-E1w"
      },
      "source": [
        ""
      ],
      "execution_count": null,
      "outputs": []
    },
    {
      "cell_type": "code",
      "metadata": {
        "colab": {
          "base_uri": "https://localhost:8080/"
        },
        "id": "oFAY2B2d-EzA",
        "outputId": "50ba10e6-823a-4665-95ed-9be0c2ac3c8d"
      },
      "source": [
        "# Dataset generates trajectories with shape [Bx2x...]\r\n",
        "dataset = replay_buffer.as_dataset(\r\n",
        "    num_parallel_calls=3, \r\n",
        "    sample_batch_size=batch_size, \r\n",
        "    num_steps=2).prefetch(3)\r\n",
        "\r\n",
        "\r\n",
        "dataset"
      ],
      "execution_count": null,
      "outputs": [
        {
          "output_type": "stream",
          "text": [
            "WARNING:tensorflow:From /usr/local/lib/python3.6/dist-packages/tensorflow/python/autograph/operators/control_flow.py:1218: ReplayBuffer.get_next (from tf_agents.replay_buffers.replay_buffer) is deprecated and will be removed in a future version.\n",
            "Instructions for updating:\n",
            "Use `as_dataset(..., single_deterministic_pass=False) instead.\n"
          ],
          "name": "stdout"
        },
        {
          "output_type": "stream",
          "text": [
            "WARNING:tensorflow:From /usr/local/lib/python3.6/dist-packages/tensorflow/python/autograph/operators/control_flow.py:1218: ReplayBuffer.get_next (from tf_agents.replay_buffers.replay_buffer) is deprecated and will be removed in a future version.\n",
            "Instructions for updating:\n",
            "Use `as_dataset(..., single_deterministic_pass=False) instead.\n"
          ],
          "name": "stderr"
        },
        {
          "output_type": "execute_result",
          "data": {
            "text/plain": [
              "<PrefetchDataset shapes: (Trajectory(step_type=(64, 2), observation=(64, 2, 4), action=(64, 2), policy_info=(), next_step_type=(64, 2), reward=(64, 2), discount=(64, 2)), BufferInfo(ids=(64, 2), probabilities=(64,))), types: (Trajectory(step_type=tf.int32, observation=tf.float32, action=tf.int64, policy_info=(), next_step_type=tf.int32, reward=tf.float32, discount=tf.float32), BufferInfo(ids=tf.int64, probabilities=tf.float32))>"
            ]
          },
          "metadata": {
            "tags": []
          },
          "execution_count": 29
        }
      ]
    },
    {
      "cell_type": "code",
      "metadata": {
        "id": "iRvdvhOM-Ev3"
      },
      "source": [
        ""
      ],
      "execution_count": null,
      "outputs": []
    },
    {
      "cell_type": "code",
      "metadata": {
        "colab": {
          "base_uri": "https://localhost:8080/"
        },
        "id": "xA5YXCKM-Es3",
        "outputId": "9783441f-9860-45ff-ad4c-e7fe4fd4b837"
      },
      "source": [
        "iterator = iter(dataset)\r\n",
        "\r\n",
        "print(iterator)\r\n"
      ],
      "execution_count": null,
      "outputs": [
        {
          "output_type": "stream",
          "text": [
            "<tensorflow.python.data.ops.iterator_ops.OwnedIterator object at 0x7f61f8e4fdd8>\n"
          ],
          "name": "stdout"
        }
      ]
    },
    {
      "cell_type": "code",
      "metadata": {
        "id": "3kDIdqTZ-Epv"
      },
      "source": [
        ""
      ],
      "execution_count": null,
      "outputs": []
    },
    {
      "cell_type": "code",
      "metadata": {
        "colab": {
          "base_uri": "https://localhost:8080/"
        },
        "id": "lb-yiuHJ-Emq",
        "outputId": "42480a6f-3cf2-4cd6-d94b-f796620e3474"
      },
      "source": [
        "try:\r\n",
        "  %%time\r\n",
        "except:\r\n",
        "  pass\r\n",
        "\r\n",
        "# (Optional) Optimize by wrapping some of the code in a graph using TF function.\r\n",
        "agent.train = common.function(agent.train)\r\n",
        "\r\n",
        "# Reset the train step\r\n",
        "agent.train_step_counter.assign(0)\r\n",
        "\r\n",
        "# Evaluate the agent's policy once before training.\r\n",
        "avg_return = compute_avg_return(eval_env, agent.policy, num_eval_episodes)\r\n",
        "returns = [avg_return]\r\n",
        "\r\n",
        "for _ in range(num_iterations):\r\n",
        "\r\n",
        "  # Collect a few steps using collect_policy and save to the replay buffer.\r\n",
        "  collect_data(train_env, agent.collect_policy, replay_buffer, collect_steps_per_iteration)\r\n",
        "\r\n",
        "  # Sample a batch of data from the buffer and update the agent's network.\r\n",
        "  experience, unused_info = next(iterator)\r\n",
        "  train_loss = agent.train(experience).loss\r\n",
        "\r\n",
        "  step = agent.train_step_counter.numpy()\r\n",
        "\r\n",
        "  if step % log_interval == 0:\r\n",
        "    print('step = {0}: loss = {1}'.format(step, train_loss))\r\n",
        "\r\n",
        "  if step % eval_interval == 0:\r\n",
        "    avg_return = compute_avg_return(eval_env, agent.policy, num_eval_episodes)\r\n",
        "    print('step = {0}: Average Return = {1}'.format(step, avg_return))\r\n",
        "    returns.append(avg_return)\r\n"
      ],
      "execution_count": null,
      "outputs": [
        {
          "output_type": "stream",
          "text": [
            "CPU times: user 3 µs, sys: 0 ns, total: 3 µs\n",
            "Wall time: 5.25 µs\n",
            "WARNING:tensorflow:From /usr/local/lib/python3.6/dist-packages/tensorflow/python/util/dispatch.py:201: calling foldr_v2 (from tensorflow.python.ops.functional_ops) with back_prop=False is deprecated and will be removed in a future version.\n",
            "Instructions for updating:\n",
            "back_prop=False is deprecated. Consider using tf.stop_gradient instead.\n",
            "Instead of:\n",
            "results = tf.foldr(fn, elems, back_prop=False)\n",
            "Use:\n",
            "results = tf.nest.map_structure(tf.stop_gradient, tf.foldr(fn, elems))\n"
          ],
          "name": "stdout"
        },
        {
          "output_type": "stream",
          "text": [
            "WARNING:tensorflow:From /usr/local/lib/python3.6/dist-packages/tensorflow/python/util/dispatch.py:201: calling foldr_v2 (from tensorflow.python.ops.functional_ops) with back_prop=False is deprecated and will be removed in a future version.\n",
            "Instructions for updating:\n",
            "back_prop=False is deprecated. Consider using tf.stop_gradient instead.\n",
            "Instead of:\n",
            "results = tf.foldr(fn, elems, back_prop=False)\n",
            "Use:\n",
            "results = tf.nest.map_structure(tf.stop_gradient, tf.foldr(fn, elems))\n"
          ],
          "name": "stderr"
        },
        {
          "output_type": "stream",
          "text": [
            "step = 200: loss = 12.0142822265625\n",
            "step = 400: loss = 8.146712303161621\n",
            "step = 600: loss = 3.640962839126587\n",
            "step = 800: loss = 9.64122200012207\n",
            "step = 1000: loss = 10.413800239562988\n",
            "step = 1000: Average Return = 25.0\n",
            "step = 1200: loss = 20.222763061523438\n",
            "step = 1400: loss = 34.918312072753906\n",
            "step = 1600: loss = 33.32453918457031\n",
            "step = 1800: loss = 33.69557189941406\n",
            "step = 2000: loss = 51.75933074951172\n",
            "step = 2000: Average Return = 36.900001525878906\n",
            "step = 2200: loss = 41.017616271972656\n",
            "step = 2400: loss = 36.963523864746094\n",
            "step = 2600: loss = 21.112293243408203\n",
            "step = 2800: loss = 37.80777359008789\n",
            "step = 3000: loss = 31.88629722595215\n",
            "step = 3000: Average Return = 65.5999984741211\n",
            "step = 3200: loss = 39.99583435058594\n",
            "step = 3400: loss = 36.930816650390625\n",
            "step = 3600: loss = 79.30089569091797\n",
            "step = 3800: loss = 57.53923797607422\n",
            "step = 4000: loss = 28.717811584472656\n",
            "step = 4000: Average Return = 163.10000610351562\n",
            "step = 4200: loss = 69.99690246582031\n",
            "step = 4400: loss = 42.906288146972656\n",
            "step = 4600: loss = 81.7921142578125\n",
            "step = 4800: loss = 20.859107971191406\n",
            "step = 5000: loss = 8.154233932495117\n",
            "step = 5000: Average Return = 197.39999389648438\n",
            "step = 5200: loss = 37.03640365600586\n",
            "step = 5400: loss = 193.6056671142578\n",
            "step = 5600: loss = 43.47775650024414\n",
            "step = 5800: loss = 101.58240509033203\n",
            "step = 6000: loss = 86.87165832519531\n",
            "step = 6000: Average Return = 195.89999389648438\n",
            "step = 6200: loss = 126.26085662841797\n",
            "step = 6400: loss = 103.7045669555664\n",
            "step = 6600: loss = 177.56475830078125\n",
            "step = 6800: loss = 12.829498291015625\n",
            "step = 7000: loss = 128.3409881591797\n",
            "step = 7000: Average Return = 167.8000030517578\n",
            "step = 7200: loss = 76.89513397216797\n",
            "step = 7400: loss = 43.834285736083984\n",
            "step = 7600: loss = 25.14082145690918\n",
            "step = 7800: loss = 67.33982849121094\n",
            "step = 8000: loss = 140.640380859375\n",
            "step = 8000: Average Return = 182.10000610351562\n",
            "step = 8200: loss = 7.451537132263184\n",
            "step = 8400: loss = 21.507705688476562\n",
            "step = 8600: loss = 264.83966064453125\n",
            "step = 8800: loss = 255.90167236328125\n",
            "step = 9000: loss = 466.0615539550781\n",
            "step = 9000: Average Return = 198.5\n",
            "step = 9200: loss = 21.192712783813477\n",
            "step = 9400: loss = 31.32654571533203\n",
            "step = 9600: loss = 273.8260803222656\n",
            "step = 9800: loss = 29.494855880737305\n",
            "step = 10000: loss = 13.229593276977539\n",
            "step = 10000: Average Return = 200.0\n",
            "step = 10200: loss = 18.158342361450195\n",
            "step = 10400: loss = 30.252845764160156\n",
            "step = 10600: loss = 60.23030090332031\n",
            "step = 10800: loss = 1528.400146484375\n",
            "step = 11000: loss = 722.5131225585938\n",
            "step = 11000: Average Return = 200.0\n",
            "step = 11200: loss = 792.3885498046875\n",
            "step = 11400: loss = 531.344482421875\n",
            "step = 11600: loss = 2385.780517578125\n",
            "step = 11800: loss = 16.582128524780273\n",
            "step = 12000: loss = 31.9736385345459\n",
            "step = 12000: Average Return = 199.0\n",
            "step = 12200: loss = 355.5927734375\n",
            "step = 12400: loss = 36.79100799560547\n",
            "step = 12600: loss = 280.5260314941406\n",
            "step = 12800: loss = 31.55990982055664\n",
            "step = 13000: loss = 66.09417724609375\n",
            "step = 13000: Average Return = 200.0\n",
            "step = 13200: loss = 46.20677185058594\n",
            "step = 13400: loss = 2869.34619140625\n",
            "step = 13600: loss = 72.88004302978516\n",
            "step = 13800: loss = 932.2662963867188\n",
            "step = 14000: loss = 6738.9638671875\n",
            "step = 14000: Average Return = 200.0\n",
            "step = 14200: loss = 404.0372314453125\n",
            "step = 14400: loss = 466.88970947265625\n",
            "step = 14600: loss = 39.84128952026367\n",
            "step = 14800: loss = 41.03807830810547\n",
            "step = 15000: loss = 676.1709594726562\n",
            "step = 15000: Average Return = 199.8000030517578\n",
            "step = 15200: loss = 72.82056427001953\n",
            "step = 15400: loss = 43.19411849975586\n",
            "step = 15600: loss = 20.933746337890625\n",
            "step = 15800: loss = 65.94081115722656\n",
            "step = 16000: loss = 3969.656005859375\n",
            "step = 16000: Average Return = 200.0\n",
            "step = 16200: loss = 540.6762084960938\n",
            "step = 16400: loss = 59.81694793701172\n",
            "step = 16600: loss = 765.9972534179688\n",
            "step = 16800: loss = 37.12657165527344\n",
            "step = 17000: loss = 6451.3193359375\n",
            "step = 17000: Average Return = 200.0\n",
            "step = 17200: loss = 112.05233764648438\n",
            "step = 17400: loss = 97.55711364746094\n",
            "step = 17600: loss = 56.78114700317383\n",
            "step = 17800: loss = 61.55795669555664\n",
            "step = 18000: loss = 735.3641967773438\n",
            "step = 18000: Average Return = 200.0\n",
            "step = 18200: loss = 76.926513671875\n",
            "step = 18400: loss = 1351.0699462890625\n",
            "step = 18600: loss = 802.2328491210938\n",
            "step = 18800: loss = 32.57492446899414\n",
            "step = 19000: loss = 83.78863525390625\n",
            "step = 19000: Average Return = 200.0\n",
            "step = 19200: loss = 1173.77734375\n",
            "step = 19400: loss = 958.8243408203125\n",
            "step = 19600: loss = 65.64946746826172\n",
            "step = 19800: loss = 59.4024772644043\n",
            "step = 20000: loss = 116.0724868774414\n",
            "step = 20000: Average Return = 200.0\n"
          ],
          "name": "stdout"
        }
      ]
    },
    {
      "cell_type": "code",
      "metadata": {
        "id": "VE7Fa8Te-Ej4"
      },
      "source": [
        ""
      ],
      "execution_count": null,
      "outputs": []
    },
    {
      "cell_type": "code",
      "metadata": {
        "colab": {
          "base_uri": "https://localhost:8080/",
          "height": 301
        },
        "id": "dS-DMTX9-Egw",
        "outputId": "aeb5dfc5-5b98-4e50-a353-43c145dd3467"
      },
      "source": [
        "iterations = range(0, num_iterations + 1, eval_interval)\r\n",
        "plt.plot(iterations, returns)\r\n",
        "plt.ylabel('Average Return')\r\n",
        "plt.xlabel('Iterations')\r\n",
        "plt.ylim(top=250)\r\n"
      ],
      "execution_count": null,
      "outputs": [
        {
          "output_type": "execute_result",
          "data": {
            "text/plain": [
              "(-0.44499959945678746, 250.0)"
            ]
          },
          "metadata": {
            "tags": []
          },
          "execution_count": 32
        },
        {
          "output_type": "display_data",
          "data": {
            "image/png": "[encoded data removed]",
            "text/plain": [
              "<Figure size 432x288 with 1 Axes>"
            ]
          },
          "metadata": {
            "tags": [],
            "needs_background": "light"
          }
        }
      ]
    },
    {
      "cell_type": "code",
      "metadata": {
        "id": "7_bX4cfV-Edx"
      },
      "source": [
        ""
      ],
      "execution_count": null,
      "outputs": []
    },
    {
      "cell_type": "code",
      "metadata": {
        "id": "2yT8PE9a-Eax"
      },
      "source": [
        ""
      ],
      "execution_count": null,
      "outputs": []
    },
    {
      "cell_type": "code",
      "metadata": {
        "id": "UwCURbTD-EX7"
      },
      "source": [
        "def embed_mp4(filename):\r\n",
        "  \"\"\"Embeds an mp4 file in the notebook.\"\"\"\r\n",
        "  video = open(filename,'rb').read()\r\n",
        "  b64 = base64.b64encode(video)\r\n",
        "  tag = '''\r\n",
        "  <video width=\"640\" height=\"480\" controls>\r\n",
        "    <source src=\"data:video/mp4;base64,{0}\" type=\"video/mp4\">\r\n",
        "  Your browser does not support the video tag.\r\n",
        "  </video>'''.format(b64.decode())\r\n",
        "\r\n",
        "  return IPython.display.HTML(tag)\r\n"
      ],
      "execution_count": null,
      "outputs": []
    },
    {
      "cell_type": "code",
      "metadata": {
        "id": "0Z2NC2IH-EVG"
      },
      "source": [
        ""
      ],
      "execution_count": null,
      "outputs": []
    },
    {
      "cell_type": "code",
      "metadata": {
        "colab": {
          "base_uri": "https://localhost:8080/",
          "height": 539
        },
        "id": "Zqy8sEjq-ESL",
        "outputId": "1c94bed3-5e30-47c3-f6cb-94dfd17fd3fd"
      },
      "source": [
        "def create_policy_eval_video(policy, filename, num_episodes=5, fps=30):\r\n",
        "  filename = filename + \".mp4\"\r\n",
        "  with imageio.get_writer(filename, fps=fps) as video:\r\n",
        "    for _ in range(num_episodes):\r\n",
        "      time_step = eval_env.reset()\r\n",
        "      video.append_data(eval_py_env.render())\r\n",
        "      while not time_step.is_last():\r\n",
        "        action_step = policy.action(time_step)\r\n",
        "        time_step = eval_env.step(action_step.action)\r\n",
        "        video.append_data(eval_py_env.render())\r\n",
        "  return embed_mp4(filename)\r\n",
        "\r\n",
        "\r\n",
        "\r\n",
        "\r\n",
        "create_policy_eval_video(agent.policy, \"trained-agent\")\r\n"
      ],
      "execution_count": null,
      "outputs": [
        {
          "output_type": "stream",
          "text": [
            "WARNING:root:IMAGEIO FFMPEG_WRITER WARNING: input image is not divisible by macro_block_size=16, resizing from (400, 600) to (400, 608) to ensure video compatibility with most codecs and players. To prevent resizing, make your input image divisible by the macro_block_size or set the macro_block_size to None (risking incompatibility). You may also see a FFMPEG warning concerning speedloss due to data not being aligned.\n"
          ],
          "name": "stderr"
        },
        {
          "output_type": "execute_result",
          "data": {
            "text/html": [
              "\n",
              "  <video width=\"640\" height=\"480\" controls>\n",
              "    <source src=\"data:video/mp4;base64,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\" type=\"video/mp4\">\n",
              "  Your browser does not support the video tag.\n",
              "  </video>"
            ],
            "text/plain": [
              "<IPython.core.display.HTML object>"
            ]
          },
          "metadata": {
            "tags": []
          },
          "execution_count": 34
        }
      ]
    },
    {
      "cell_type": "code",
      "metadata": {
        "id": "ZZ9tvCnB-EPX"
      },
      "source": [
        ""
      ],
      "execution_count": null,
      "outputs": []
    },
    {
      "cell_type": "code",
      "metadata": {
        "colab": {
          "base_uri": "https://localhost:8080/",
          "height": 539
        },
        "id": "R5gHYxTL-EMR",
        "outputId": "cadf425e-3e55-4985-de28-8f9c0cc4d90f"
      },
      "source": [
        "create_policy_eval_video(random_policy, \"random-agent\")\r\n"
      ],
      "execution_count": null,
      "outputs": [
        {
          "output_type": "stream",
          "text": [
            "WARNING:root:IMAGEIO FFMPEG_WRITER WARNING: input image is not divisible by macro_block_size=16, resizing from (400, 600) to (400, 608) to ensure video compatibility with most codecs and players. To prevent resizing, make your input image divisible by the macro_block_size or set the macro_block_size to None (risking incompatibility). You may also see a FFMPEG warning concerning speedloss due to data not being aligned.\n"
          ],
          "name": "stderr"
        },
        {
          "output_type": "execute_result",
          "data": {
            "text/html": [
              "\n",
              "  <video width=\"640\" height=\"480\" controls>\n",
              "    <source src=\"data:video/mp4;base64,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\" type=\"video/mp4\">\n",
              "  Your browser does not support the video tag.\n",
              "  </video>"
            ],
            "text/plain": [
              "<IPython.core.display.HTML object>"
            ]
          },
          "metadata": {
            "tags": []
          },
          "execution_count": 36
        }
      ]
    },
    {
      "cell_type": "code",
      "metadata": {
        "id": "MURy_N8F-EJs"
      },
      "source": [
        ""
      ],
      "execution_count": null,
      "outputs": []
    },
    {
      "cell_type": "code",
      "metadata": {
        "id": "M8Aco_Rx-EG-"
      },
      "source": [
        ""
      ],
      "execution_count": null,
      "outputs": []
    },
    {
      "cell_type": "code",
      "metadata": {
        "id": "oRyVdoP9-EEK"
      },
      "source": [
        ""
      ],
      "execution_count": null,
      "outputs": []
    },
    {
      "cell_type": "code",
      "metadata": {
        "id": "P1-6r9j0-EBh"
      },
      "source": [
        ""
      ],
      "execution_count": null,
      "outputs": []
    },
    {
      "cell_type": "code",
      "metadata": {
        "id": "CCJwR4Ng-D-f"
      },
      "source": [
        ""
      ],
      "execution_count": null,
      "outputs": []
    },
    {
      "cell_type": "code",
      "metadata": {
        "id": "Bt79viyP-D8C"
      },
      "source": [
        ""
      ],
      "execution_count": null,
      "outputs": []
    },
    {
      "cell_type": "code",
      "metadata": {
        "id": "S0Bi21Bh-D5O"
      },
      "source": [
        ""
      ],
      "execution_count": null,
      "outputs": []
    },
    {
      "cell_type": "code",
      "metadata": {
        "id": "m5fjDNlS-D2b"
      },
      "source": [
        ""
      ],
      "execution_count": null,
      "outputs": []
    },
    {
      "cell_type": "code",
      "metadata": {
        "id": "nGvNnC0L-Dzl"
      },
      "source": [
        ""
      ],
      "execution_count": null,
      "outputs": []
    },
    {
      "cell_type": "code",
      "metadata": {
        "id": "2YGqGQtc-Dwz"
      },
      "source": [
        ""
      ],
      "execution_count": null,
      "outputs": []
    },
    {
      "cell_type": "code",
      "metadata": {
        "id": "iOZQ_lNWBEIT"
      },
      "source": [
        ""
      ],
      "execution_count": null,
      "outputs": []
    },
    {
      "cell_type": "code",
      "metadata": {
        "id": "S5rA7ZUWBEFg"
      },
      "source": [
        ""
      ],
      "execution_count": null,
      "outputs": []
    },
    {
      "cell_type": "code",
      "metadata": {
        "id": "32AipETZBECi"
      },
      "source": [
        ""
      ],
      "execution_count": null,
      "outputs": []
    },
    {
      "cell_type": "code",
      "metadata": {
        "id": "H8I1QM8PBD_i"
      },
      "source": [
        ""
      ],
      "execution_count": null,
      "outputs": []
    },
    {
      "cell_type": "code",
      "metadata": {
        "id": "n_zfHbw7BD8l"
      },
      "source": [
        ""
      ],
      "execution_count": null,
      "outputs": []
    },
    {
      "cell_type": "code",
      "metadata": {
        "id": "VbdEWjBIBD5h"
      },
      "source": [
        ""
      ],
      "execution_count": null,
      "outputs": []
    },
    {
      "cell_type": "code",
      "metadata": {
        "id": "rqkL1WmvBD2l"
      },
      "source": [
        ""
      ],
      "execution_count": null,
      "outputs": []
    },
    {
      "cell_type": "code",
      "metadata": {
        "id": "edAhkbbFBDze"
      },
      "source": [
        ""
      ],
      "execution_count": null,
      "outputs": []
    },
    {
      "cell_type": "code",
      "metadata": {
        "id": "dUCl6F59BDwK"
      },
      "source": [
        ""
      ],
      "execution_count": null,
      "outputs": []
    },
    {
      "cell_type": "code",
      "metadata": {
        "id": "YBdHuYv8BDs-"
      },
      "source": [
        ""
      ],
      "execution_count": null,
      "outputs": []
    },
    {
      "cell_type": "code",
      "metadata": {
        "id": "TwXoAqEnBDqI"
      },
      "source": [
        "pip install -q tf-agents\r\n",
        "pip install -q gym\r\n"
      ],
      "execution_count": null,
      "outputs": []
    },
    {
      "cell_type": "code",
      "metadata": {
        "id": "W4VlcjTgBDnO"
      },
      "source": [
        ""
      ],
      "execution_count": null,
      "outputs": []
    },
    {
      "cell_type": "code",
      "metadata": {
        "id": "IzXUN26IBDkG"
      },
      "source": [
        "from __future__ import absolute_import\r\n",
        "from __future__ import division\r\n",
        "from __future__ import print_function\r\n",
        "\r\n",
        "import abc\r\n",
        "import tensorflow as tf\r\n",
        "import numpy as np\r\n",
        "\r\n",
        "from tf_agents.environments import py_environment\r\n",
        "from tf_agents.environments import tf_environment\r\n",
        "from tf_agents.environments import tf_py_environment\r\n",
        "from tf_agents.environments import utils\r\n",
        "from tf_agents.specs import array_spec\r\n",
        "from tf_agents.environments import wrappers\r\n",
        "from tf_agents.environments import suite_gym\r\n",
        "from tf_agents.trajectories import time_step as ts\r\n",
        "\r\n",
        "tf.compat.v1.enable_v2_behavior()\r\n"
      ],
      "execution_count": null,
      "outputs": []
    },
    {
      "cell_type": "code",
      "metadata": {
        "id": "3SwELL3FBDhB"
      },
      "source": [
        ""
      ],
      "execution_count": null,
      "outputs": []
    },
    {
      "cell_type": "code",
      "metadata": {
        "id": "_pm3-PcLBDeJ"
      },
      "source": [
        "class PyEnvironment(object):\r\n",
        "\r\n",
        "  def reset(self):\r\n",
        "    \"\"\"Return initial_time_step.\"\"\"\r\n",
        "    self._current_time_step = self._reset()\r\n",
        "    return self._current_time_step\r\n",
        "\r\n",
        "  def step(self, action):\r\n",
        "    \"\"\"Apply action and return new time_step.\"\"\"\r\n",
        "    if self._current_time_step is None:\r\n",
        "        return self.reset()\r\n",
        "    self._current_time_step = self._step(action)\r\n",
        "    return self._current_time_step\r\n",
        "\r\n",
        "  def current_time_step(self):\r\n",
        "    return self._current_time_step\r\n",
        "\r\n",
        "  def time_step_spec(self):\r\n",
        "    \"\"\"Return time_step_spec.\"\"\"\r\n",
        "\r\n",
        "  @abc.abstractmethod\r\n",
        "  def observation_spec(self):\r\n",
        "    \"\"\"Return observation_spec.\"\"\"\r\n",
        "\r\n",
        "  @abc.abstractmethod\r\n",
        "  def action_spec(self):\r\n",
        "    \"\"\"Return action_spec.\"\"\"\r\n",
        "\r\n",
        "  @abc.abstractmethod\r\n",
        "  def _reset(self):\r\n",
        "    \"\"\"Return initial_time_step.\"\"\"\r\n",
        "\r\n",
        "  @abc.abstractmethod\r\n",
        "  def _step(self, action):\r\n",
        "    \"\"\"Apply action and return new time_step.\"\"\"\r\n"
      ],
      "execution_count": null,
      "outputs": []
    },
    {
      "cell_type": "code",
      "metadata": {
        "id": "ASMHYnIKBDbC"
      },
      "source": [
        ""
      ],
      "execution_count": null,
      "outputs": []
    },
    {
      "cell_type": "code",
      "metadata": {
        "colab": {
          "base_uri": "https://localhost:8080/"
        },
        "id": "QwjcK9TOBDYa",
        "outputId": "1bd1973d-2656-4534-d443-389c4a00b045"
      },
      "source": [
        "environment = suite_gym.load('CartPole-v0')\r\n",
        "print('action_spec:', environment.action_spec())\r\n",
        "print('time_step_spec.observation:', environment.time_step_spec().observation)\r\n",
        "print('time_step_spec.step_type:', environment.time_step_spec().step_type)\r\n",
        "print('time_step_spec.discount:', environment.time_step_spec().discount)\r\n",
        "print('time_step_spec.reward:', environment.time_step_spec().reward)\r\n"
      ],
      "execution_count": null,
      "outputs": [
        {
          "output_type": "stream",
          "text": [
            "action_spec: BoundedArraySpec(shape=(), dtype=dtype('int64'), name='action', minimum=0, maximum=1)\n",
            "time_step_spec.observation: BoundedArraySpec(shape=(4,), dtype=dtype('float32'), name='observation', minimum=[-4.8000002e+00 -3.4028235e+38 -4.1887903e-01 -3.4028235e+38], maximum=[4.8000002e+00 3.4028235e+38 4.1887903e-01 3.4028235e+38])\n",
            "time_step_spec.step_type: ArraySpec(shape=(), dtype=dtype('int32'), name='step_type')\n",
            "time_step_spec.discount: BoundedArraySpec(shape=(), dtype=dtype('float32'), name='discount', minimum=0.0, maximum=1.0)\n",
            "time_step_spec.reward: ArraySpec(shape=(), dtype=dtype('float32'), name='reward')\n"
          ],
          "name": "stdout"
        }
      ]
    },
    {
      "cell_type": "code",
      "metadata": {
        "id": "EUfBjjNHBDVx"
      },
      "source": [
        ""
      ],
      "execution_count": null,
      "outputs": []
    },
    {
      "cell_type": "code",
      "metadata": {
        "colab": {
          "base_uri": "https://localhost:8080/"
        },
        "id": "a9nlLrvYBDTB",
        "outputId": "3884eecb-bafe-4629-efb4-14e0576f4fe5"
      },
      "source": [
        "action = np.array(1, dtype=np.int32)\r\n",
        "time_step = environment.reset()\r\n",
        "print(time_step)\r\n",
        "while not time_step.is_last():\r\n",
        "  time_step = environment.step(action)\r\n",
        "  print(time_step)\r\n"
      ],
      "execution_count": null,
      "outputs": [
        {
          "output_type": "stream",
          "text": [
            "TimeStep(step_type=array(0, dtype=int32), reward=array(0., dtype=float32), discount=array(1., dtype=float32), observation=array([ 0.04048501,  0.02938754, -0.03548152, -0.0374779 ], dtype=float32))\n",
            "TimeStep(step_type=array(1, dtype=int32), reward=array(1., dtype=float32), discount=array(1., dtype=float32), observation=array([ 0.04107276,  0.22499986, -0.03623108, -0.34114107], dtype=float32))\n",
            "TimeStep(step_type=array(1, dtype=int32), reward=array(1., dtype=float32), discount=array(1., dtype=float32), observation=array([ 0.04557276,  0.42061806, -0.0430539 , -0.64502543], dtype=float32))\n",
            "TimeStep(step_type=array(1, dtype=int32), reward=array(1., dtype=float32), discount=array(1., dtype=float32), observation=array([ 0.05398512,  0.61631274, -0.05595441, -0.9509493 ], dtype=float32))\n",
            "TimeStep(step_type=array(1, dtype=int32), reward=array(1., dtype=float32), discount=array(1., dtype=float32), observation=array([ 0.06631137,  0.8121413 , -0.0749734 , -1.2606745 ], dtype=float32))\n",
            "TimeStep(step_type=array(1, dtype=int32), reward=array(1., dtype=float32), discount=array(1., dtype=float32), observation=array([ 0.0825542 ,  1.0081378 , -0.10018688, -1.575865  ], dtype=float32))\n",
            "TimeStep(step_type=array(1, dtype=int32), reward=array(1., dtype=float32), discount=array(1., dtype=float32), observation=array([ 0.10271696,  1.2043011 , -0.13170418, -1.89804   ], dtype=float32))\n",
            "TimeStep(step_type=array(1, dtype=int32), reward=array(1., dtype=float32), discount=array(1., dtype=float32), observation=array([ 0.12680298,  1.4005809 , -0.169665  , -2.2285192 ], dtype=float32))\n",
            "TimeStep(step_type=array(2, dtype=int32), reward=array(1., dtype=float32), discount=array(0., dtype=float32), observation=array([ 0.1548146 ,  1.5968621 , -0.21423537, -2.5683558 ], dtype=float32))\n"
          ],
          "name": "stdout"
        }
      ]
    },
    {
      "cell_type": "code",
      "metadata": {
        "id": "bHSC80ViBDQK"
      },
      "source": [
        ""
      ],
      "execution_count": null,
      "outputs": []
    },
    {
      "cell_type": "code",
      "metadata": {
        "id": "6h_jUzCJBDNL"
      },
      "source": [
        "class CardGameEnv(py_environment.PyEnvironment):\r\n",
        "\r\n",
        "  def __init__(self):\r\n",
        "    self._action_spec = array_spec.BoundedArraySpec(\r\n",
        "        shape=(), dtype=np.int32, minimum=0, maximum=1, name='action')\r\n",
        "    self._observation_spec = array_spec.BoundedArraySpec(\r\n",
        "        shape=(1,), dtype=np.int32, minimum=0, name='observation')\r\n",
        "    self._state = 0\r\n",
        "    self._episode_ended = False\r\n",
        "\r\n",
        "  def action_spec(self):\r\n",
        "    return self._action_spec\r\n",
        "\r\n",
        "  def observation_spec(self):\r\n",
        "    return self._observation_spec\r\n",
        "\r\n",
        "  def _reset(self):\r\n",
        "    self._state = 0\r\n",
        "    self._episode_ended = False\r\n",
        "    return ts.restart(np.array([self._state], dtype=np.int32))\r\n",
        "\r\n",
        "  def _step(self, action):\r\n",
        "\r\n",
        "    if self._episode_ended:\r\n",
        "      # The last action ended the episode. Ignore the current action and start\r\n",
        "      # a new episode.\r\n",
        "      return self.reset()\r\n",
        "\r\n",
        "    # Make sure episodes don't go on forever.\r\n",
        "    if action == 1:\r\n",
        "      self._episode_ended = True\r\n",
        "    elif action == 0:\r\n",
        "      new_card = np.random.randint(1, 11)\r\n",
        "      self._state += new_card\r\n",
        "    else:\r\n",
        "      raise ValueError('`action` should be 0 or 1.')\r\n",
        "\r\n",
        "    if self._episode_ended or self._state >= 21:\r\n",
        "      reward = self._state - 21 if self._state <= 21 else -21\r\n",
        "      return ts.termination(np.array([self._state], dtype=np.int32), reward)\r\n",
        "    else:\r\n",
        "      return ts.transition(\r\n",
        "          np.array([self._state], dtype=np.int32), reward=0.0, discount=1.0)\r\n"
      ],
      "execution_count": null,
      "outputs": []
    },
    {
      "cell_type": "code",
      "metadata": {
        "id": "dOA9sHyKBDKJ"
      },
      "source": [
        ""
      ],
      "execution_count": null,
      "outputs": []
    },
    {
      "cell_type": "code",
      "metadata": {
        "id": "srDLVWJwBDHT"
      },
      "source": [
        "environment = CardGameEnv()\r\n",
        "utils.validate_py_environment(environment, episodes=5)\r\n"
      ],
      "execution_count": null,
      "outputs": []
    },
    {
      "cell_type": "code",
      "metadata": {
        "id": "bF0owSa8BDEU"
      },
      "source": [
        ""
      ],
      "execution_count": null,
      "outputs": []
    },
    {
      "cell_type": "code",
      "metadata": {
        "colab": {
          "base_uri": "https://localhost:8080/"
        },
        "id": "TZW9oBueBDB3",
        "outputId": "6f9b91e5-c631-48ac-8705-3afcb6dc3569"
      },
      "source": [
        "get_new_card_action = np.array(0, dtype=np.int32)\r\n",
        "end_round_action = np.array(1, dtype=np.int32)\r\n",
        "\r\n",
        "environment = CardGameEnv()\r\n",
        "time_step = environment.reset()\r\n",
        "print(time_step)\r\n",
        "cumulative_reward = time_step.reward\r\n",
        "\r\n",
        "for _ in range(3):\r\n",
        "  time_step = environment.step(get_new_card_action)\r\n",
        "  print(time_step)\r\n",
        "  cumulative_reward += time_step.reward\r\n",
        "\r\n",
        "time_step = environment.step(end_round_action)\r\n",
        "print(time_step)\r\n",
        "cumulative_reward += time_step.reward\r\n",
        "print('Final Reward = ', cumulative_reward)\r\n"
      ],
      "execution_count": null,
      "outputs": [
        {
          "output_type": "stream",
          "text": [
            "TimeStep(step_type=array(0, dtype=int32), reward=array(0., dtype=float32), discount=array(1., dtype=float32), observation=array([0], dtype=int32))\n",
            "TimeStep(step_type=array(1, dtype=int32), reward=array(0., dtype=float32), discount=array(1., dtype=float32), observation=array([6], dtype=int32))\n",
            "TimeStep(step_type=array(1, dtype=int32), reward=array(0., dtype=float32), discount=array(1., dtype=float32), observation=array([16], dtype=int32))\n",
            "TimeStep(step_type=array(2, dtype=int32), reward=array(-21., dtype=float32), discount=array(0., dtype=float32), observation=array([24], dtype=int32))\n",
            "TimeStep(step_type=array(2, dtype=int32), reward=array(-21., dtype=float32), discount=array(0., dtype=float32), observation=array([24], dtype=int32))\n",
            "Final Reward =  -42.0\n"
          ],
          "name": "stdout"
        }
      ]
    },
    {
      "cell_type": "code",
      "metadata": {
        "id": "y8tzIbtjBC-8"
      },
      "source": [
        ""
      ],
      "execution_count": null,
      "outputs": []
    },
    {
      "cell_type": "code",
      "metadata": {
        "colab": {
          "base_uri": "https://localhost:8080/"
        },
        "id": "_GiGm7dNBC8J",
        "outputId": "ea189a26-7005-4e49-fb71-a6781b070382"
      },
      "source": [
        "env = suite_gym.load('Pendulum-v0')\r\n",
        "print('Action Spec:', env.action_spec())\r\n",
        "\r\n",
        "discrete_action_env = wrappers.ActionDiscretizeWrapper(env, num_actions=5)\r\n",
        "print('Discretized Action Spec:', discrete_action_env.action_spec())\r\n"
      ],
      "execution_count": null,
      "outputs": [
        {
          "output_type": "stream",
          "text": [
            "Action Spec: BoundedArraySpec(shape=(1,), dtype=dtype('float32'), name='action', minimum=-2.0, maximum=2.0)\n",
            "Discretized Action Spec: BoundedArraySpec(shape=(), dtype=dtype('int32'), name='action', minimum=0, maximum=4)\n"
          ],
          "name": "stdout"
        }
      ]
    },
    {
      "cell_type": "code",
      "metadata": {
        "id": "LmqMvu16BC5Y"
      },
      "source": [
        ""
      ],
      "execution_count": null,
      "outputs": []
    },
    {
      "cell_type": "code",
      "metadata": {
        "id": "Eyzc-ocpBC21"
      },
      "source": [
        "class TFEnvironment(object):\r\n",
        "\r\n",
        "  def time_step_spec(self):\r\n",
        "    \"\"\"Describes the `TimeStep` tensors returned by `step()`.\"\"\"\r\n",
        "\r\n",
        "  def observation_spec(self):\r\n",
        "    \"\"\"Defines the `TensorSpec` of observations provided by the environment.\"\"\"\r\n",
        "\r\n",
        "  def action_spec(self):\r\n",
        "    \"\"\"Describes the TensorSpecs of the action expected by `step(action)`.\"\"\"\r\n",
        "\r\n",
        "  def reset(self):\r\n",
        "    \"\"\"Returns the current `TimeStep` after resetting the Environment.\"\"\"\r\n",
        "    return self._reset()\r\n",
        "\r\n",
        "  def current_time_step(self):\r\n",
        "    \"\"\"Returns the current `TimeStep`.\"\"\"\r\n",
        "    return self._current_time_step()\r\n",
        "\r\n",
        "  def step(self, action):\r\n",
        "    \"\"\"Applies the action and returns the new `TimeStep`.\"\"\"\r\n",
        "    return self._step(action)\r\n",
        "\r\n",
        "  @abc.abstractmethod\r\n",
        "  def _reset(self):\r\n",
        "    \"\"\"Returns the current `TimeStep` after resetting the Environment.\"\"\"\r\n",
        "\r\n",
        "  @abc.abstractmethod\r\n",
        "  def _current_time_step(self):\r\n",
        "    \"\"\"Returns the current `TimeStep`.\"\"\"\r\n",
        "\r\n",
        "  @abc.abstractmethod\r\n",
        "  def _step(self, action):\r\n",
        "    \"\"\"Applies the action and returns the new `TimeStep`.\"\"\"\r\n"
      ],
      "execution_count": null,
      "outputs": []
    },
    {
      "cell_type": "code",
      "metadata": {
        "id": "veDqHKiOBC0a"
      },
      "source": [
        ""
      ],
      "execution_count": null,
      "outputs": []
    },
    {
      "cell_type": "code",
      "metadata": {
        "colab": {
          "base_uri": "https://localhost:8080/"
        },
        "id": "TBC4itTcBCx1",
        "outputId": "132e39ae-ee44-4b50-db39-ae15bdb7a1d5"
      },
      "source": [
        "env = suite_gym.load('CartPole-v0')\r\n",
        "tf_env = tf_py_environment.TFPyEnvironment(env)\r\n",
        "\r\n",
        "print(isinstance(tf_env, tf_environment.TFEnvironment))\r\n",
        "print(\"TimeStep Specs:\", tf_env.time_step_spec())\r\n",
        "print(\"Action Specs:\", tf_env.action_spec())\r\n"
      ],
      "execution_count": null,
      "outputs": [
        {
          "output_type": "stream",
          "text": [
            "True\n",
            "TimeStep Specs: TimeStep(step_type=TensorSpec(shape=(), dtype=tf.int32, name='step_type'), reward=TensorSpec(shape=(), dtype=tf.float32, name='reward'), discount=BoundedTensorSpec(shape=(), dtype=tf.float32, name='discount', minimum=array(0., dtype=float32), maximum=array(1., dtype=float32)), observation=BoundedTensorSpec(shape=(4,), dtype=tf.float32, name='observation', minimum=array([-4.8000002e+00, -3.4028235e+38, -4.1887903e-01, -3.4028235e+38],\n",
            "      dtype=float32), maximum=array([4.8000002e+00, 3.4028235e+38, 4.1887903e-01, 3.4028235e+38],\n",
            "      dtype=float32)))\n",
            "Action Specs: BoundedTensorSpec(shape=(), dtype=tf.int64, name='action', minimum=array(0), maximum=array(1))\n"
          ],
          "name": "stdout"
        }
      ]
    },
    {
      "cell_type": "code",
      "metadata": {
        "id": "IP_k0zubBCvX"
      },
      "source": [
        ""
      ],
      "execution_count": null,
      "outputs": []
    },
    {
      "cell_type": "code",
      "metadata": {
        "colab": {
          "base_uri": "https://localhost:8080/"
        },
        "id": "MLmT5pkwBcDN",
        "outputId": "480fe1d5-d42e-4f2c-8bce-acafe84e57c2"
      },
      "source": [
        "env = suite_gym.load('CartPole-v0')\r\n",
        "\r\n",
        "tf_env = tf_py_environment.TFPyEnvironment(env)\r\n",
        "# reset() creates the initial time_step after resetting the environment.\r\n",
        "time_step = tf_env.reset()\r\n",
        "num_steps = 3\r\n",
        "transitions = []\r\n",
        "reward = 0\r\n",
        "for i in range(num_steps):\r\n",
        "  action = tf.constant([i % 2])\r\n",
        "  # applies the action and returns the new TimeStep.\r\n",
        "  next_time_step = tf_env.step(action)\r\n",
        "  transitions.append([time_step, action, next_time_step])\r\n",
        "  reward += next_time_step.reward\r\n",
        "  time_step = next_time_step\r\n",
        "\r\n",
        "np_transitions = tf.nest.map_structure(lambda x: x.numpy(), transitions)\r\n",
        "print('\\n'.join(map(str, np_transitions)))\r\n",
        "print('Total reward:', reward.numpy())\r\n"
      ],
      "execution_count": null,
      "outputs": [
        {
          "output_type": "stream",
          "text": [
            "[TimeStep(step_type=array([0], dtype=int32), reward=array([0.], dtype=float32), discount=array([1.], dtype=float32), observation=array([[ 0.04411125, -0.01557221,  0.04244439, -0.03571694]],\n",
            "      dtype=float32)), array([0], dtype=int32), TimeStep(step_type=array([1], dtype=int32), reward=array([1.], dtype=float32), discount=array([1.], dtype=float32), observation=array([[ 0.0437998 , -0.21127631,  0.04173005,  0.27004972]],\n",
            "      dtype=float32))]\n",
            "[TimeStep(step_type=array([1], dtype=int32), reward=array([1.], dtype=float32), discount=array([1.], dtype=float32), observation=array([[ 0.0437998 , -0.21127631,  0.04173005,  0.27004972]],\n",
            "      dtype=float32)), array([1], dtype=int32), TimeStep(step_type=array([1], dtype=int32), reward=array([1.], dtype=float32), discount=array([1.], dtype=float32), observation=array([[ 0.03957428, -0.01677394,  0.04713105, -0.00918477]],\n",
            "      dtype=float32))]\n",
            "[TimeStep(step_type=array([1], dtype=int32), reward=array([1.], dtype=float32), discount=array([1.], dtype=float32), observation=array([[ 0.03957428, -0.01677394,  0.04713105, -0.00918477]],\n",
            "      dtype=float32)), array([0], dtype=int32), TimeStep(step_type=array([1], dtype=int32), reward=array([1.], dtype=float32), discount=array([1.], dtype=float32), observation=array([[ 0.0392388 , -0.21253902,  0.04694735,  0.29798818]],\n",
            "      dtype=float32))]\n",
            "Total reward: [3.]\n"
          ],
          "name": "stdout"
        }
      ]
    },
    {
      "cell_type": "code",
      "metadata": {
        "id": "R_-WRuCRBcAn"
      },
      "source": [
        ""
      ],
      "execution_count": null,
      "outputs": []
    },
    {
      "cell_type": "code",
      "metadata": {
        "colab": {
          "base_uri": "https://localhost:8080/"
        },
        "id": "pI5g5JwfBb-F",
        "outputId": "d0b36b56-cc3b-4211-958e-959f9c198696"
      },
      "source": [
        "env = suite_gym.load('CartPole-v0')\r\n",
        "tf_env = tf_py_environment.TFPyEnvironment(env)\r\n",
        "\r\n",
        "time_step = tf_env.reset()\r\n",
        "rewards = []\r\n",
        "steps = []\r\n",
        "num_episodes = 5\r\n",
        "\r\n",
        "for _ in range(num_episodes):\r\n",
        "  episode_reward = 0\r\n",
        "  episode_steps = 0\r\n",
        "  while not time_step.is_last():\r\n",
        "    action = tf.random.uniform([1], 0, 2, dtype=tf.int32)\r\n",
        "    time_step = tf_env.step(action)\r\n",
        "    episode_steps += 1\r\n",
        "    episode_reward += time_step.reward.numpy()\r\n",
        "  rewards.append(episode_reward)\r\n",
        "  steps.append(episode_steps)\r\n",
        "  time_step = tf_env.reset()\r\n",
        "\r\n",
        "num_steps = np.sum(steps)\r\n",
        "avg_length = np.mean(steps)\r\n",
        "avg_reward = np.mean(rewards)\r\n",
        "\r\n",
        "print('num_episodes:', num_episodes, 'num_steps:', num_steps)\r\n",
        "print('avg_length', avg_length, 'avg_reward:', avg_reward)\r\n"
      ],
      "execution_count": null,
      "outputs": [
        {
          "output_type": "stream",
          "text": [
            "num_episodes: 5 num_steps: 103\n",
            "avg_length 20.6 avg_reward: 20.6\n"
          ],
          "name": "stdout"
        }
      ]
    },
    {
      "cell_type": "code",
      "metadata": {
        "id": "YvUa8bQGBb7z"
      },
      "source": [
        ""
      ],
      "execution_count": null,
      "outputs": []
    },
    {
      "cell_type": "code",
      "metadata": {
        "id": "cFu--kyqBb48"
      },
      "source": [
        ""
      ],
      "execution_count": null,
      "outputs": []
    },
    {
      "cell_type": "code",
      "metadata": {
        "id": "OE0--SPrBb2L"
      },
      "source": [
        ""
      ],
      "execution_count": null,
      "outputs": []
    },
    {
      "cell_type": "code",
      "metadata": {
        "id": "TLpMh5lQBbzi"
      },
      "source": [
        ""
      ],
      "execution_count": null,
      "outputs": []
    },
    {
      "cell_type": "code",
      "metadata": {
        "id": "Zedq1b_-Bbw1"
      },
      "source": [
        ""
      ],
      "execution_count": null,
      "outputs": []
    },
    {
      "cell_type": "code",
      "metadata": {
        "id": "xxQk02kOBbsi"
      },
      "source": [
        ""
      ],
      "execution_count": null,
      "outputs": []
    },
    {
      "cell_type": "code",
      "metadata": {
        "id": "J_d-oO5HBbqW"
      },
      "source": [
        ""
      ],
      "execution_count": null,
      "outputs": []
    },
    {
      "cell_type": "code",
      "metadata": {
        "id": "H5idt_b4Dd8v"
      },
      "source": [
        ""
      ],
      "execution_count": null,
      "outputs": []
    },
    {
      "cell_type": "code",
      "metadata": {
        "id": "YPkeeokODd6B"
      },
      "source": [
        ""
      ],
      "execution_count": null,
      "outputs": []
    },
    {
      "cell_type": "code",
      "metadata": {
        "id": "_DE6FsSvDd3x"
      },
      "source": [
        ""
      ],
      "execution_count": null,
      "outputs": []
    },
    {
      "cell_type": "code",
      "metadata": {
        "id": "vK_kWlaqDd0z"
      },
      "source": [
        ""
      ],
      "execution_count": null,
      "outputs": []
    },
    {
      "cell_type": "code",
      "metadata": {
        "id": "oNslxQ-gDdyS"
      },
      "source": [
        ""
      ],
      "execution_count": null,
      "outputs": []
    },
    {
      "cell_type": "code",
      "metadata": {
        "id": "DD17B_ghDdvb"
      },
      "source": [
        ""
      ],
      "execution_count": null,
      "outputs": []
    },
    {
      "cell_type": "code",
      "metadata": {
        "id": "bvaih0AZDdsz"
      },
      "source": [
        ""
      ],
      "execution_count": null,
      "outputs": []
    },
    {
      "cell_type": "code",
      "metadata": {
        "id": "zYgFVbb-Ddp8"
      },
      "source": [
        ""
      ],
      "execution_count": null,
      "outputs": []
    },
    {
      "cell_type": "code",
      "metadata": {
        "id": "cgEOZOJqDdnF"
      },
      "source": [
        ""
      ],
      "execution_count": null,
      "outputs": []
    },
    {
      "cell_type": "code",
      "metadata": {
        "id": "jm1pNRbsDdkG"
      },
      "source": [
        ""
      ],
      "execution_count": null,
      "outputs": []
    },
    {
      "cell_type": "code",
      "metadata": {
        "id": "s1ysjEWDDdhk"
      },
      "source": [
        ""
      ],
      "execution_count": null,
      "outputs": []
    },
    {
      "cell_type": "code",
      "metadata": {
        "id": "pxrVkgdRDdeh"
      },
      "source": [
        ""
      ],
      "execution_count": null,
      "outputs": []
    },
    {
      "cell_type": "code",
      "metadata": {
        "id": "AP5iRvmODdbr"
      },
      "source": [
        ""
      ],
      "execution_count": null,
      "outputs": []
    },
    {
      "cell_type": "code",
      "metadata": {
        "id": "-ahp72qBDdY7"
      },
      "source": [
        ""
      ],
      "execution_count": null,
      "outputs": []
    },
    {
      "cell_type": "code",
      "metadata": {
        "id": "GOX_EyAeDdWN"
      },
      "source": [
        ""
      ],
      "execution_count": null,
      "outputs": []
    },
    {
      "cell_type": "code",
      "metadata": {
        "id": "ze8lxfbuDdTU"
      },
      "source": [
        ""
      ],
      "execution_count": null,
      "outputs": []
    },
    {
      "cell_type": "code",
      "metadata": {
        "id": "ttrEzmBODdQd"
      },
      "source": [
        ""
      ],
      "execution_count": null,
      "outputs": []
    },
    {
      "cell_type": "code",
      "metadata": {
        "id": "szFYqfXBDdNm"
      },
      "source": [
        ""
      ],
      "execution_count": null,
      "outputs": []
    },
    {
      "cell_type": "code",
      "metadata": {
        "id": "7qB4X7-_DdKl"
      },
      "source": [
        ""
      ],
      "execution_count": null,
      "outputs": []
    },
    {
      "cell_type": "code",
      "metadata": {
        "id": "3948JKdEDdHz"
      },
      "source": [
        ""
      ],
      "execution_count": null,
      "outputs": []
    },
    {
      "cell_type": "code",
      "metadata": {
        "id": "gPRHytEIDdE-"
      },
      "source": [
        ""
      ],
      "execution_count": null,
      "outputs": []
    },
    {
      "cell_type": "code",
      "metadata": {
        "id": "8NRtGWY0DdCF"
      },
      "source": [
        ""
      ],
      "execution_count": null,
      "outputs": []
    },
    {
      "cell_type": "code",
      "metadata": {
        "id": "8igFl5nvDc_S"
      },
      "source": [
        ""
      ],
      "execution_count": null,
      "outputs": []
    },
    {
      "cell_type": "code",
      "metadata": {
        "id": "gVak4atRDc8F"
      },
      "source": [
        ""
      ],
      "execution_count": null,
      "outputs": []
    },
    {
      "cell_type": "code",
      "metadata": {
        "id": "v7F5mbjkDc5N"
      },
      "source": [
        ""
      ],
      "execution_count": null,
      "outputs": []
    },
    {
      "cell_type": "code",
      "metadata": {
        "id": "14gwSdf7Dc2M"
      },
      "source": [
        ""
      ],
      "execution_count": null,
      "outputs": []
    },
    {
      "cell_type": "code",
      "metadata": {
        "id": "oFpdtnXxDczY"
      },
      "source": [
        ""
      ],
      "execution_count": null,
      "outputs": []
    },
    {
      "cell_type": "code",
      "metadata": {
        "id": "9TTWXRHvDcwz"
      },
      "source": [
        ""
      ],
      "execution_count": null,
      "outputs": []
    },
    {
      "cell_type": "code",
      "metadata": {
        "id": "qUWZUqWoDct6"
      },
      "source": [
        ""
      ],
      "execution_count": null,
      "outputs": []
    },
    {
      "cell_type": "code",
      "metadata": {
        "id": "iQ18SUiwDcrK"
      },
      "source": [
        ""
      ],
      "execution_count": null,
      "outputs": []
    },
    {
      "cell_type": "code",
      "metadata": {
        "id": "AbuTWja9DcoV"
      },
      "source": [
        ""
      ],
      "execution_count": null,
      "outputs": []
    },
    {
      "cell_type": "code",
      "metadata": {
        "id": "F2lbWERLDcl4"
      },
      "source": [
        ""
      ],
      "execution_count": null,
      "outputs": []
    },
    {
      "cell_type": "code",
      "metadata": {
        "id": "xmxlLQyZDcjn"
      },
      "source": [
        ""
      ],
      "execution_count": null,
      "outputs": []
    },
    {
      "cell_type": "code",
      "metadata": {
        "id": "owi5jGgODchG"
      },
      "source": [
        ""
      ],
      "execution_count": null,
      "outputs": []
    },
    {
      "cell_type": "code",
      "metadata": {
        "id": "RTjtEabiDce6"
      },
      "source": [
        ""
      ],
      "execution_count": null,
      "outputs": []
    },
    {
      "cell_type": "code",
      "metadata": {
        "id": "PjJihiIHDccN"
      },
      "source": [
        ""
      ],
      "execution_count": null,
      "outputs": []
    },
    {
      "cell_type": "code",
      "metadata": {
        "id": "1MvwASq9DcZn"
      },
      "source": [
        ""
      ],
      "execution_count": null,
      "outputs": []
    },
    {
      "cell_type": "code",
      "metadata": {
        "id": "O7Y72Cz4DcXF"
      },
      "source": [
        ""
      ],
      "execution_count": null,
      "outputs": []
    },
    {
      "cell_type": "code",
      "metadata": {
        "id": "OLVd2CzHDcUj"
      },
      "source": [
        ""
      ],
      "execution_count": null,
      "outputs": []
    },
    {
      "cell_type": "code",
      "metadata": {
        "id": "CW27zJfFDcQK"
      },
      "source": [
        ""
      ],
      "execution_count": null,
      "outputs": []
    }
  ]
}
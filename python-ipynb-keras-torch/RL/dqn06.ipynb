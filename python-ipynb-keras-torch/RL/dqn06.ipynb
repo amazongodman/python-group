{
  "nbformat": 4,
  "nbformat_minor": 0,
  "metadata": {
    "colab": {
      "name": "dqn06.ipynb",
      "provenance": [],
      "collapsed_sections": []
    },
    "kernelspec": {
      "name": "python3",
      "display_name": "Python 3"
    }
  },
  "cells": [
    {
      "cell_type": "code",
      "metadata": {
        "id": "1UUOQo9EjIfW"
      },
      "source": [
        "https://gist.github.com/SamKirkiles/f17dd093f68ded1374896250ffd4625b#file-reinforce-pg-simple-py"
      ],
      "execution_count": null,
      "outputs": []
    },
    {
      "cell_type": "code",
      "metadata": {
        "colab": {
          "base_uri": "https://localhost:8080/"
        },
        "id": "4pIerU6FS2LE",
        "outputId": "a0a44077-35aa-4af3-d784-91b055193cdd"
      },
      "source": [
        "import gym\r\n",
        "import numpy as np\r\n",
        "import matplotlib.pyplot as plt\r\n",
        "import copy \r\n",
        "\r\n",
        "#Hyperparameters\r\n",
        "NUM_EPISODES = 10000\r\n",
        "LEARNING_RATE = 0.000025\r\n",
        "GAMMA = 0.99\r\n",
        "\r\n",
        "# Create gym and seed numpy\r\n",
        "env = gym.make('CartPole-v0')\r\n",
        "nA = env.action_space.n\r\n",
        "np.random.seed(1)\r\n",
        "\r\n",
        "# Init weight\r\n",
        "w = np.random.rand(4, 2)\r\n",
        "\r\n",
        "# Keep stats for final print of graph\r\n",
        "episode_rewards = []\r\n",
        "\r\n",
        "# Our policy that maps state to action parameterized by w\r\n",
        "def policy(state,w):\r\n",
        "\tz = state.dot(w)\r\n",
        "\texp = np.exp(z)\r\n",
        "\treturn exp/np.sum(exp)\r\n",
        "\r\n",
        "# Vectorized softmax Jacobian\r\n",
        "def softmax_grad(softmax):\r\n",
        "    s = softmax.reshape(-1,1)\r\n",
        "    return np.diagflat(s) - np.dot(s, s.T)\r\n",
        "\r\n",
        "# Main loop \r\n",
        "# Make sure you update your weights AFTER each episode\r\n",
        "for e in range(NUM_EPISODES):\r\n",
        "\r\n",
        "\tstate = env.reset()[None,:]\r\n",
        "\r\n",
        "\tgrads = []\t\r\n",
        "\trewards = []\r\n",
        "\r\n",
        "\t# Keep track of game score to print\r\n",
        "\tscore = 0\r\n",
        "\r\n",
        "\twhile True:\r\n",
        "\r\n",
        "\t\t# Uncomment to see your model train in real time (slower)\r\n",
        "\t\t#env.render()\r\n",
        "\r\n",
        "\t\t# Sample from policy and take action in environment\r\n",
        "\t\tprobs = policy(state,w)\r\n",
        "\t\taction = np.random.choice(nA,p=probs[0])\r\n",
        "\t\tnext_state,reward,done,_ = env.step(action)\r\n",
        "\t\tnext_state = next_state[None,:]\r\n",
        "\r\n",
        "\t\t# Compute gradient and save with reward in memory for our weight updates\r\n",
        "\t\tdsoftmax = softmax_grad(probs)[action,:]\r\n",
        "\t\tdlog = dsoftmax / probs[0,action]\r\n",
        "\t\tgrad = state.T.dot(dlog[None,:])\r\n",
        "\r\n",
        "\t\tgrads.append(grad)\r\n",
        "\t\trewards.append(reward)\t\t\r\n",
        "\r\n",
        "\t\tscore+=reward\r\n",
        "\r\n",
        "\t\t# Dont forget to update your old state to the new state\r\n",
        "\t\tstate = next_state\r\n",
        "\r\n",
        "\t\tif done:\r\n",
        "\t\t\tbreak\r\n",
        "\r\n",
        "\t# Weight update\r\n",
        "\tfor i in range(len(grads)):\r\n",
        "\r\n",
        "\t\t# Loop through everything that happend in the episode and update towards the log policy gradient times **FUTURE** reward\r\n",
        "\t\tw += LEARNING_RATE * grads[i] * sum([ r * (GAMMA ** r) for t,r in enumerate(rewards[i:])])\r\n",
        "\t\r\n",
        "\t# Append for logging and print\r\n",
        "\tepisode_rewards.append(score) \r\n",
        "\tprint(\"EP: \" + str(e) + \" Score: \" + str(score) + \"         \",end=\"\\r\", flush=False) \r\n",
        "\r\n"
      ],
      "execution_count": null,
      "outputs": [
        {
          "output_type": "stream",
          "text": [
            ""
          ],
          "name": "stdout"
        }
      ]
    },
    {
      "cell_type": "code",
      "metadata": {
        "colab": {
          "base_uri": "https://localhost:8080/",
          "height": 265
        },
        "id": "ZU8MZgicS3GU",
        "outputId": "94971804-f8cd-4a50-bf16-21f96994d6d9"
      },
      "source": [
        "plt.plot(np.arange(NUM_EPISODES),episode_rewards)\r\n",
        "plt.show()\r\n",
        "env.close()"
      ],
      "execution_count": null,
      "outputs": [
        {
          "output_type": "display_data",
          "data": {
            "image/png": "[encoded data removed]",
            "text/plain": [
              "<Figure size 432x288 with 1 Axes>"
            ]
          },
          "metadata": {
            "tags": [],
            "needs_background": "light"
          }
        }
      ]
    }
  ]
}
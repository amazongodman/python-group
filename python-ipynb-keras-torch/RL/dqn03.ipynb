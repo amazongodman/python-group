{
  "nbformat": 4,
  "nbformat_minor": 0,
  "metadata": {
    "colab": {
      "name": "dqn03.ipynb",
      "provenance": [],
      "collapsed_sections": []
    },
    "kernelspec": {
      "name": "python3",
      "display_name": "Python 3"
    }
  },
  "cells": [
    {
      "cell_type": "code",
      "metadata": {
        "id": "NvXNGgJH408u"
      },
      "source": [
        ""
      ],
      "execution_count": null,
      "outputs": []
    },
    {
      "cell_type": "code",
      "metadata": {
        "id": "vMjAIZB342JJ"
      },
      "source": [
        "https://adventuresinmachinelearning.com/reinforcement-learning-tensorflow/"
      ],
      "execution_count": null,
      "outputs": []
    },
    {
      "cell_type": "code",
      "metadata": {
        "id": "K-UTFtdo42Gw"
      },
      "source": [
        "https://qiita.com/pocokhc/items/a8120b0abd5941dd7a9f"
      ],
      "execution_count": null,
      "outputs": []
    },
    {
      "cell_type": "code",
      "metadata": {
        "colab": {
          "base_uri": "https://localhost:8080/"
        },
        "id": "VHGWXfXY42EK",
        "outputId": "c7314b11-a415-4754-cc94-f51c0d35e46a"
      },
      "source": [
        "#installing dependencies\r\n",
        "!apt-get -qq -y install libcusparse8.0 libnvrtc8.0 libnvtoolsext1 > /dev/null\r\n",
        "!ln -snf /usr/lib/x86_64-linux-gnu/libnvrtc-builtins.so.8.0 /usr/lib/x86_64-linux-gnu/libnvrtc-builtins.so\r\n",
        "!apt-get -qq -y install xvfb freeglut3-dev ffmpeg> /dev/null\r\n",
        "\r\n",
        "\r\n",
        "!pip install keras-rl\r\n",
        "!pip -q install gym\r\n",
        "!pip -q install pyglet\r\n",
        "!pip -q install pyopengl\r\n",
        "!pip -q install pyvirtualdisplay\r\n",
        "\r\n"
      ],
      "execution_count": null,
      "outputs": [
        {
          "output_type": "stream",
          "text": [
            "E: Unable to locate package libcusparse8.0\n",
            "E: Couldn't find any package by glob 'libcusparse8.0'\n",
            "E: Couldn't find any package by regex 'libcusparse8.0'\n",
            "E: Unable to locate package libnvrtc8.0\n",
            "E: Couldn't find any package by glob 'libnvrtc8.0'\n",
            "E: Couldn't find any package by regex 'libnvrtc8.0'\n",
            "Collecting keras-rl\n",
            "\u001b[?25l  Downloading https://files.pythonhosted.org/packages/ab/87/4b57eff8e4bd834cea0a75cd6c58198c9e42be29b600db9c14fafa72ec07/keras-rl-0.4.2.tar.gz (40kB)\n",
            "\u001b[K     |████████████████████████████████| 40kB 3.8MB/s \n",
            "\u001b[?25hRequirement already satisfied: keras>=2.0.7 in /usr/local/lib/python3.6/dist-packages (from keras-rl) (2.4.3)\n",
            "Requirement already satisfied: pyyaml in /usr/local/lib/python3.6/dist-packages (from keras>=2.0.7->keras-rl) (3.13)\n",
            "Requirement already satisfied: numpy>=1.9.1 in /usr/local/lib/python3.6/dist-packages (from keras>=2.0.7->keras-rl) (1.19.4)\n",
            "Requirement already satisfied: h5py in /usr/local/lib/python3.6/dist-packages (from keras>=2.0.7->keras-rl) (2.10.0)\n",
            "Requirement already satisfied: scipy>=0.14 in /usr/local/lib/python3.6/dist-packages (from keras>=2.0.7->keras-rl) (1.4.1)\n",
            "Requirement already satisfied: six in /usr/local/lib/python3.6/dist-packages (from h5py->keras>=2.0.7->keras-rl) (1.15.0)\n",
            "Building wheels for collected packages: keras-rl\n",
            "  Building wheel for keras-rl (setup.py) ... \u001b[?25l\u001b[?25hdone\n",
            "  Created wheel for keras-rl: filename=keras_rl-0.4.2-cp36-none-any.whl size=48382 sha256=69c1b91486bbb7f04519d6bb48af5b569c1be087be2176e299a9e6c33d6af1eb\n",
            "  Stored in directory: /root/.cache/pip/wheels/7d/4d/84/9254c9f2e8f51865cb0dac8e79da85330c735551d31f73c894\n",
            "Successfully built keras-rl\n",
            "Installing collected packages: keras-rl\n",
            "Successfully installed keras-rl-0.4.2\n"
          ],
          "name": "stdout"
        }
      ]
    },
    {
      "cell_type": "code",
      "metadata": {
        "id": "2p7ZOpu35FQl"
      },
      "source": [
        ""
      ],
      "execution_count": null,
      "outputs": []
    },
    {
      "cell_type": "code",
      "metadata": {
        "id": "UUofjeaG5FII"
      },
      "source": [
        ""
      ],
      "execution_count": null,
      "outputs": []
    },
    {
      "cell_type": "code",
      "metadata": {
        "id": "qsgIn7Wu5FFc"
      },
      "source": [
        ""
      ],
      "execution_count": null,
      "outputs": []
    },
    {
      "cell_type": "code",
      "metadata": {
        "id": "udlUA-Gh42Bj"
      },
      "source": [
        ""
      ],
      "execution_count": null,
      "outputs": []
    },
    {
      "cell_type": "code",
      "metadata": {
        "id": "nhFCau5a41-6"
      },
      "source": [
        ""
      ],
      "execution_count": null,
      "outputs": []
    },
    {
      "cell_type": "code",
      "metadata": {
        "colab": {
          "base_uri": "https://localhost:8080/"
        },
        "id": "tydwC04-418Z",
        "outputId": "70c91375-dcb9-4528-8639-80cdb042cd90"
      },
      "source": [
        "# Start virtual display\r\n",
        "from pyvirtualdisplay import Display\r\n",
        "display = Display(visible=0, size=(1024, 768))\r\n",
        "display.start()"
      ],
      "execution_count": null,
      "outputs": [
        {
          "output_type": "execute_result",
          "data": {
            "text/plain": [
              "<pyvirtualdisplay.display.Display at 0x7fe9fe106c50>"
            ]
          },
          "metadata": {
            "tags": []
          },
          "execution_count": 1
        }
      ]
    },
    {
      "cell_type": "code",
      "metadata": {
        "id": "TCBjrNrD5dei"
      },
      "source": [
        ""
      ],
      "execution_count": null,
      "outputs": []
    },
    {
      "cell_type": "code",
      "metadata": {
        "id": "5l4h5sZx5r5N"
      },
      "source": [
        ""
      ],
      "execution_count": null,
      "outputs": []
    },
    {
      "cell_type": "code",
      "metadata": {
        "colab": {
          "base_uri": "https://localhost:8080/"
        },
        "id": "Ux7H25L35r2d",
        "outputId": "3870de8d-32b2-4cf2-f26b-ab37849c188b"
      },
      "source": [
        "!pip install gym"
      ],
      "execution_count": null,
      "outputs": [
        {
          "output_type": "stream",
          "text": [
            "Requirement already satisfied: gym in /usr/local/lib/python3.6/dist-packages (0.17.3)\n",
            "Requirement already satisfied: numpy>=1.10.4 in /usr/local/lib/python3.6/dist-packages (from gym) (1.19.4)\n",
            "Requirement already satisfied: scipy in /usr/local/lib/python3.6/dist-packages (from gym) (1.4.1)\n",
            "Requirement already satisfied: cloudpickle<1.7.0,>=1.2.0 in /usr/local/lib/python3.6/dist-packages (from gym) (1.3.0)\n",
            "Requirement already satisfied: pyglet<=1.5.0,>=1.4.0 in /usr/local/lib/python3.6/dist-packages (from gym) (1.5.0)\n",
            "Requirement already satisfied: future in /usr/local/lib/python3.6/dist-packages (from pyglet<=1.5.0,>=1.4.0->gym) (0.16.0)\n"
          ],
          "name": "stdout"
        }
      ]
    },
    {
      "cell_type": "code",
      "metadata": {
        "id": "P6ZLKu6M5rze"
      },
      "source": [
        ""
      ],
      "execution_count": null,
      "outputs": []
    },
    {
      "cell_type": "code",
      "metadata": {
        "colab": {
          "base_uri": "https://localhost:8080/",
          "height": 607
        },
        "id": "ORso5nwV5rt0",
        "outputId": "bfee41a9-7510-4dd8-d859-d2ed81158c1e"
      },
      "source": [
        "!pip install keras\r\n",
        "!git clone https://github.com/matthiasplappert/keras-rl.git\r\n",
        "!pip install ./keras-rl"
      ],
      "execution_count": null,
      "outputs": [
        {
          "output_type": "stream",
          "text": [
            "Requirement already satisfied: keras in /usr/local/lib/python3.6/dist-packages (2.4.3)\n",
            "Requirement already satisfied: h5py in /usr/local/lib/python3.6/dist-packages (from keras) (2.10.0)\n",
            "Requirement already satisfied: pyyaml in /usr/local/lib/python3.6/dist-packages (from keras) (3.13)\n",
            "Requirement already satisfied: scipy>=0.14 in /usr/local/lib/python3.6/dist-packages (from keras) (1.4.1)\n",
            "Requirement already satisfied: numpy>=1.9.1 in /usr/local/lib/python3.6/dist-packages (from keras) (1.19.4)\n",
            "Requirement already satisfied: six in /usr/local/lib/python3.6/dist-packages (from h5py->keras) (1.15.0)\n",
            "Cloning into 'keras-rl'...\n",
            "remote: Enumerating objects: 1723, done.\u001b[K\n",
            "remote: Total 1723 (delta 0), reused 0 (delta 0), pack-reused 1723\u001b[K\n",
            "Receiving objects: 100% (1723/1723), 1.38 MiB | 3.26 MiB/s, done.\n",
            "Resolving deltas: 100% (1070/1070), done.\n",
            "Processing ./keras-rl\n",
            "Requirement already satisfied: keras>=2.0.7 in /usr/local/lib/python3.6/dist-packages (from keras-rl==0.4.2) (2.4.3)\n",
            "Requirement already satisfied: numpy>=1.9.1 in /usr/local/lib/python3.6/dist-packages (from keras>=2.0.7->keras-rl==0.4.2) (1.19.4)\n",
            "Requirement already satisfied: scipy>=0.14 in /usr/local/lib/python3.6/dist-packages (from keras>=2.0.7->keras-rl==0.4.2) (1.4.1)\n",
            "Requirement already satisfied: h5py in /usr/local/lib/python3.6/dist-packages (from keras>=2.0.7->keras-rl==0.4.2) (2.10.0)\n",
            "Requirement already satisfied: pyyaml in /usr/local/lib/python3.6/dist-packages (from keras>=2.0.7->keras-rl==0.4.2) (3.13)\n",
            "Requirement already satisfied: six in /usr/local/lib/python3.6/dist-packages (from h5py->keras>=2.0.7->keras-rl==0.4.2) (1.15.0)\n",
            "Building wheels for collected packages: keras-rl\n",
            "  Building wheel for keras-rl (setup.py) ... \u001b[?25l\u001b[?25hdone\n",
            "  Created wheel for keras-rl: filename=keras_rl-0.4.2-cp36-none-any.whl size=53322 sha256=2ce2fc20196b5296951f1afe6bc9d23d9202bdfa182002b53a4e4ba2457148a0\n",
            "  Stored in directory: /root/.cache/pip/wheels/ad/51/03/b9ad3280867ab260c7fbdcba8f184f81c449e9f9bd058f8ea3\n",
            "Successfully built keras-rl\n",
            "Installing collected packages: keras-rl\n",
            "  Found existing installation: keras-rl 0.4.2\n",
            "    Uninstalling keras-rl-0.4.2:\n",
            "      Successfully uninstalled keras-rl-0.4.2\n",
            "Successfully installed keras-rl-0.4.2\n"
          ],
          "name": "stdout"
        },
        {
          "output_type": "display_data",
          "data": {
            "application/vnd.colab-display-data+json": {
              "pip_warning": {
                "packages": [
                  "rl"
                ]
              }
            }
          },
          "metadata": {
            "tags": []
          }
        }
      ]
    },
    {
      "cell_type": "code",
      "metadata": {
        "colab": {
          "base_uri": "https://localhost:8080/"
        },
        "id": "KuOCRs3x5rrB",
        "outputId": "594d081b-e9df-440e-f7fb-9dac726733b7"
      },
      "source": [
        "!pip install scikit-learn"
      ],
      "execution_count": null,
      "outputs": [
        {
          "output_type": "stream",
          "text": [
            "Requirement already satisfied: scikit-learn in /usr/local/lib/python3.6/dist-packages (0.22.2.post1)\n",
            "Requirement already satisfied: numpy>=1.11.0 in /usr/local/lib/python3.6/dist-packages (from scikit-learn) (1.19.4)\n",
            "Requirement already satisfied: scipy>=0.17.0 in /usr/local/lib/python3.6/dist-packages (from scikit-learn) (1.4.1)\n",
            "Requirement already satisfied: joblib>=0.11 in /usr/local/lib/python3.6/dist-packages (from scikit-learn) (1.0.0)\n"
          ],
          "name": "stdout"
        }
      ]
    },
    {
      "cell_type": "code",
      "metadata": {
        "colab": {
          "base_uri": "https://localhost:8080/"
        },
        "id": "d7NK5OLJ5roQ",
        "outputId": "d4638e8b-5d37-448c-e3ca-8cfa5a1be114"
      },
      "source": [
        "!pip install wandb"
      ],
      "execution_count": null,
      "outputs": [
        {
          "output_type": "stream",
          "text": [
            "Collecting wandb\n",
            "\u001b[?25l  Downloading https://files.pythonhosted.org/packages/ca/5e/9df94df3bfee51b92b54a5e6fa277d6e1fcdf1f27b1872214b98f55ec0f7/wandb-0.10.12-py2.py3-none-any.whl (1.8MB)\n",
            "\r\u001b[K     |▏                               | 10kB 9.4MB/s eta 0:00:01\r\u001b[K     |▍                               | 20kB 14.8MB/s eta 0:00:01\r\u001b[K     |▌                               | 30kB 15.6MB/s eta 0:00:01\r\u001b[K     |▊                               | 40kB 15.4MB/s eta 0:00:01\r\u001b[K     |█                               | 51kB 16.6MB/s eta 0:00:01\r\u001b[K     |█                               | 61kB 15.4MB/s eta 0:00:01\r\u001b[K     |█▎                              | 71kB 11.2MB/s eta 0:00:01\r\u001b[K     |█▌                              | 81kB 12.1MB/s eta 0:00:01\r\u001b[K     |█▋                              | 92kB 11.7MB/s eta 0:00:01\r\u001b[K     |█▉                              | 102kB 11.3MB/s eta 0:00:01\r\u001b[K     |██                              | 112kB 11.3MB/s eta 0:00:01\r\u001b[K     |██▏                             | 122kB 11.3MB/s eta 0:00:01\r\u001b[K     |██▍                             | 133kB 11.3MB/s eta 0:00:01\r\u001b[K     |██▋                             | 143kB 11.3MB/s eta 0:00:01\r\u001b[K     |██▊                             | 153kB 11.3MB/s eta 0:00:01\r\u001b[K     |███                             | 163kB 11.3MB/s eta 0:00:01\r\u001b[K     |███▏                            | 174kB 11.3MB/s eta 0:00:01\r\u001b[K     |███▎                            | 184kB 11.3MB/s eta 0:00:01\r\u001b[K     |███▌                            | 194kB 11.3MB/s eta 0:00:01\r\u001b[K     |███▊                            | 204kB 11.3MB/s eta 0:00:01\r\u001b[K     |███▉                            | 215kB 11.3MB/s eta 0:00:01\r\u001b[K     |████                            | 225kB 11.3MB/s eta 0:00:01\r\u001b[K     |████▎                           | 235kB 11.3MB/s eta 0:00:01\r\u001b[K     |████▍                           | 245kB 11.3MB/s eta 0:00:01\r\u001b[K     |████▋                           | 256kB 11.3MB/s eta 0:00:01\r\u001b[K     |████▉                           | 266kB 11.3MB/s eta 0:00:01\r\u001b[K     |█████                           | 276kB 11.3MB/s eta 0:00:01\r\u001b[K     |█████▏                          | 286kB 11.3MB/s eta 0:00:01\r\u001b[K     |█████▍                          | 296kB 11.3MB/s eta 0:00:01\r\u001b[K     |█████▌                          | 307kB 11.3MB/s eta 0:00:01\r\u001b[K     |█████▊                          | 317kB 11.3MB/s eta 0:00:01\r\u001b[K     |██████                          | 327kB 11.3MB/s eta 0:00:01\r\u001b[K     |██████                          | 337kB 11.3MB/s eta 0:00:01\r\u001b[K     |██████▎                         | 348kB 11.3MB/s eta 0:00:01\r\u001b[K     |██████▌                         | 358kB 11.3MB/s eta 0:00:01\r\u001b[K     |██████▋                         | 368kB 11.3MB/s eta 0:00:01\r\u001b[K     |██████▉                         | 378kB 11.3MB/s eta 0:00:01\r\u001b[K     |███████                         | 389kB 11.3MB/s eta 0:00:01\r\u001b[K     |███████▏                        | 399kB 11.3MB/s eta 0:00:01\r\u001b[K     |███████▍                        | 409kB 11.3MB/s eta 0:00:01\r\u001b[K     |███████▋                        | 419kB 11.3MB/s eta 0:00:01\r\u001b[K     |███████▊                        | 430kB 11.3MB/s eta 0:00:01\r\u001b[K     |████████                        | 440kB 11.3MB/s eta 0:00:01\r\u001b[K     |████████▏                       | 450kB 11.3MB/s eta 0:00:01\r\u001b[K     |████████▎                       | 460kB 11.3MB/s eta 0:00:01\r\u001b[K     |████████▌                       | 471kB 11.3MB/s eta 0:00:01\r\u001b[K     |████████▊                       | 481kB 11.3MB/s eta 0:00:01\r\u001b[K     |████████▉                       | 491kB 11.3MB/s eta 0:00:01\r\u001b[K     |█████████                       | 501kB 11.3MB/s eta 0:00:01\r\u001b[K     |█████████▎                      | 512kB 11.3MB/s eta 0:00:01\r\u001b[K     |█████████▍                      | 522kB 11.3MB/s eta 0:00:01\r\u001b[K     |█████████▋                      | 532kB 11.3MB/s eta 0:00:01\r\u001b[K     |█████████▉                      | 542kB 11.3MB/s eta 0:00:01\r\u001b[K     |██████████                      | 552kB 11.3MB/s eta 0:00:01\r\u001b[K     |██████████▏                     | 563kB 11.3MB/s eta 0:00:01\r\u001b[K     |██████████▎                     | 573kB 11.3MB/s eta 0:00:01\r\u001b[K     |██████████▌                     | 583kB 11.3MB/s eta 0:00:01\r\u001b[K     |██████████▊                     | 593kB 11.3MB/s eta 0:00:01\r\u001b[K     |██████████▉                     | 604kB 11.3MB/s eta 0:00:01\r\u001b[K     |███████████                     | 614kB 11.3MB/s eta 0:00:01\r\u001b[K     |███████████▎                    | 624kB 11.3MB/s eta 0:00:01\r\u001b[K     |███████████▍                    | 634kB 11.3MB/s eta 0:00:01\r\u001b[K     |███████████▋                    | 645kB 11.3MB/s eta 0:00:01\r\u001b[K     |███████████▉                    | 655kB 11.3MB/s eta 0:00:01\r\u001b[K     |████████████                    | 665kB 11.3MB/s eta 0:00:01\r\u001b[K     |████████████▏                   | 675kB 11.3MB/s eta 0:00:01\r\u001b[K     |████████████▍                   | 686kB 11.3MB/s eta 0:00:01\r\u001b[K     |████████████▌                   | 696kB 11.3MB/s eta 0:00:01\r\u001b[K     |████████████▊                   | 706kB 11.3MB/s eta 0:00:01\r\u001b[K     |█████████████                   | 716kB 11.3MB/s eta 0:00:01\r\u001b[K     |█████████████                   | 727kB 11.3MB/s eta 0:00:01\r\u001b[K     |█████████████▎                  | 737kB 11.3MB/s eta 0:00:01\r\u001b[K     |█████████████▌                  | 747kB 11.3MB/s eta 0:00:01\r\u001b[K     |█████████████▋                  | 757kB 11.3MB/s eta 0:00:01\r\u001b[K     |█████████████▉                  | 768kB 11.3MB/s eta 0:00:01\r\u001b[K     |██████████████                  | 778kB 11.3MB/s eta 0:00:01\r\u001b[K     |██████████████▏                 | 788kB 11.3MB/s eta 0:00:01\r\u001b[K     |██████████████▍                 | 798kB 11.3MB/s eta 0:00:01\r\u001b[K     |██████████████▋                 | 808kB 11.3MB/s eta 0:00:01\r\u001b[K     |██████████████▊                 | 819kB 11.3MB/s eta 0:00:01\r\u001b[K     |███████████████                 | 829kB 11.3MB/s eta 0:00:01\r\u001b[K     |███████████████▏                | 839kB 11.3MB/s eta 0:00:01\r\u001b[K     |███████████████▎                | 849kB 11.3MB/s eta 0:00:01\r\u001b[K     |███████████████▌                | 860kB 11.3MB/s eta 0:00:01\r\u001b[K     |███████████████▊                | 870kB 11.3MB/s eta 0:00:01\r\u001b[K     |███████████████▉                | 880kB 11.3MB/s eta 0:00:01\r\u001b[K     |████████████████                | 890kB 11.3MB/s eta 0:00:01\r\u001b[K     |████████████████▎               | 901kB 11.3MB/s eta 0:00:01\r\u001b[K     |████████████████▍               | 911kB 11.3MB/s eta 0:00:01\r\u001b[K     |████████████████▋               | 921kB 11.3MB/s eta 0:00:01\r\u001b[K     |████████████████▉               | 931kB 11.3MB/s eta 0:00:01\r\u001b[K     |█████████████████               | 942kB 11.3MB/s eta 0:00:01\r\u001b[K     |█████████████████▏              | 952kB 11.3MB/s eta 0:00:01\r\u001b[K     |█████████████████▍              | 962kB 11.3MB/s eta 0:00:01\r\u001b[K     |█████████████████▌              | 972kB 11.3MB/s eta 0:00:01\r\u001b[K     |█████████████████▊              | 983kB 11.3MB/s eta 0:00:01\r\u001b[K     |██████████████████              | 993kB 11.3MB/s eta 0:00:01\r\u001b[K     |██████████████████              | 1.0MB 11.3MB/s eta 0:00:01\r\u001b[K     |██████████████████▎             | 1.0MB 11.3MB/s eta 0:00:01\r\u001b[K     |██████████████████▌             | 1.0MB 11.3MB/s eta 0:00:01\r\u001b[K     |██████████████████▋             | 1.0MB 11.3MB/s eta 0:00:01\r\u001b[K     |██████████████████▉             | 1.0MB 11.3MB/s eta 0:00:01\r\u001b[K     |███████████████████             | 1.1MB 11.3MB/s eta 0:00:01\r\u001b[K     |███████████████████▏            | 1.1MB 11.3MB/s eta 0:00:01\r\u001b[K     |███████████████████▍            | 1.1MB 11.3MB/s eta 0:00:01\r\u001b[K     |███████████████████▋            | 1.1MB 11.3MB/s eta 0:00:01\r\u001b[K     |███████████████████▊            | 1.1MB 11.3MB/s eta 0:00:01\r\u001b[K     |████████████████████            | 1.1MB 11.3MB/s eta 0:00:01\r\u001b[K     |████████████████████            | 1.1MB 11.3MB/s eta 0:00:01\r\u001b[K     |████████████████████▎           | 1.1MB 11.3MB/s eta 0:00:01\r\u001b[K     |████████████████████▌           | 1.1MB 11.3MB/s eta 0:00:01\r\u001b[K     |████████████████████▋           | 1.1MB 11.3MB/s eta 0:00:01\r\u001b[K     |████████████████████▉           | 1.2MB 11.3MB/s eta 0:00:01\r\u001b[K     |█████████████████████           | 1.2MB 11.3MB/s eta 0:00:01\r\u001b[K     |█████████████████████▏          | 1.2MB 11.3MB/s eta 0:00:01\r\u001b[K     |█████████████████████▍          | 1.2MB 11.3MB/s eta 0:00:01\r\u001b[K     |█████████████████████▋          | 1.2MB 11.3MB/s eta 0:00:01\r\u001b[K     |█████████████████████▊          | 1.2MB 11.3MB/s eta 0:00:01\r\u001b[K     |██████████████████████          | 1.2MB 11.3MB/s eta 0:00:01\r\u001b[K     |██████████████████████▏         | 1.2MB 11.3MB/s eta 0:00:01\r\u001b[K     |██████████████████████▎         | 1.2MB 11.3MB/s eta 0:00:01\r\u001b[K     |██████████████████████▌         | 1.2MB 11.3MB/s eta 0:00:01\r\u001b[K     |██████████████████████▊         | 1.3MB 11.3MB/s eta 0:00:01\r\u001b[K     |██████████████████████▉         | 1.3MB 11.3MB/s eta 0:00:01\r\u001b[K     |███████████████████████         | 1.3MB 11.3MB/s eta 0:00:01\r\u001b[K     |███████████████████████▎        | 1.3MB 11.3MB/s eta 0:00:01\r\u001b[K     |███████████████████████▍        | 1.3MB 11.3MB/s eta 0:00:01\r\u001b[K     |███████████████████████▋        | 1.3MB 11.3MB/s eta 0:00:01\r\u001b[K     |███████████████████████▉        | 1.3MB 11.3MB/s eta 0:00:01\r\u001b[K     |████████████████████████        | 1.3MB 11.3MB/s eta 0:00:01\r\u001b[K     |████████████████████████▏       | 1.3MB 11.3MB/s eta 0:00:01\r\u001b[K     |████████████████████████▍       | 1.4MB 11.3MB/s eta 0:00:01\r\u001b[K     |████████████████████████▌       | 1.4MB 11.3MB/s eta 0:00:01\r\u001b[K     |████████████████████████▊       | 1.4MB 11.3MB/s eta 0:00:01\r\u001b[K     |█████████████████████████       | 1.4MB 11.3MB/s eta 0:00:01\r\u001b[K     |█████████████████████████       | 1.4MB 11.3MB/s eta 0:00:01\r\u001b[K     |█████████████████████████▎      | 1.4MB 11.3MB/s eta 0:00:01\r\u001b[K     |█████████████████████████▌      | 1.4MB 11.3MB/s eta 0:00:01\r\u001b[K     |█████████████████████████▋      | 1.4MB 11.3MB/s eta 0:00:01\r\u001b[K     |█████████████████████████▉      | 1.4MB 11.3MB/s eta 0:00:01\r\u001b[K     |██████████████████████████      | 1.4MB 11.3MB/s eta 0:00:01\r\u001b[K     |██████████████████████████▏     | 1.5MB 11.3MB/s eta 0:00:01\r\u001b[K     |██████████████████████████▍     | 1.5MB 11.3MB/s eta 0:00:01\r\u001b[K     |██████████████████████████▋     | 1.5MB 11.3MB/s eta 0:00:01\r\u001b[K     |██████████████████████████▊     | 1.5MB 11.3MB/s eta 0:00:01\r\u001b[K     |███████████████████████████     | 1.5MB 11.3MB/s eta 0:00:01\r\u001b[K     |███████████████████████████▏    | 1.5MB 11.3MB/s eta 0:00:01\r\u001b[K     |███████████████████████████▎    | 1.5MB 11.3MB/s eta 0:00:01\r\u001b[K     |███████████████████████████▌    | 1.5MB 11.3MB/s eta 0:00:01\r\u001b[K     |███████████████████████████▊    | 1.5MB 11.3MB/s eta 0:00:01\r\u001b[K     |███████████████████████████▉    | 1.5MB 11.3MB/s eta 0:00:01\r\u001b[K     |████████████████████████████    | 1.6MB 11.3MB/s eta 0:00:01\r\u001b[K     |████████████████████████████▎   | 1.6MB 11.3MB/s eta 0:00:01\r\u001b[K     |████████████████████████████▍   | 1.6MB 11.3MB/s eta 0:00:01\r\u001b[K     |████████████████████████████▋   | 1.6MB 11.3MB/s eta 0:00:01\r\u001b[K     |████████████████████████████▉   | 1.6MB 11.3MB/s eta 0:00:01\r\u001b[K     |█████████████████████████████   | 1.6MB 11.3MB/s eta 0:00:01\r\u001b[K     |█████████████████████████████▏  | 1.6MB 11.3MB/s eta 0:00:01\r\u001b[K     |█████████████████████████████▍  | 1.6MB 11.3MB/s eta 0:00:01\r\u001b[K     |█████████████████████████████▌  | 1.6MB 11.3MB/s eta 0:00:01\r\u001b[K     |█████████████████████████████▊  | 1.6MB 11.3MB/s eta 0:00:01\r\u001b[K     |█████████████████████████████▉  | 1.7MB 11.3MB/s eta 0:00:01\r\u001b[K     |██████████████████████████████  | 1.7MB 11.3MB/s eta 0:00:01\r\u001b[K     |██████████████████████████████▎ | 1.7MB 11.3MB/s eta 0:00:01\r\u001b[K     |██████████████████████████████▍ | 1.7MB 11.3MB/s eta 0:00:01\r\u001b[K     |██████████████████████████████▋ | 1.7MB 11.3MB/s eta 0:00:01\r\u001b[K     |██████████████████████████████▉ | 1.7MB 11.3MB/s eta 0:00:01\r\u001b[K     |███████████████████████████████ | 1.7MB 11.3MB/s eta 0:00:01\r\u001b[K     |███████████████████████████████▏| 1.7MB 11.3MB/s eta 0:00:01\r\u001b[K     |███████████████████████████████▍| 1.7MB 11.3MB/s eta 0:00:01\r\u001b[K     |███████████████████████████████▌| 1.8MB 11.3MB/s eta 0:00:01\r\u001b[K     |███████████████████████████████▊| 1.8MB 11.3MB/s eta 0:00:01\r\u001b[K     |████████████████████████████████| 1.8MB 11.3MB/s eta 0:00:01\r\u001b[K     |████████████████████████████████| 1.8MB 11.3MB/s \n",
            "\u001b[?25hRequirement already satisfied: Click>=7.0 in /usr/local/lib/python3.6/dist-packages (from wandb) (7.1.2)\n",
            "Collecting configparser>=3.8.1\n",
            "  Downloading https://files.pythonhosted.org/packages/08/b2/ef713e0e67f6e7ec7d59aea3ee78d05b39c15930057e724cc6d362a8c3bb/configparser-5.0.1-py3-none-any.whl\n",
            "Requirement already satisfied: six>=1.13.0 in /usr/local/lib/python3.6/dist-packages (from wandb) (1.15.0)\n",
            "Requirement already satisfied: PyYAML in /usr/local/lib/python3.6/dist-packages (from wandb) (3.13)\n",
            "Collecting sentry-sdk>=0.4.0\n",
            "\u001b[?25l  Downloading https://files.pythonhosted.org/packages/b1/5c/018bf9a5c24343a664deaea70e61f33f53bb1bd3caf193110f827bfd07e2/sentry_sdk-0.19.5-py2.py3-none-any.whl (128kB)\n",
            "\u001b[K     |████████████████████████████████| 133kB 29.9MB/s \n",
            "\u001b[?25hCollecting GitPython>=1.0.0\n",
            "\u001b[?25l  Downloading https://files.pythonhosted.org/packages/24/d1/a7f8fe3df258549b303415157328bfcc63e9b11d06a7ad7a3327f3d32606/GitPython-3.1.11-py3-none-any.whl (159kB)\n",
            "\u001b[K     |████████████████████████████████| 163kB 51.6MB/s \n",
            "\u001b[?25hCollecting shortuuid>=0.5.0\n",
            "  Downloading https://files.pythonhosted.org/packages/25/a6/2ecc1daa6a304e7f1b216f0896b26156b78e7c38e1211e9b798b4716c53d/shortuuid-1.0.1-py3-none-any.whl\n",
            "Requirement already satisfied: psutil>=5.0.0 in /usr/local/lib/python3.6/dist-packages (from wandb) (5.4.8)\n",
            "Requirement already satisfied: python-dateutil>=2.6.1 in /usr/local/lib/python3.6/dist-packages (from wandb) (2.8.1)\n",
            "Collecting subprocess32>=3.5.3\n",
            "\u001b[?25l  Downloading https://files.pythonhosted.org/packages/32/c8/564be4d12629b912ea431f1a50eb8b3b9d00f1a0b1ceff17f266be190007/subprocess32-3.5.4.tar.gz (97kB)\n",
            "\u001b[K     |████████████████████████████████| 102kB 9.2MB/s \n",
            "\u001b[?25hRequirement already satisfied: promise<3,>=2.0 in /usr/local/lib/python3.6/dist-packages (from wandb) (2.3)\n",
            "Collecting docker-pycreds>=0.4.0\n",
            "  Downloading https://files.pythonhosted.org/packages/f5/e8/f6bd1eee09314e7e6dee49cbe2c5e22314ccdb38db16c9fc72d2fa80d054/docker_pycreds-0.4.0-py2.py3-none-any.whl\n",
            "Collecting watchdog>=0.8.3\n",
            "\u001b[?25l  Downloading https://files.pythonhosted.org/packages/83/d9/3d1f46b428fd7b646725896b58d2eddb84f79fd76912773e6193cf74263d/watchdog-1.0.2-py3-none-manylinux2014_x86_64.whl (72kB)\n",
            "\u001b[K     |████████████████████████████████| 81kB 7.1MB/s \n",
            "\u001b[?25hRequirement already satisfied: protobuf>=3.12.0 in /usr/local/lib/python3.6/dist-packages (from wandb) (3.12.4)\n",
            "Requirement already satisfied: requests<3,>=2.0.0 in /usr/local/lib/python3.6/dist-packages (from wandb) (2.23.0)\n",
            "Requirement already satisfied: urllib3>=1.10.0 in /usr/local/lib/python3.6/dist-packages (from sentry-sdk>=0.4.0->wandb) (1.24.3)\n",
            "Requirement already satisfied: certifi in /usr/local/lib/python3.6/dist-packages (from sentry-sdk>=0.4.0->wandb) (2020.12.5)\n",
            "Collecting gitdb<5,>=4.0.1\n",
            "\u001b[?25l  Downloading https://files.pythonhosted.org/packages/48/11/d1800bca0a3bae820b84b7d813ad1eff15a48a64caea9c823fc8c1b119e8/gitdb-4.0.5-py3-none-any.whl (63kB)\n",
            "\u001b[K     |████████████████████████████████| 71kB 7.2MB/s \n",
            "\u001b[?25hRequirement already satisfied: setuptools in /usr/local/lib/python3.6/dist-packages (from protobuf>=3.12.0->wandb) (50.3.2)\n",
            "Requirement already satisfied: idna<3,>=2.5 in /usr/local/lib/python3.6/dist-packages (from requests<3,>=2.0.0->wandb) (2.10)\n",
            "Requirement already satisfied: chardet<4,>=3.0.2 in /usr/local/lib/python3.6/dist-packages (from requests<3,>=2.0.0->wandb) (3.0.4)\n",
            "Collecting smmap<4,>=3.0.1\n",
            "  Downloading https://files.pythonhosted.org/packages/b0/9a/4d409a6234eb940e6a78dfdfc66156e7522262f5f2fecca07dc55915952d/smmap-3.0.4-py2.py3-none-any.whl\n",
            "Building wheels for collected packages: subprocess32\n",
            "  Building wheel for subprocess32 (setup.py) ... \u001b[?25l\u001b[?25hdone\n",
            "  Created wheel for subprocess32: filename=subprocess32-3.5.4-cp36-none-any.whl size=6490 sha256=4fa5d06e0cd8563bb2bf0c1c770bf442b2a8b90899fad5063600b900aedb2838\n",
            "  Stored in directory: /root/.cache/pip/wheels/68/39/1a/5e402bdfdf004af1786c8b853fd92f8c4a04f22aad179654d1\n",
            "Successfully built subprocess32\n",
            "Installing collected packages: configparser, sentry-sdk, smmap, gitdb, GitPython, shortuuid, subprocess32, docker-pycreds, watchdog, wandb\n",
            "Successfully installed GitPython-3.1.11 configparser-5.0.1 docker-pycreds-0.4.0 gitdb-4.0.5 sentry-sdk-0.19.5 shortuuid-1.0.1 smmap-3.0.4 subprocess32-3.5.4 wandb-0.10.12 watchdog-1.0.2\n"
          ],
          "name": "stdout"
        }
      ]
    },
    {
      "cell_type": "code",
      "metadata": {
        "id": "gjybFGvZ5w3u"
      },
      "source": [
        ""
      ],
      "execution_count": null,
      "outputs": []
    },
    {
      "cell_type": "code",
      "metadata": {
        "id": "1s_Bb4XY5w07"
      },
      "source": [
        ""
      ],
      "execution_count": null,
      "outputs": []
    },
    {
      "cell_type": "code",
      "metadata": {
        "id": "jEAsmrVg5wyF"
      },
      "source": [
        "import gym\r\n",
        "env = gym.make('CartPole-v0')  # ゲームを選択"
      ],
      "execution_count": null,
      "outputs": []
    },
    {
      "cell_type": "code",
      "metadata": {
        "id": "kp0GeSzX5wva"
      },
      "source": [
        ""
      ],
      "execution_count": null,
      "outputs": []
    },
    {
      "cell_type": "code",
      "metadata": {
        "colab": {
          "base_uri": "https://localhost:8080/"
        },
        "id": "J8royvKn5wsW",
        "outputId": "7660c583-0469-4780-ebcd-28041a5ad9c8"
      },
      "source": [
        "env.action_space"
      ],
      "execution_count": null,
      "outputs": [
        {
          "output_type": "execute_result",
          "data": {
            "text/plain": [
              "Discrete(2)"
            ]
          },
          "metadata": {
            "tags": []
          },
          "execution_count": 3
        }
      ]
    },
    {
      "cell_type": "code",
      "metadata": {
        "colab": {
          "base_uri": "https://localhost:8080/"
        },
        "id": "KNh6O0MI5wpq",
        "outputId": "1a29fb00-e970-4f67-e562-e893de1792d6"
      },
      "source": [
        "env.observation_space"
      ],
      "execution_count": null,
      "outputs": [
        {
          "output_type": "execute_result",
          "data": {
            "text/plain": [
              "Box(-3.4028234663852886e+38, 3.4028234663852886e+38, (4,), float32)"
            ]
          },
          "metadata": {
            "tags": []
          },
          "execution_count": 4
        }
      ]
    },
    {
      "cell_type": "code",
      "metadata": {
        "colab": {
          "base_uri": "https://localhost:8080/"
        },
        "id": "UchQU8GQ5wmm",
        "outputId": "0bc590f7-d222-4f09-8a45-d5222d019bea"
      },
      "source": [
        "env.reward_range"
      ],
      "execution_count": null,
      "outputs": [
        {
          "output_type": "execute_result",
          "data": {
            "text/plain": [
              "(-inf, inf)"
            ]
          },
          "metadata": {
            "tags": []
          },
          "execution_count": 5
        }
      ]
    },
    {
      "cell_type": "code",
      "metadata": {
        "id": "MxOzCUgH5wjw"
      },
      "source": [
        "for i in range(5):  # 5回ゲーム\r\n",
        "    env.reset()     # ゲームの初期化\r\n",
        "    env.render()    # ゲームの描画\r\n",
        "\r\n",
        "    # 1ゲームのループ、今回は最大 200 step実行。\r\n",
        "    for step in range(200):\r\n",
        "\r\n",
        "        # アクションを取得\r\n",
        "        action = env.action_space.sample()\r\n",
        "\r\n",
        "        # 1step 実行する。\r\n",
        "        # 戻り値は、環境,報酬,終了判定(done),情報?\r\n",
        "        observe, reward, done, _ = env.step(action)\r\n",
        "\r\n",
        "        env.render()  # 描画\r\n",
        "\r\n",
        "        # 終了判定がTrueなら1ゲーム終了\r\n",
        "        if done:\r\n",
        "            break"
      ],
      "execution_count": null,
      "outputs": []
    },
    {
      "cell_type": "code",
      "metadata": {
        "id": "1I7TK6lA5whJ"
      },
      "source": [
        "#アクションの値(今回ですと0か1)をランダムで返してくれます。"
      ],
      "execution_count": null,
      "outputs": []
    },
    {
      "cell_type": "code",
      "metadata": {
        "colab": {
          "base_uri": "https://localhost:8080/"
        },
        "id": "RqYIgsu95weN",
        "outputId": "3313e2ed-c8ed-4045-8f9e-ff85aa58b31b"
      },
      "source": [
        "env.action_space.sample()"
      ],
      "execution_count": null,
      "outputs": [
        {
          "output_type": "execute_result",
          "data": {
            "text/plain": [
              "1"
            ]
          },
          "metadata": {
            "tags": []
          },
          "execution_count": 8
        }
      ]
    },
    {
      "cell_type": "code",
      "metadata": {
        "id": "9R6Xnh9E5wbU"
      },
      "source": [
        ""
      ],
      "execution_count": null,
      "outputs": []
    },
    {
      "cell_type": "code",
      "metadata": {
        "id": "v-S-6wLe5wYd"
      },
      "source": [
        ""
      ],
      "execution_count": null,
      "outputs": []
    },
    {
      "cell_type": "code",
      "metadata": {
        "id": "d403jze-5wVm"
      },
      "source": [
        ""
      ],
      "execution_count": null,
      "outputs": []
    },
    {
      "cell_type": "code",
      "metadata": {
        "id": "xdbR2DtJ5wSf"
      },
      "source": [
        ""
      ],
      "execution_count": null,
      "outputs": []
    },
    {
      "cell_type": "code",
      "metadata": {
        "id": "ivsGd0z75wP4"
      },
      "source": [
        ""
      ],
      "execution_count": null,
      "outputs": []
    },
    {
      "cell_type": "code",
      "metadata": {
        "id": "Mhg-D1qj5wNB"
      },
      "source": [
        ""
      ],
      "execution_count": null,
      "outputs": []
    },
    {
      "cell_type": "code",
      "metadata": {
        "id": "uqRBQZuE5wKr"
      },
      "source": [
        ""
      ],
      "execution_count": null,
      "outputs": []
    },
    {
      "cell_type": "code",
      "metadata": {
        "id": "KZFtsfEl5wID"
      },
      "source": [
        ""
      ],
      "execution_count": null,
      "outputs": []
    },
    {
      "cell_type": "code",
      "metadata": {
        "id": "I3a9zK-65wFN"
      },
      "source": [
        ""
      ],
      "execution_count": null,
      "outputs": []
    },
    {
      "cell_type": "code",
      "metadata": {
        "id": "YIlj9OeL5wCV"
      },
      "source": [
        ""
      ],
      "execution_count": null,
      "outputs": []
    },
    {
      "cell_type": "code",
      "metadata": {
        "id": "3PrrjTKn5v_t"
      },
      "source": [
        ""
      ],
      "execution_count": null,
      "outputs": []
    },
    {
      "cell_type": "code",
      "metadata": {
        "id": "ullHf7iG5v89"
      },
      "source": [
        ""
      ],
      "execution_count": null,
      "outputs": []
    },
    {
      "cell_type": "code",
      "metadata": {
        "id": "ysCVaa8b5v6Q"
      },
      "source": [
        ""
      ],
      "execution_count": null,
      "outputs": []
    },
    {
      "cell_type": "code",
      "metadata": {
        "id": "AnK6aVtr5v3q"
      },
      "source": [
        ""
      ],
      "execution_count": null,
      "outputs": []
    },
    {
      "cell_type": "code",
      "metadata": {
        "id": "ZhJoJbjS5v1C"
      },
      "source": [
        ""
      ],
      "execution_count": null,
      "outputs": []
    },
    {
      "cell_type": "code",
      "metadata": {
        "id": "Kd8pRehb5vyb"
      },
      "source": [
        ""
      ],
      "execution_count": null,
      "outputs": []
    },
    {
      "cell_type": "code",
      "metadata": {
        "id": "xqIyIuOu5vv3"
      },
      "source": [
        ""
      ],
      "execution_count": null,
      "outputs": []
    },
    {
      "cell_type": "code",
      "metadata": {
        "id": "CiNzvR0i5rla"
      },
      "source": [
        ""
      ],
      "execution_count": null,
      "outputs": []
    },
    {
      "cell_type": "code",
      "metadata": {
        "id": "O5ZJ2N735riz"
      },
      "source": [
        ""
      ],
      "execution_count": null,
      "outputs": []
    },
    {
      "cell_type": "code",
      "metadata": {
        "id": "OuOKkSMi5rf8"
      },
      "source": [
        ""
      ],
      "execution_count": null,
      "outputs": []
    },
    {
      "cell_type": "code",
      "metadata": {
        "id": "jILCmdpw5rdS"
      },
      "source": [
        "import gym\r\n",
        "env = gym.make('CartPole-v0')\r\n",
        "\r\n",
        "window_length = 1\r\n",
        "input_shape = (window_length,) + env.observation_space.shape"
      ],
      "execution_count": null,
      "outputs": []
    },
    {
      "cell_type": "code",
      "metadata": {
        "colab": {
          "base_uri": "https://localhost:8080/"
        },
        "id": "9s-DIsfW5rat",
        "outputId": "a9729a11-b6ed-44e3-956c-5644211ceb91"
      },
      "source": [
        "input_shape"
      ],
      "execution_count": null,
      "outputs": [
        {
          "output_type": "execute_result",
          "data": {
            "text/plain": [
              "(1, 4)"
            ]
          },
          "metadata": {
            "tags": []
          },
          "execution_count": 10
        }
      ]
    },
    {
      "cell_type": "code",
      "metadata": {
        "id": "Jr_XHAPw5db6"
      },
      "source": [
        "nb_actions = env.action_space.n"
      ],
      "execution_count": null,
      "outputs": []
    },
    {
      "cell_type": "code",
      "metadata": {
        "id": "um3BmP055dZh"
      },
      "source": [
        ""
      ],
      "execution_count": null,
      "outputs": []
    },
    {
      "cell_type": "code",
      "metadata": {
        "id": "dZXrxWuI5dWj"
      },
      "source": [
        "from keras.models import Sequential\r\n",
        "from keras.layers import *\r\n",
        "model = Sequential()\r\n",
        "model.add(Flatten(input_shape=input_shape))\r\n",
        "model.add(Dense(16, activation='relu'))\r\n",
        "model.add(Dense(16, activation='relu'))\r\n",
        "model.add(Dense(16, activation='relu'))\r\n",
        "model.add(Dense(nb_actions, activation='linear'))"
      ],
      "execution_count": null,
      "outputs": []
    },
    {
      "cell_type": "code",
      "metadata": {
        "id": "TxsFFegh5dTp"
      },
      "source": [
        ""
      ],
      "execution_count": null,
      "outputs": []
    },
    {
      "cell_type": "code",
      "metadata": {
        "colab": {
          "base_uri": "https://localhost:8080/"
        },
        "id": "YYNFZMLd5dQq",
        "outputId": "172a9842-f110-49e5-cbe8-77e04b409b8e"
      },
      "source": [
        "print(model.summary())"
      ],
      "execution_count": null,
      "outputs": [
        {
          "output_type": "stream",
          "text": [
            "Model: \"sequential\"\n",
            "_________________________________________________________________\n",
            "Layer (type)                 Output Shape              Param #   \n",
            "=================================================================\n",
            "flatten (Flatten)            (None, 4)                 0         \n",
            "_________________________________________________________________\n",
            "dense (Dense)                (None, 16)                80        \n",
            "_________________________________________________________________\n",
            "dense_1 (Dense)              (None, 16)                272       \n",
            "_________________________________________________________________\n",
            "dense_2 (Dense)              (None, 16)                272       \n",
            "_________________________________________________________________\n",
            "dense_3 (Dense)              (None, 2)                 34        \n",
            "=================================================================\n",
            "Total params: 658\n",
            "Trainable params: 658\n",
            "Non-trainable params: 0\n",
            "_________________________________________________________________\n",
            "None\n"
          ],
          "name": "stdout"
        }
      ]
    },
    {
      "cell_type": "code",
      "metadata": {
        "id": "PyqC75v25dNz"
      },
      "source": [
        ""
      ],
      "execution_count": null,
      "outputs": []
    },
    {
      "cell_type": "code",
      "metadata": {
        "id": "PM19GZdy5dK9"
      },
      "source": [
        "from keras.models import Model\r\n",
        "from keras.layers import *\r\n",
        "c = input_ = Input(input_shape)\r\n",
        "c = Flatten()(c)\r\n",
        "c = Dense(16, activation='relu')(c)\r\n",
        "c = Dense(16, activation='relu')(c)\r\n",
        "c = Dense(16, activation='relu')(c)\r\n",
        "c = Dense(nb_actions, activation='linear')(c)\r\n",
        "model = Model(input_, c)"
      ],
      "execution_count": null,
      "outputs": []
    },
    {
      "cell_type": "code",
      "metadata": {
        "id": "stmhl6hp5dIH"
      },
      "source": [
        ""
      ],
      "execution_count": null,
      "outputs": []
    },
    {
      "cell_type": "code",
      "metadata": {
        "colab": {
          "base_uri": "https://localhost:8080/",
          "height": 392
        },
        "id": "xA-cnIKd5dFN",
        "outputId": "ae84ffd1-3968-45e3-e85a-dd6e4e80f5f2"
      },
      "source": [
        "from rl.agents.dqn import DQNAgent\r\n",
        "from rl.policy import BoltzmannQPolicy\r\n",
        "from rl.memory import SequentialMemory\r\n",
        "from keras.optimizers import Adam\r\n",
        "\r\n",
        "memory = SequentialMemory(limit=50000, window_length=window_length)\r\n",
        "policy = BoltzmannQPolicy()\r\n",
        "agent = DQNAgent(model=model, nb_actions=nb_actions, memory=memory, nb_steps_warmup=10, target_model_update=1e-2, policy=policy)\r\n",
        "agent.compile(Adam())"
      ],
      "execution_count": null,
      "outputs": [
        {
          "output_type": "error",
          "ename": "TypeError",
          "evalue": "ignored",
          "traceback": [
            "\u001b[0;31m---------------------------------------------------------------------------\u001b[0m",
            "\u001b[0;31mTypeError\u001b[0m                                 Traceback (most recent call last)",
            "\u001b[0;32m<ipython-input-17-a50a897c6c52>\u001b[0m in \u001b[0;36m<module>\u001b[0;34m()\u001b[0m\n\u001b[1;32m      6\u001b[0m \u001b[0mmemory\u001b[0m \u001b[0;34m=\u001b[0m \u001b[0mSequentialMemory\u001b[0m\u001b[0;34m(\u001b[0m\u001b[0mlimit\u001b[0m\u001b[0;34m=\u001b[0m\u001b[0;36m50000\u001b[0m\u001b[0;34m,\u001b[0m \u001b[0mwindow_length\u001b[0m\u001b[0;34m=\u001b[0m\u001b[0mwindow_length\u001b[0m\u001b[0;34m)\u001b[0m\u001b[0;34m\u001b[0m\u001b[0;34m\u001b[0m\u001b[0m\n\u001b[1;32m      7\u001b[0m \u001b[0mpolicy\u001b[0m \u001b[0;34m=\u001b[0m \u001b[0mBoltzmannQPolicy\u001b[0m\u001b[0;34m(\u001b[0m\u001b[0;34m)\u001b[0m\u001b[0;34m\u001b[0m\u001b[0;34m\u001b[0m\u001b[0m\n\u001b[0;32m----> 8\u001b[0;31m \u001b[0magent\u001b[0m \u001b[0;34m=\u001b[0m \u001b[0mDQNAgent\u001b[0m\u001b[0;34m(\u001b[0m\u001b[0mmodel\u001b[0m\u001b[0;34m=\u001b[0m\u001b[0mmodel\u001b[0m\u001b[0;34m,\u001b[0m \u001b[0mnb_actions\u001b[0m\u001b[0;34m=\u001b[0m\u001b[0mnb_actions\u001b[0m\u001b[0;34m,\u001b[0m \u001b[0mmemory\u001b[0m\u001b[0;34m=\u001b[0m\u001b[0mmemory\u001b[0m\u001b[0;34m,\u001b[0m \u001b[0mnb_steps_warmup\u001b[0m\u001b[0;34m=\u001b[0m\u001b[0;36m10\u001b[0m\u001b[0;34m,\u001b[0m \u001b[0mtarget_model_update\u001b[0m\u001b[0;34m=\u001b[0m\u001b[0;36m1e-2\u001b[0m\u001b[0;34m,\u001b[0m \u001b[0mpolicy\u001b[0m\u001b[0;34m=\u001b[0m\u001b[0mpolicy\u001b[0m\u001b[0;34m)\u001b[0m\u001b[0;34m\u001b[0m\u001b[0;34m\u001b[0m\u001b[0m\n\u001b[0m\u001b[1;32m      9\u001b[0m \u001b[0magent\u001b[0m\u001b[0;34m.\u001b[0m\u001b[0mcompile\u001b[0m\u001b[0;34m(\u001b[0m\u001b[0mAdam\u001b[0m\u001b[0;34m(\u001b[0m\u001b[0;34m)\u001b[0m\u001b[0;34m)\u001b[0m\u001b[0;34m\u001b[0m\u001b[0;34m\u001b[0m\u001b[0m\n",
            "\u001b[0;32m/usr/local/lib/python3.6/dist-packages/rl/agents/dqn.py\u001b[0m in \u001b[0;36m__init__\u001b[0;34m(self, model, policy, test_policy, enable_double_dqn, enable_dueling_network, dueling_type, *args, **kwargs)\u001b[0m\n\u001b[1;32m    106\u001b[0m \u001b[0;34m\u001b[0m\u001b[0m\n\u001b[1;32m    107\u001b[0m         \u001b[0;31m# Validate (important) input.\u001b[0m\u001b[0;34m\u001b[0m\u001b[0;34m\u001b[0m\u001b[0;34m\u001b[0m\u001b[0m\n\u001b[0;32m--> 108\u001b[0;31m         \u001b[0;32mif\u001b[0m \u001b[0mhasattr\u001b[0m\u001b[0;34m(\u001b[0m\u001b[0mmodel\u001b[0m\u001b[0;34m.\u001b[0m\u001b[0moutput\u001b[0m\u001b[0;34m,\u001b[0m \u001b[0;34m'__len__'\u001b[0m\u001b[0;34m)\u001b[0m \u001b[0;32mand\u001b[0m \u001b[0mlen\u001b[0m\u001b[0;34m(\u001b[0m\u001b[0mmodel\u001b[0m\u001b[0;34m.\u001b[0m\u001b[0moutput\u001b[0m\u001b[0;34m)\u001b[0m \u001b[0;34m>\u001b[0m \u001b[0;36m1\u001b[0m\u001b[0;34m:\u001b[0m\u001b[0;34m\u001b[0m\u001b[0;34m\u001b[0m\u001b[0m\n\u001b[0m\u001b[1;32m    109\u001b[0m             \u001b[0;32mraise\u001b[0m \u001b[0mValueError\u001b[0m\u001b[0;34m(\u001b[0m\u001b[0;34m'Model \"{}\" has more than one output. DQN expects a model that has a single output.'\u001b[0m\u001b[0;34m.\u001b[0m\u001b[0mformat\u001b[0m\u001b[0;34m(\u001b[0m\u001b[0mmodel\u001b[0m\u001b[0;34m)\u001b[0m\u001b[0;34m)\u001b[0m\u001b[0;34m\u001b[0m\u001b[0;34m\u001b[0m\u001b[0m\n\u001b[1;32m    110\u001b[0m         \u001b[0;32mif\u001b[0m \u001b[0mmodel\u001b[0m\u001b[0;34m.\u001b[0m\u001b[0moutput\u001b[0m\u001b[0;34m.\u001b[0m\u001b[0m_keras_shape\u001b[0m \u001b[0;34m!=\u001b[0m \u001b[0;34m(\u001b[0m\u001b[0;32mNone\u001b[0m\u001b[0;34m,\u001b[0m \u001b[0mself\u001b[0m\u001b[0;34m.\u001b[0m\u001b[0mnb_actions\u001b[0m\u001b[0;34m)\u001b[0m\u001b[0;34m:\u001b[0m\u001b[0;34m\u001b[0m\u001b[0;34m\u001b[0m\u001b[0m\n",
            "\u001b[0;32m/usr/local/lib/python3.6/dist-packages/tensorflow/python/keras/engine/keras_tensor.py\u001b[0m in \u001b[0;36m__len__\u001b[0;34m(self)\u001b[0m\n\u001b[1;32m    238\u001b[0m \u001b[0;34m\u001b[0m\u001b[0m\n\u001b[1;32m    239\u001b[0m   \u001b[0;32mdef\u001b[0m \u001b[0m__len__\u001b[0m\u001b[0;34m(\u001b[0m\u001b[0mself\u001b[0m\u001b[0;34m)\u001b[0m\u001b[0;34m:\u001b[0m\u001b[0;34m\u001b[0m\u001b[0;34m\u001b[0m\u001b[0m\n\u001b[0;32m--> 240\u001b[0;31m     raise TypeError('Keras symbolic inputs/outputs do not '\n\u001b[0m\u001b[1;32m    241\u001b[0m                     \u001b[0;34m'implement `__len__`. You may be '\u001b[0m\u001b[0;34m\u001b[0m\u001b[0;34m\u001b[0m\u001b[0m\n\u001b[1;32m    242\u001b[0m                     \u001b[0;34m'trying to pass Keras symbolic inputs/outputs '\u001b[0m\u001b[0;34m\u001b[0m\u001b[0;34m\u001b[0m\u001b[0m\n",
            "\u001b[0;31mTypeError\u001b[0m: Keras symbolic inputs/outputs do not implement `__len__`. You may be trying to pass Keras symbolic inputs/outputs to a TF API that does not register dispatching, preventing Keras from automatically converting the API call to a lambda layer in the Functional Model. This error will also get raised if you try asserting a symbolic input/output directly."
          ]
        }
      ]
    },
    {
      "cell_type": "code",
      "metadata": {
        "id": "hMDMcqhN5dCW"
      },
      "source": [
        ""
      ],
      "execution_count": null,
      "outputs": []
    },
    {
      "cell_type": "code",
      "metadata": {
        "colab": {
          "base_uri": "https://localhost:8080/",
          "height": 172
        },
        "id": "enuCOYQ25c_f",
        "outputId": "fce5be0c-f287-4b91-a53c-3d9d152b1c5e"
      },
      "source": [
        "agent.fit(env, nb_steps=10000, visualize=False, verbose=1)"
      ],
      "execution_count": null,
      "outputs": [
        {
          "output_type": "error",
          "ename": "NameError",
          "evalue": "ignored",
          "traceback": [
            "\u001b[0;31m---------------------------------------------------------------------------\u001b[0m",
            "\u001b[0;31mNameError\u001b[0m                                 Traceback (most recent call last)",
            "\u001b[0;32m<ipython-input-22-e71dcf7426f2>\u001b[0m in \u001b[0;36m<module>\u001b[0;34m()\u001b[0m\n\u001b[0;32m----> 1\u001b[0;31m \u001b[0magent\u001b[0m\u001b[0;34m.\u001b[0m\u001b[0mfit\u001b[0m\u001b[0;34m(\u001b[0m\u001b[0menv\u001b[0m\u001b[0;34m,\u001b[0m \u001b[0mnb_steps\u001b[0m\u001b[0;34m=\u001b[0m\u001b[0;36m10000\u001b[0m\u001b[0;34m,\u001b[0m \u001b[0mvisualize\u001b[0m\u001b[0;34m=\u001b[0m\u001b[0;32mFalse\u001b[0m\u001b[0;34m,\u001b[0m \u001b[0mverbose\u001b[0m\u001b[0;34m=\u001b[0m\u001b[0;36m1\u001b[0m\u001b[0;34m)\u001b[0m\u001b[0;34m\u001b[0m\u001b[0;34m\u001b[0m\u001b[0m\n\u001b[0m",
            "\u001b[0;31mNameError\u001b[0m: name 'agent' is not defined"
          ]
        }
      ]
    },
    {
      "cell_type": "code",
      "metadata": {
        "id": "yi0Kcfq45c8r"
      },
      "source": [
        ""
      ],
      "execution_count": null,
      "outputs": []
    },
    {
      "cell_type": "code",
      "metadata": {
        "id": "PQ7fve7O5c6A"
      },
      "source": [
        "agent.test(env, nb_episodes=5, visualize=True)"
      ],
      "execution_count": null,
      "outputs": []
    },
    {
      "cell_type": "code",
      "metadata": {
        "id": "CE1rMTm65c3a"
      },
      "source": [
        ""
      ],
      "execution_count": null,
      "outputs": []
    },
    {
      "cell_type": "code",
      "metadata": {
        "colab": {
          "base_uri": "https://localhost:8080/",
          "height": 243
        },
        "id": "57qdG5o45c0n",
        "outputId": "1aec086c-f3bf-4632-d37f-541e6094369d"
      },
      "source": [
        "import matplotlib.pyplot as plt\r\n",
        "\r\n",
        "# fit の結果を取得しておく\r\n",
        "history = agent.fit(env, nb_steps=10000, visualize=False, verbose=1)\r\n",
        "\r\n",
        "# 結果を表示\r\n",
        "plt.subplot(2,1,1)\r\n",
        "plt.plot(history.history[\"nb_episode_steps\"])\r\n",
        "plt.ylabel(\"step\")\r\n",
        "\r\n",
        "plt.subplot(2,1,2)\r\n",
        "plt.plot(history.history[\"episode_reward\"])\r\n",
        "plt.xlabel(\"episode\")\r\n",
        "plt.ylabel(\"reward\")\r\n",
        "\r\n",
        "plt.show()  # windowが表示されます。"
      ],
      "execution_count": null,
      "outputs": [
        {
          "output_type": "error",
          "ename": "NameError",
          "evalue": "ignored",
          "traceback": [
            "\u001b[0;31m---------------------------------------------------------------------------\u001b[0m",
            "\u001b[0;31mNameError\u001b[0m                                 Traceback (most recent call last)",
            "\u001b[0;32m<ipython-input-18-f1e2532c0f43>\u001b[0m in \u001b[0;36m<module>\u001b[0;34m()\u001b[0m\n\u001b[1;32m      2\u001b[0m \u001b[0;34m\u001b[0m\u001b[0m\n\u001b[1;32m      3\u001b[0m \u001b[0;31m# fit の結果を取得しておく\u001b[0m\u001b[0;34m\u001b[0m\u001b[0;34m\u001b[0m\u001b[0;34m\u001b[0m\u001b[0m\n\u001b[0;32m----> 4\u001b[0;31m \u001b[0mhistory\u001b[0m \u001b[0;34m=\u001b[0m \u001b[0magent\u001b[0m\u001b[0;34m.\u001b[0m\u001b[0mfit\u001b[0m\u001b[0;34m(\u001b[0m\u001b[0menv\u001b[0m\u001b[0;34m,\u001b[0m \u001b[0mnb_steps\u001b[0m\u001b[0;34m=\u001b[0m\u001b[0;36m10000\u001b[0m\u001b[0;34m,\u001b[0m \u001b[0mvisualize\u001b[0m\u001b[0;34m=\u001b[0m\u001b[0;32mFalse\u001b[0m\u001b[0;34m,\u001b[0m \u001b[0mverbose\u001b[0m\u001b[0;34m=\u001b[0m\u001b[0;36m1\u001b[0m\u001b[0;34m)\u001b[0m\u001b[0;34m\u001b[0m\u001b[0;34m\u001b[0m\u001b[0m\n\u001b[0m\u001b[1;32m      5\u001b[0m \u001b[0;34m\u001b[0m\u001b[0m\n\u001b[1;32m      6\u001b[0m \u001b[0;31m# 結果を表示\u001b[0m\u001b[0;34m\u001b[0m\u001b[0;34m\u001b[0m\u001b[0;34m\u001b[0m\u001b[0m\n",
            "\u001b[0;31mNameError\u001b[0m: name 'agent' is not defined"
          ]
        }
      ]
    },
    {
      "cell_type": "code",
      "metadata": {
        "id": "tQ_SIzp75cxt"
      },
      "source": [
        ""
      ],
      "execution_count": null,
      "outputs": []
    },
    {
      "cell_type": "code",
      "metadata": {
        "id": "4qput0wP5cvJ"
      },
      "source": [
        ""
      ],
      "execution_count": null,
      "outputs": []
    },
    {
      "cell_type": "code",
      "metadata": {
        "id": "qPEU6Qp15cso"
      },
      "source": [
        ""
      ],
      "execution_count": null,
      "outputs": []
    },
    {
      "cell_type": "code",
      "metadata": {
        "id": "-U2nJEZb5cqL"
      },
      "source": [
        ""
      ],
      "execution_count": null,
      "outputs": []
    },
    {
      "cell_type": "code",
      "metadata": {
        "id": "pGNEN87r4153"
      },
      "source": [
        ""
      ],
      "execution_count": null,
      "outputs": []
    },
    {
      "cell_type": "code",
      "metadata": {
        "id": "gOzRUb9W413h"
      },
      "source": [
        ""
      ],
      "execution_count": null,
      "outputs": []
    },
    {
      "cell_type": "code",
      "metadata": {
        "id": "d5EwR4_i411S"
      },
      "source": [
        "import rl.callbacks\r\n",
        "import matplotlib.pyplot as plt\r\n",
        "import matplotlib.animation\r\n",
        "import time\r\n",
        "class ViewLogger(rl.callbacks.Callback):\r\n",
        "    def __init__(self):\r\n",
        "        self.frames = []\r\n",
        "\r\n",
        "    # Callback から継承しています。\r\n",
        "    def on_action_end(self, action, logs):\r\n",
        "        self.frames.append(self.env.render(mode='rgb_array'))\r\n",
        "\r\n",
        "    # 表示用\r\n",
        "    def view(self, interval=5, start_frame=0, end_frame=0):\r\n",
        "        assert start_frame<len(self.frames)\r\n",
        "        if end_frame == 0:\r\n",
        "          end_frame = len(self.frames)\r\n",
        "        elif end_frame > len(self.frames):\r\n",
        "            end_frame = len(self.frames)\r\n",
        "        self.start_frame = start_frame\r\n",
        "        self.t0 = time.time()\r\n",
        "\r\n",
        "        # 表示サイズをここで指定しています。\r\n",
        "        plt.figure(figsize=(2.5,2.5), dpi = 200)\r\n",
        "\r\n",
        "        self.patch = plt.imshow(self.frames[0])\r\n",
        "        plt.axis('off')\r\n",
        "\r\n",
        "        ani = matplotlib.animation.FuncAnimation(plt.gcf(), self._plot, frames=end_frame - start_frame, interval=interval)\r\n",
        "        return ani.to_jshtml()\r\n",
        "\r\n",
        "    def _plot(self, frame):\r\n",
        "        if frame % 200 == 0:\r\n",
        "            print(\"{}f {}m\".format(frame, (time.time()-self.t0)/60))\r\n",
        "        self.patch.set_data(self.frames[frame + self.start_frame])"
      ],
      "execution_count": null,
      "outputs": []
    },
    {
      "cell_type": "code",
      "metadata": {
        "id": "QFsze1qq41yv"
      },
      "source": [
        ""
      ],
      "execution_count": null,
      "outputs": []
    },
    {
      "cell_type": "code",
      "metadata": {
        "colab": {
          "base_uri": "https://localhost:8080/",
          "height": 243
        },
        "id": "Kf0fP-eL41wV",
        "outputId": "98544014-26c2-4c54-f5cb-7aba274f0b8f"
      },
      "source": [
        "view = ViewLogger()\r\n",
        "agent.test(env, nb_episodes=5, visualize=False, callbacks=[view])\r\n",
        "\r\n",
        "from IPython.display import HTML\r\n",
        "HTML(view.view(interval=10, start_frame=0, end_frame=0))"
      ],
      "execution_count": null,
      "outputs": [
        {
          "output_type": "error",
          "ename": "NameError",
          "evalue": "ignored",
          "traceback": [
            "\u001b[0;31m---------------------------------------------------------------------------\u001b[0m",
            "\u001b[0;31mNameError\u001b[0m                                 Traceback (most recent call last)",
            "\u001b[0;32m<ipython-input-20-8589b9c16158>\u001b[0m in \u001b[0;36m<module>\u001b[0;34m()\u001b[0m\n\u001b[1;32m      1\u001b[0m \u001b[0mview\u001b[0m \u001b[0;34m=\u001b[0m \u001b[0mViewLogger\u001b[0m\u001b[0;34m(\u001b[0m\u001b[0;34m)\u001b[0m\u001b[0;34m\u001b[0m\u001b[0;34m\u001b[0m\u001b[0m\n\u001b[0;32m----> 2\u001b[0;31m \u001b[0magent\u001b[0m\u001b[0;34m.\u001b[0m\u001b[0mtest\u001b[0m\u001b[0;34m(\u001b[0m\u001b[0menv\u001b[0m\u001b[0;34m,\u001b[0m \u001b[0mnb_episodes\u001b[0m\u001b[0;34m=\u001b[0m\u001b[0;36m5\u001b[0m\u001b[0;34m,\u001b[0m \u001b[0mvisualize\u001b[0m\u001b[0;34m=\u001b[0m\u001b[0;32mFalse\u001b[0m\u001b[0;34m,\u001b[0m \u001b[0mcallbacks\u001b[0m\u001b[0;34m=\u001b[0m\u001b[0;34m[\u001b[0m\u001b[0mview\u001b[0m\u001b[0;34m]\u001b[0m\u001b[0;34m)\u001b[0m\u001b[0;34m\u001b[0m\u001b[0;34m\u001b[0m\u001b[0m\n\u001b[0m\u001b[1;32m      3\u001b[0m \u001b[0;34m\u001b[0m\u001b[0m\n\u001b[1;32m      4\u001b[0m \u001b[0;32mfrom\u001b[0m \u001b[0mIPython\u001b[0m\u001b[0;34m.\u001b[0m\u001b[0mdisplay\u001b[0m \u001b[0;32mimport\u001b[0m \u001b[0mHTML\u001b[0m\u001b[0;34m\u001b[0m\u001b[0;34m\u001b[0m\u001b[0m\n\u001b[1;32m      5\u001b[0m \u001b[0mHTML\u001b[0m\u001b[0;34m(\u001b[0m\u001b[0mview\u001b[0m\u001b[0;34m.\u001b[0m\u001b[0mview\u001b[0m\u001b[0;34m(\u001b[0m\u001b[0minterval\u001b[0m\u001b[0;34m=\u001b[0m\u001b[0;36m10\u001b[0m\u001b[0;34m,\u001b[0m \u001b[0mstart_frame\u001b[0m\u001b[0;34m=\u001b[0m\u001b[0;36m0\u001b[0m\u001b[0;34m,\u001b[0m \u001b[0mend_frame\u001b[0m\u001b[0;34m=\u001b[0m\u001b[0;36m0\u001b[0m\u001b[0;34m)\u001b[0m\u001b[0;34m)\u001b[0m\u001b[0;34m\u001b[0m\u001b[0;34m\u001b[0m\u001b[0m\n",
            "\u001b[0;31mNameError\u001b[0m: name 'agent' is not defined"
          ]
        }
      ]
    },
    {
      "cell_type": "code",
      "metadata": {
        "id": "qvO5UNMS5B6i"
      },
      "source": [
        ""
      ],
      "execution_count": null,
      "outputs": []
    },
    {
      "cell_type": "code",
      "metadata": {
        "id": "byUkocBs5B33"
      },
      "source": [
        ""
      ],
      "execution_count": null,
      "outputs": []
    },
    {
      "cell_type": "code",
      "metadata": {
        "id": "ay3BRgXW5B1V"
      },
      "source": [
        ""
      ],
      "execution_count": null,
      "outputs": []
    },
    {
      "cell_type": "code",
      "metadata": {
        "id": "J07KeLg55Byx"
      },
      "source": [
        ""
      ],
      "execution_count": null,
      "outputs": []
    },
    {
      "cell_type": "code",
      "metadata": {
        "id": "DFGnnQit5BwE"
      },
      "source": [
        ""
      ],
      "execution_count": null,
      "outputs": []
    },
    {
      "cell_type": "code",
      "metadata": {
        "id": "Iaz-YGfC5Bti"
      },
      "source": [
        ""
      ],
      "execution_count": null,
      "outputs": []
    }
  ]
}
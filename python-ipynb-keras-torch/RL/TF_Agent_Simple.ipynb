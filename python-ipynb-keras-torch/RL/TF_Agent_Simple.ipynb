{
  "nbformat": 4,
  "nbformat_minor": 0,
  "metadata": {
    "kernelspec": {
      "display_name": "Python 3",
      "language": "python",
      "name": "python3"
    },
    "language_info": {
      "codemirror_mode": {
        "name": "ipython",
        "version": 3
      },
      "file_extension": ".py",
      "mimetype": "text/x-python",
      "name": "python",
      "nbconvert_exporter": "python",
      "pygments_lexer": "ipython3",
      "version": "3.7.3"
    },
    "colab": {
      "name": "TF_Agent_Simple.ipynb",
      "private_outputs": true,
      "provenance": []
    }
  },
  "cells": [
    {
      "cell_type": "code",
      "metadata": {
        "id": "HlzpEPqMm_bE"
      },
      "source": [
        "!pip install tf-agents\n",
        "\n",
        "from __future__ import absolute_import, division, print_function\n",
        "import base64\n",
        "import IPython\n",
        "import matplotlib\n",
        "import matplotlib.pyplot as plt\n",
        "import numpy as np\n",
        "import tensorflow as tf\n",
        "import tf_agents"
      ],
      "execution_count": null,
      "outputs": []
    },
    {
      "cell_type": "code",
      "metadata": {
        "id": "Wkr9_njPm_bJ"
      },
      "source": [
        "env = tf_agents.environments.suite_gym.load('CartPole-v1')\n",
        "env = tf_agents.environments.tf_py_environment.TFPyEnvironment(env)"
      ],
      "execution_count": null,
      "outputs": []
    },
    {
      "cell_type": "code",
      "metadata": {
        "id": "uD5afKmMm_bU"
      },
      "source": [
        "q_net = tf_agents.networks.q_network.QNetwork(env.observation_spec(), env.action_spec())\n",
        "train_step_counter = tf.Variable(0)\n",
        "\n",
        "agent = tf_agents.agents.dqn.dqn_agent.DqnAgent(env.time_step_spec(),\n",
        "                                                env.action_spec(),\n",
        "                                                q_network=q_net,\n",
        "                                                optimizer=tf.compat.v1.train.AdamOptimizer(learning_rate=0.001),\n",
        "                                                td_errors_loss_fn=tf_agents.utils.common.element_wise_squared_loss,\n",
        "                                                train_step_counter=train_step_counter)\n",
        "\n",
        "agent.initialize()\n",
        "\n",
        "replay_buffer = tf_agents.replay_buffers.tf_uniform_replay_buffer.TFUniformReplayBuffer(data_spec=agent.collect_data_spec,\n",
        "                                                                                        batch_size=env.batch_size,\n",
        "                                                                                        max_length=100000)"
      ],
      "execution_count": null,
      "outputs": []
    },
    {
      "cell_type": "code",
      "metadata": {
        "id": "u2xTxtVWm_bX"
      },
      "source": [
        "def compute_avg_return(environment, policy, num_episodes=10):\n",
        "    total_return = 0.0\n",
        "    for _ in range(num_episodes):\n",
        "\n",
        "        time_step = environment.reset()\n",
        "        episode_return = 0.0\n",
        "\n",
        "        while not time_step.is_last():\n",
        "            action_step = policy.action(time_step)\n",
        "            time_step = environment.step(action_step.action)\n",
        "            episode_return += time_step.reward\n",
        "        total_return += episode_return\n",
        "\n",
        "    avg_return = total_return / num_episodes\n",
        "    return avg_return.numpy()[0]\n",
        "\n",
        "def collect_step(environment, policy, buffer):\n",
        "    time_step = environment.current_time_step()\n",
        "    action_step = policy.action(time_step)\n",
        "    next_time_step = environment.step(action_step.action)\n",
        "    traj = tf_agents.trajectories.trajectory.from_transition(time_step, action_step, next_time_step)\n",
        "\n",
        "    # Add trajectory to the replay buffer\n",
        "    buffer.add_batch(traj)\n",
        "\n",
        "# Evaluate the agent's policy once before training.\n",
        "avg_return = compute_avg_return(env, agent.policy, 5)\n",
        "returns = [avg_return]"
      ],
      "execution_count": null,
      "outputs": []
    },
    {
      "cell_type": "code",
      "metadata": {
        "id": "sP1oB3arm_be"
      },
      "source": [
        "collect_steps_per_iteration = 1\n",
        "batch_size = 64\n",
        "dataset = replay_buffer.as_dataset(num_parallel_calls=3, \n",
        "                                    sample_batch_size=batch_size, \n",
        "                                    num_steps=2).prefetch(3)\n",
        "iterator = iter(dataset)\n",
        "num_iterations = 10000\n",
        "env.reset()\n",
        "\n",
        "for _ in range(batch_size):\n",
        "    collect_step(env, agent.policy, replay_buffer)\n",
        "\n",
        "for _ in range(num_iterations):\n",
        "    # Collect a few steps using collect_policy and save to the replay buffer.\n",
        "    for _ in range(collect_steps_per_iteration):\n",
        "        collect_step(env, agent.collect_policy, replay_buffer)\n",
        "\n",
        "    # Sample a batch of data from the buffer and update the agent's network.\n",
        "    experience, unused_info = next(iterator)\n",
        "    train_loss = agent.train(experience).loss\n",
        "\n",
        "    step = agent.train_step_counter.numpy()\n",
        "\n",
        "    # Print loss every 200 steps.\n",
        "    if step % 200 == 0:\n",
        "        print('step = {0}: loss = {1}'.format(step, train_loss))\n",
        "\n",
        "    # Evaluate agent's performance every 1000 steps.\n",
        "    if step % 1000 == 0:\n",
        "        avg_return = compute_avg_return(env, agent.policy, 5)\n",
        "        print('step = {0}: Average Return = {1}'.format(step, avg_return))\n",
        "        returns.append(avg_return)"
      ],
      "execution_count": null,
      "outputs": []
    },
    {
      "cell_type": "code",
      "metadata": {
        "id": "ohEQOa1Hm_bg"
      },
      "source": [
        "plt.figure(figsize=(12,8))\n",
        "iterations = range(0, num_iterations + 1, 1000)\n",
        "plt.plot(iterations, returns)\n",
        "plt.ylabel('Average Return')\n",
        "plt.xlabel('Iterations')\n",
        "plt.show()"
      ],
      "execution_count": null,
      "outputs": []
    },
    {
      "cell_type": "code",
      "metadata": {
        "id": "exk_1uO9m_bj"
      },
      "source": [
        ""
      ],
      "execution_count": null,
      "outputs": []
    }
  ]
}